{
 "cells": [
  {
   "cell_type": "markdown",
   "metadata": {},
   "source": [
    "# 15 puzzle"
   ]
  },
  {
   "cell_type": "markdown",
   "metadata": {},
   "source": [
    "<img src=\"img/1.jpg\">"
   ]
  },
  {
   "cell_type": "markdown",
   "metadata": {},
   "source": [
    "The 15 puzzle, a classic tile-sliding challenge, boasts countless variations of the \"solved\" state. I'm focusing on the iconic arrangement pictured above, where tiles 1 through 15 slide across a 4x4 grid, leaving one space vacant.\n",
    "\n",
    "The rules are straightforward: move any tile adjacent to the empty space into it. In the solved state, for example, you can swap the 15 rightward or the 12 downward.\n",
    "\n",
    "No matter how scrambled the tiles, this program will chart the shortest path back to order."
   ]
  },
  {
   "cell_type": "markdown",
   "metadata": {},
   "source": [
    "## Algorithm\n",
    "In addition to the representation work that I'm about to do, the main algorithm for solving the puzzle is A* search. The reason for this is that the 15 puzzle is basically a search problem. The heuristic and all the details will be explained on each step of this notebook."
   ]
  },
  {
   "cell_type": "markdown",
   "metadata": {},
   "source": [
    "## Libraries"
   ]
  },
  {
   "cell_type": "code",
   "execution_count": 1,
   "metadata": {},
   "outputs": [],
   "source": [
    "# I need the deepcopy function from copy library to avoid Python's problems with memory and copies\n",
    "# The heapq library will be used in the search. Specifically I need a min-heap for the frontier of exploration\n",
    "from copy import deepcopy\n",
    "import heapq"
   ]
  },
  {
   "cell_type": "markdown",
   "metadata": {},
   "source": [
    "## Heuristic function"
   ]
  },
  {
   "cell_type": "markdown",
   "metadata": {},
   "source": [
    "The heuristic function that I use in this case is based on the Manhattan distance: given the grid (which represents the puzzle with a matrix where the empty space is represented as a zero), the function returns the sum of the Manhattan distance of each pice in the puzzle with its final position (i.e the Manhattan distance of 1 plus the Manhattan distance of 2 ...)"
   ]
  },
  {
   "cell_type": "code",
   "execution_count": 2,
   "metadata": {},
   "outputs": [],
   "source": [
    "def heuristic(grid:list) -> int:\n",
    "    positions = {1:[0,0], 2:[0,1], 3:[0,2], 4:[0,3], 5:[1,0], 6:[1,1], 7:[1,2], 8:[1,3], 9:[2,0], 10:[2,1], 11:[2,2], 12:[2,3], 13:[3,0], 14:[3,1], 15:[3,2], 0:[3,3]}\n",
    "    result = 0\n",
    "    for row in range(4):\n",
    "        for column in range(4):\n",
    "            value = grid[row][column]\n",
    "            if value == 0: continue\n",
    "            result += abs(positions[value][0] - row) + abs(positions[value][1] - column)\n",
    "    return result"
   ]
  },
  {
   "cell_type": "markdown",
   "metadata": {},
   "source": [
    "## Representation"
   ]
  },
  {
   "cell_type": "markdown",
   "metadata": {},
   "source": [
    "To represent the states of the puzzle in nodes I created the following class"
   ]
  },
  {
   "cell_type": "code",
   "execution_count": 3,
   "metadata": {},
   "outputs": [],
   "source": [
    "class Node:\n",
    "    # The constructor of the class\n",
    "    # The numbers of the puzzle are expected to be a list of integers\n",
    "    # i.e The puzzle:\n",
    "    #   [1,2,3,4]\n",
    "    #   [5,6,7,8]\n",
    "    #   [9,10,11,12]\n",
    "    #   [13,14,15,0]\n",
    "    #   is expected to be written as [1,2,3,4,5,6,7,8,9,10,11,12,13,14,15,0]\n",
    "    # The weight of the Node is the distance between the Node and the root of the tree\n",
    "    # The sequence of the nodes is an attribute of the class where I will write the movements for solving the puzzle\n",
    "    def __init__(self, numbers:list, weight:int = 0, sequence:str = \"\"):\n",
    "        self.grid = [numbers[:4], numbers[4:8], numbers[8:12], numbers[12:]]\n",
    "        self.h = heuristic(self.grid) # the value of the heuristic function\n",
    "        self.w = weight\n",
    "        self.f = self.h + self.w # the value of the function for A*: the heuristic plus the weight\n",
    "        self.sequence = sequence\n",
    "        # I will create another attribute named \"empty\" to know where is the empty space of the puzzle. It will be helpfull for the transition functions (to validate if a movement is possible)\n",
    "        for i, num in enumerate(numbers):\n",
    "            if num == 0: self.empty = [i//4, i % 4]\n",
    "\n",
    "    # Let's create some magic methods\n",
    "    def __eq__(self, other): \n",
    "        # Two nodes are equal is they have the same grid\n",
    "        return self.grid == other.grid\n",
    "    \n",
    "    def __lt__(self, other):\n",
    "        # To be able to sorted the nodes in the search frontier using the minor values of the f function\n",
    "        return self.f < other.f\n",
    "    \n",
    "    def __str__(self):\n",
    "        # If we print the node, it will print the grid\n",
    "        return str(self.grid[0]) + \"\\n\" + str(self.grid[1]) + \"\\n\" + str(self.grid[2]) + \"\\n\" + str(self.grid[3])\n",
    "    \n",
    "    # Some methods to create copies and deepcopies\n",
    "    def __copy__(self):\n",
    "        return Node(self.grid[0] + self.grid[1] + self.grid[2] + self.grid[3], self.h, self.w, self.sequence)\n",
    "    \n",
    "    def __deepcopy__(self, memo):\n",
    "        row1 = deepcopy(self.grid[0], memo)\n",
    "        row2 = deepcopy(self.grid[1], memo)\n",
    "        row3 = deepcopy(self.grid[2], memo)\n",
    "        row4 = deepcopy(self.grid[3], memo)\n",
    "        weight = deepcopy(self.w, memo)\n",
    "        sequence = deepcopy(self.sequence, memo)\n",
    "        return Node(row1 + row2 + row3 + row4, weight, sequence)"
   ]
  },
  {
   "cell_type": "code",
   "execution_count": 4,
   "metadata": {},
   "outputs": [],
   "source": [
    "# A function to create a node. Specifically the initial node of the exploration tree\n",
    "def create_node() -> Node:\n",
    "    # The input is a line with de integers of the puzzle.\n",
    "        # Please write them following the order in which they are in the puzzle\n",
    "            # i.e\n",
    "            #   [1,2,3,4]\n",
    "            #   [5,6,7,8]\n",
    "            #   [9,10,11,12]\n",
    "            #   [13,14,15,0]\n",
    "            #   is expected to be written as 1 2 3 4 5 6 7 8 9 10 11 12 13 14 15 0\n",
    "    numbers = list(map(int, input().strip().split()))\n",
    "    # The validation of the input and the puzzle\n",
    "    if len(numbers) != 16: raise ValueError \n",
    "    control = {0,1,2,3,4,5,6,7,8,9,10,11,12,13,14,15}\n",
    "    for n in numbers: \n",
    "        if n not in control: raise ValueError\n",
    "        control.discard(n)\n",
    "        \n",
    "    return Node(numbers)"
   ]
  },
  {
   "cell_type": "markdown",
   "metadata": {},
   "source": [
    "## Evaluation function"
   ]
  },
  {
   "cell_type": "markdown",
   "metadata": {},
   "source": [
    "The evaluation function is needed to know when the algorithm finish the search"
   ]
  },
  {
   "cell_type": "code",
   "execution_count": 5,
   "metadata": {},
   "outputs": [],
   "source": [
    "def evaluate(candidate:Node) -> bool:\n",
    "    # First it creates a node with the solved state\n",
    "    solved = Node([1, 2, 3, 4, 5, 6, 7, 8, 9, 10, 11, 12, 13, 14, 15, 0])\n",
    "    # And it compares if the given candidate is solved or not\n",
    "    return candidate == solved"
   ]
  },
  {
   "cell_type": "markdown",
   "metadata": {},
   "source": [
    "## Transition functions"
   ]
  },
  {
   "cell_type": "markdown",
   "metadata": {},
   "source": [
    "These functions represents the movements of the puzzle. Their names indicate the piece of the puzzle to move. In other words, their names indicate their position respectively to the empty space. For example, the function \"down\" is for moving up the piece that is down from the empty space. Or the function \"right\" is for moving to the left the piece that is right from the empty space.\n",
    "\n",
    "Their structure is the following:\n",
    "- Validate if the movement is possible\n",
    "- Create a new node for the new movement from the given node\n",
    "- Move the piece\n",
    "- Update the information of the node (the position of the empty space, the new weight, the new value of the heuristic, and the new value of the f function)"
   ]
  },
  {
   "cell_type": "code",
   "execution_count": 6,
   "metadata": {},
   "outputs": [],
   "source": [
    "def down(node:Node) -> Node:\n",
    "    if node.empty[0] == 3: raise IndexError\n",
    "    row, column = node.empty[0], node.empty[1]\n",
    "    \n",
    "    result = deepcopy(node)\n",
    "    result.grid[row + 1][column], result.grid[row][column] = result.grid[row][column], result.grid[row + 1][column]\n",
    "    result.empty[0] += 1\n",
    "    \n",
    "    result.sequence += \"D\"\n",
    "    result.w += 1\n",
    "    result.h = heuristic(result.grid)\n",
    "    result.f = result.w + result.h\n",
    "    \n",
    "    return result"
   ]
  },
  {
   "cell_type": "code",
   "execution_count": 7,
   "metadata": {},
   "outputs": [],
   "source": [
    "def up(node:Node) -> Node:\n",
    "    if node.empty[0] == 0: raise IndexError\n",
    "    row, column = node.empty[0], node.empty[1]\n",
    "\n",
    "    result = deepcopy(node)\n",
    "    result.grid[row - 1][column], result.grid[row][column] = result.grid[row][column], result.grid[row - 1][column]\n",
    "    result.empty[0] -= 1\n",
    "    \n",
    "    result.sequence += \"U\"\n",
    "    result.w += 1\n",
    "    result.h = heuristic(result.grid)\n",
    "    result.f = result.w + result.h\n",
    "\n",
    "    return result"
   ]
  },
  {
   "cell_type": "code",
   "execution_count": 8,
   "metadata": {},
   "outputs": [],
   "source": [
    "def right(node:Node) -> Node:\n",
    "    if node.empty[1] == 3: raise IndexError\n",
    "    row, column = node.empty[0], node.empty[1]\n",
    "    \n",
    "    result = deepcopy(node)\n",
    "    result.grid[row][column + 1], result.grid[row][column] = result.grid[row][column], result.grid[row][column + 1]\n",
    "    result.empty[1] += 1\n",
    "    \n",
    "    result.sequence += \"R\"\n",
    "    result.w += 1\n",
    "    result.h = heuristic(result.grid)\n",
    "    result.f = result.w + result.h\n",
    "\n",
    "    return result"
   ]
  },
  {
   "cell_type": "code",
   "execution_count": 9,
   "metadata": {},
   "outputs": [],
   "source": [
    "def left(node:Node) -> Node:\n",
    "    if node.empty[1] == 0: raise IndexError\n",
    "    row, column = node.empty[0], node.empty[1]\n",
    "    \n",
    "    result = deepcopy(node)\n",
    "    result.grid[row][column - 1], result.grid[row][column] = result.grid[row][column], result.grid[row][column - 1]\n",
    "    result.empty[1] -= 1\n",
    "    \n",
    "    result.sequence += \"L\"\n",
    "    result.w += 1\n",
    "    result.h = heuristic(result.grid)\n",
    "    result.f = result.w + result.h\n",
    "\n",
    "    return result"
   ]
  },
  {
   "cell_type": "markdown",
   "metadata": {},
   "source": [
    "## A* Search"
   ]
  },
  {
   "cell_type": "markdown",
   "metadata": {},
   "source": [
    "First, the creation of the first node (input or the state of th puzzle)"
   ]
  },
  {
   "cell_type": "code",
   "execution_count": 10,
   "metadata": {},
   "outputs": [],
   "source": [
    "originNode = create_node()"
   ]
  },
  {
   "cell_type": "code",
   "execution_count": 12,
   "metadata": {},
   "outputs": [
    {
     "name": "stdout",
     "output_type": "stream",
     "text": [
      "[9, 1, 3, 15]\n",
      "[13, 8, 14, 10]\n",
      "[4, 12, 2, 6]\n",
      "[7, 0, 11, 5]\n"
     ]
    }
   ],
   "source": [
    "# Example\n",
    "print(originNode)"
   ]
  },
  {
   "cell_type": "markdown",
   "metadata": {},
   "source": [
    "Finally, the search of the shortest path to the solution of the puzzle"
   ]
  },
  {
   "cell_type": "code",
   "execution_count": 13,
   "metadata": {},
   "outputs": [
    {
     "name": "stdout",
     "output_type": "stream",
     "text": [
      "Explored nodes: 542898\n",
      "Original state of the puzzle:\n",
      "[9, 1, 3, 15]\n",
      "[13, 8, 14, 10]\n",
      "[4, 12, 2, 6]\n",
      "[7, 0, 11, 5]\n",
      "Solved state of the puzzle:\n",
      "[1, 2, 3, 4]\n",
      "[5, 6, 7, 8]\n",
      "[9, 10, 11, 12]\n",
      "[13, 14, 15, 0]\n",
      "Sequence of moves:\n",
      "ULUURDDRURDDLURUULLDDRRUULLDDDLUURRDLDRRULLURRULDDDR\n"
     ]
    }
   ],
   "source": [
    "# A counter for the number of explored nodes\n",
    "exploredNodes = 0\n",
    "# This hash table is very important. It contains the explored nodes and their minimum value of f. In consequence the algorithm will not explore a subtree with a bigger value of f.\n",
    "subtreesExplored = {}\n",
    "\n",
    "# The creation of the frontier\n",
    "frontier = [originNode]\n",
    "# In order to find the optimal solution, the algorithm needs to explore the nodes with the smallest value of f. To achieve this, the frontier needs to be a minheap.\n",
    "heapq.heapify(frontier)\n",
    "\n",
    "# While the frontier is not empty, the algorithm will continue the exploration\n",
    "while frontier:\n",
    "    # It takes out a node from the frontier (the node with the smallest value of f)\n",
    "    node = heapq.heappop(frontier)\n",
    "\n",
    "    # It evaluates if it has already explored that node with a smaller value of f\n",
    "    if str(node.grid) in subtreesExplored and subtreesExplored[str(node.grid)] <= node.f: continue\n",
    "    else: subtreesExplored.update({str(node.grid): node.f})\n",
    "\n",
    "    # If the given node is the solved state, the search is completed \n",
    "    if evaluate(node): break\n",
    "    # If not, it explores the node\n",
    "    exploredNodes += 1\n",
    "\n",
    "    # It applies the transition functions and if they return a node, the algorithm push it into the frontier \n",
    "    try: \n",
    "        u = deepcopy(up(node))\n",
    "        heapq.heappush(frontier, u)\n",
    "    except: pass\n",
    "    try:\n",
    "        d = deepcopy(down(node))\n",
    "        heapq.heappush(frontier, d)\n",
    "    except: pass\n",
    "    try:\n",
    "        r = deepcopy(right(node))\n",
    "        heapq.heappush(frontier, r)\n",
    "    except: pass\n",
    "    try:\n",
    "        l = deepcopy(left(node))\n",
    "        heapq.heappush(frontier, l)\n",
    "    except: pass\n",
    "\n",
    "# When the search is over the output is the following\n",
    "print(f\"Explored nodes: {exploredNodes}\")\n",
    "print(\"Original state of the puzzle:\")\n",
    "print(originNode)\n",
    "print(\"Solved state of the puzzle:\")\n",
    "print(node)\n",
    "print(\"Sequence of moves:\")\n",
    "print(node.sequence)"
   ]
  },
  {
   "cell_type": "markdown",
   "metadata": {},
   "source": [
    "## Conclusions"
   ]
  },
  {
   "cell_type": "markdown",
   "metadata": {},
   "source": [
    "With the limitations of the algorithm, given a valid state of the puzzle, its performance works well in most of the cases. Remember that the main goal of the algorithm is to find the shortest possible solution to the puzzle.\n",
    "\n",
    "However, in some cases the exploration will be too long because the initial state is too difficult for our heuristic. So, in those cases the algorithm is limited to the memory of the computer where it is being executed. (It may take a long time to find the solution, but it will get it anyway)."
   ]
  }
 ],
 "metadata": {
  "kernelspec": {
   "display_name": "Python 3",
   "language": "python",
   "name": "python3"
  },
  "language_info": {
   "codemirror_mode": {
    "name": "ipython",
    "version": 3
   },
   "file_extension": ".py",
   "mimetype": "text/x-python",
   "name": "python",
   "nbconvert_exporter": "python",
   "pygments_lexer": "ipython3",
   "version": "3.12.1"
  }
 },
 "nbformat": 4,
 "nbformat_minor": 2
}
