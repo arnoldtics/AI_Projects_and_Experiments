{
 "cells": [
  {
   "cell_type": "markdown",
   "metadata": {},
   "source": [
    "# 15 puzzle"
   ]
  },
  {
   "cell_type": "markdown",
   "metadata": {},
   "source": [
    "<img src=\"img/1.jpg\">"
   ]
  },
  {
   "cell_type": "markdown",
   "metadata": {},
   "source": [
    "The 15 puzzle, a classic tile-sliding challenge, boasts countless variations of the \"solved\" state. I'm focusing on the iconic arrangement pictured above, where tiles 1 through 15 slide across a 4x4 grid, leaving one space vacant.\n",
    "\n",
    "The rules are straightforward: move any tile adjacent to the empty space into it. In the solved state, for example, you can swap the 15 rightward or the 12 downward.\n",
    "\n",
    "No matter how scrambled the tiles, this program will chart the shortest path back to order."
   ]
  },
  {
   "cell_type": "markdown",
   "metadata": {},
   "source": [
    "## Algorithm\n",
    "In addition to the representation work that I'm about to do, the main algorithm for solving the puzzle is A* search. The reason for this is that the 15 puzzle is basically a search problem. The heuristic and all the details will be explained on each step of this notebook."
   ]
  },
  {
   "cell_type": "code",
   "execution_count": null,
   "metadata": {},
   "outputs": [],
   "source": []
  }
 ],
 "metadata": {
  "kernelspec": {
   "display_name": "Python 3",
   "language": "python",
   "name": "python3"
  },
  "language_info": {
   "name": "python",
   "version": "3.12.1"
  }
 },
 "nbformat": 4,
 "nbformat_minor": 2
}
