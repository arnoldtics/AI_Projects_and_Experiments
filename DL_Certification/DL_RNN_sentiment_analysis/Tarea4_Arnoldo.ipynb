{
 "cells": [
  {
   "cell_type": "markdown",
   "id": "94151ee9-2fdf-4988-ac53-45ceec8e8e2b",
   "metadata": {},
   "source": [
    "# Escuela de ML y DL Módulo 2\n",
    "# Tarea 4. RNN para el análisis de sentimientos en tweets\n",
    "# Arnoldo Fernando Chue Sánchez\n",
    "# arnoldwork20@gmail.com\n",
    "# Agosto de 2024"
   ]
  },
  {
   "cell_type": "markdown",
   "id": "d4f6f8c0-e957-410b-bd73-04dfba51ccc1",
   "metadata": {},
   "source": [
    "## Contenido\n",
    "1. Planteamiento del problema\n",
    "2. Planteamiento de la solución\n",
    "3. Ejemplo de ejecución\n",
    "4. Conclusiones\n",
    "5. Referencias"
   ]
  },
  {
   "cell_type": "markdown",
   "id": "e06256ff-d0ba-4751-8b5c-488b56b22a30",
   "metadata": {},
   "source": [
    "## 1. Planteamiento del problema"
   ]
  },
  {
   "cell_type": "markdown",
   "id": "5d7bc98a-b401-4a73-9a1f-d4dd8edc426f",
   "metadata": {},
   "source": [
    "Usando la libreta de sentimientos (enojo, alegría, neutralidad, etc.) con la RNN (explicada en la sesión 6 y 7), deberá realizar lo siguiente:\n",
    "- Usar el dataset airlines_tweets.zip para realizar un análisis de sentimientos\n",
    "- Crear un modelo de RNN entrenado para hacer clasificación multiclase\n",
    "- Hacer un par de pruebas con textos de su autoría y hacer un reporte de los resultados\n",
    "\n",
    "NOTA: Se calificará también su análisis del dataset; su analogía y razonamiento de qué columnas usar y cuáles descartar. A diferencia de la clase que se vio una clasificación binaria, este dataset es multiclase.lase."
   ]
  },
  {
   "cell_type": "markdown",
   "id": "f0dea10d-02c9-4f54-ba23-759fc8034479",
   "metadata": {},
   "source": [
    "## 2. Planteamiento de la solución"
   ]
  },
  {
   "cell_type": "markdown",
   "id": "e6cf82b6-c5f4-41c4-866c-a02e98496eb4",
   "metadata": {},
   "source": [
    "En primer lugar importamos algunas de las librerías que vamos a necesitar:"
   ]
  },
  {
   "cell_type": "code",
   "execution_count": 1,
   "id": "1fb82b93-9089-427e-b3f3-f0f5921ae203",
   "metadata": {},
   "outputs": [],
   "source": [
    "import warnings\n",
    "warnings.filterwarnings('ignore')"
   ]
  },
  {
   "cell_type": "code",
   "execution_count": 26,
   "id": "3af4f6db-6b65-427c-ac40-78d2c7d868c2",
   "metadata": {},
   "outputs": [],
   "source": [
    "import re\n",
    "import os\n",
    "import numpy as np\n",
    "import pandas as pd\n",
    "import matplotlib.pyplot as plt\n",
    "import seaborn as sns\n",
    "from sklearn.model_selection import train_test_split\n",
    "from sklearn.preprocessing import LabelEncoder\n",
    "import tensorflow as tf\n",
    "from tensorflow import keras\n",
    "from tensorflow.keras.preprocessing.text import Tokenizer\n",
    "from tensorflow.keras.preprocessing.sequence import pad_sequences"
   ]
  },
  {
   "cell_type": "markdown",
   "id": "00b779d5-0e7f-46dd-b6df-e6adfadb63ee",
   "metadata": {},
   "source": [
    "Específicamente para esta práctica necesitamos herramientas para procesar el lenguaje natural, por lo que agregamos la librería nltk"
   ]
  },
  {
   "cell_type": "code",
   "execution_count": 3,
   "id": "7dc1869a-5e8d-4b8a-9a9b-25db70935873",
   "metadata": {},
   "outputs": [
    {
     "name": "stderr",
     "output_type": "stream",
     "text": [
      "[nltk_data] Downloading package stopwords to\n",
      "[nltk_data]     C:\\Users\\Fernando\\AppData\\Roaming\\nltk_data...\n",
      "[nltk_data]   Package stopwords is already up-to-date!\n",
      "[nltk_data] Downloading package punkt to\n",
      "[nltk_data]     C:\\Users\\Fernando\\AppData\\Roaming\\nltk_data...\n",
      "[nltk_data]   Package punkt is already up-to-date!\n",
      "[nltk_data] Downloading package punkt_tab to\n",
      "[nltk_data]     C:\\Users\\Fernando\\AppData\\Roaming\\nltk_data...\n",
      "[nltk_data]   Package punkt_tab is already up-to-date!\n",
      "[nltk_data] Downloading package wordnet to\n",
      "[nltk_data]     C:\\Users\\Fernando\\AppData\\Roaming\\nltk_data...\n",
      "[nltk_data]   Package wordnet is already up-to-date!\n",
      "[nltk_data] Downloading package omw-1.4 to\n",
      "[nltk_data]     C:\\Users\\Fernando\\AppData\\Roaming\\nltk_data...\n",
      "[nltk_data]   Package omw-1.4 is already up-to-date!\n"
     ]
    },
    {
     "data": {
      "text/plain": [
       "True"
      ]
     },
     "execution_count": 3,
     "metadata": {},
     "output_type": "execute_result"
    }
   ],
   "source": [
    "import nltk\n",
    "from nltk.corpus import stopwords\n",
    "nltk.download(\"stopwords\")\n",
    "nltk.download(\"punkt\")\n",
    "nltk.download(\"punkt_tab\")\n",
    "nltk.download(\"wordnet\")\n",
    "nltk.download(\"omw-1.4\")"
   ]
  },
  {
   "cell_type": "markdown",
   "id": "426b5f87-a992-4b7e-9816-e12c605ba291",
   "metadata": {},
   "source": [
    "También verifiquemos que disponemos de la GPU"
   ]
  },
  {
   "cell_type": "code",
   "execution_count": 4,
   "id": "489bdbcb-3431-483b-9d1a-6987d9a6a713",
   "metadata": {},
   "outputs": [
    {
     "data": {
      "text/plain": [
       "[PhysicalDevice(name='/physical_device:GPU:0', device_type='GPU')]"
      ]
     },
     "execution_count": 4,
     "metadata": {},
     "output_type": "execute_result"
    }
   ],
   "source": [
    "tf.config.list_physical_devices('GPU')"
   ]
  },
  {
   "cell_type": "code",
   "execution_count": 5,
   "id": "5ba80716-b0ed-49a4-8adb-a97dfd85e25f",
   "metadata": {},
   "outputs": [],
   "source": [
    "Path = \"\""
   ]
  },
  {
   "cell_type": "markdown",
   "id": "855e2f02-9711-417d-b57e-d2848288d209",
   "metadata": {},
   "source": [
    "Comenzemos con la exploración de nuestros datos. Lo primero es que descomprimimos el .zip y optamos por usar el csv en lugar del SQL para agilizar el análisis"
   ]
  },
  {
   "cell_type": "code",
   "execution_count": 8,
   "id": "43803961-1d25-47f8-87a7-3bcb860521d2",
   "metadata": {},
   "outputs": [],
   "source": [
    "df1 = pd.read_csv(Path+\"Tweets.csv\")"
   ]
  },
  {
   "cell_type": "code",
   "execution_count": 9,
   "id": "bee782aa-0cc2-4529-81de-0ff766fe6f61",
   "metadata": {},
   "outputs": [
    {
     "data": {
      "text/html": [
       "<div>\n",
       "<style scoped>\n",
       "    .dataframe tbody tr th:only-of-type {\n",
       "        vertical-align: middle;\n",
       "    }\n",
       "\n",
       "    .dataframe tbody tr th {\n",
       "        vertical-align: top;\n",
       "    }\n",
       "\n",
       "    .dataframe thead th {\n",
       "        text-align: right;\n",
       "    }\n",
       "</style>\n",
       "<table border=\"1\" class=\"dataframe\">\n",
       "  <thead>\n",
       "    <tr style=\"text-align: right;\">\n",
       "      <th></th>\n",
       "      <th>tweet_id</th>\n",
       "      <th>airline_sentiment</th>\n",
       "      <th>airline_sentiment_confidence</th>\n",
       "      <th>negativereason</th>\n",
       "      <th>negativereason_confidence</th>\n",
       "      <th>airline</th>\n",
       "      <th>airline_sentiment_gold</th>\n",
       "      <th>name</th>\n",
       "      <th>negativereason_gold</th>\n",
       "      <th>retweet_count</th>\n",
       "      <th>text</th>\n",
       "      <th>tweet_coord</th>\n",
       "      <th>tweet_created</th>\n",
       "      <th>tweet_location</th>\n",
       "      <th>user_timezone</th>\n",
       "    </tr>\n",
       "  </thead>\n",
       "  <tbody>\n",
       "    <tr>\n",
       "      <th>0</th>\n",
       "      <td>570306133677760513</td>\n",
       "      <td>neutral</td>\n",
       "      <td>1.0000</td>\n",
       "      <td>NaN</td>\n",
       "      <td>NaN</td>\n",
       "      <td>Virgin America</td>\n",
       "      <td>NaN</td>\n",
       "      <td>cairdin</td>\n",
       "      <td>NaN</td>\n",
       "      <td>0</td>\n",
       "      <td>@VirginAmerica What @dhepburn said.</td>\n",
       "      <td>NaN</td>\n",
       "      <td>2015-02-24 11:35:52 -0800</td>\n",
       "      <td>NaN</td>\n",
       "      <td>Eastern Time (US &amp; Canada)</td>\n",
       "    </tr>\n",
       "    <tr>\n",
       "      <th>1</th>\n",
       "      <td>570301130888122368</td>\n",
       "      <td>positive</td>\n",
       "      <td>0.3486</td>\n",
       "      <td>NaN</td>\n",
       "      <td>0.0000</td>\n",
       "      <td>Virgin America</td>\n",
       "      <td>NaN</td>\n",
       "      <td>jnardino</td>\n",
       "      <td>NaN</td>\n",
       "      <td>0</td>\n",
       "      <td>@VirginAmerica plus you've added commercials t...</td>\n",
       "      <td>NaN</td>\n",
       "      <td>2015-02-24 11:15:59 -0800</td>\n",
       "      <td>NaN</td>\n",
       "      <td>Pacific Time (US &amp; Canada)</td>\n",
       "    </tr>\n",
       "    <tr>\n",
       "      <th>2</th>\n",
       "      <td>570301083672813571</td>\n",
       "      <td>neutral</td>\n",
       "      <td>0.6837</td>\n",
       "      <td>NaN</td>\n",
       "      <td>NaN</td>\n",
       "      <td>Virgin America</td>\n",
       "      <td>NaN</td>\n",
       "      <td>yvonnalynn</td>\n",
       "      <td>NaN</td>\n",
       "      <td>0</td>\n",
       "      <td>@VirginAmerica I didn't today... Must mean I n...</td>\n",
       "      <td>NaN</td>\n",
       "      <td>2015-02-24 11:15:48 -0800</td>\n",
       "      <td>Lets Play</td>\n",
       "      <td>Central Time (US &amp; Canada)</td>\n",
       "    </tr>\n",
       "    <tr>\n",
       "      <th>3</th>\n",
       "      <td>570301031407624196</td>\n",
       "      <td>negative</td>\n",
       "      <td>1.0000</td>\n",
       "      <td>Bad Flight</td>\n",
       "      <td>0.7033</td>\n",
       "      <td>Virgin America</td>\n",
       "      <td>NaN</td>\n",
       "      <td>jnardino</td>\n",
       "      <td>NaN</td>\n",
       "      <td>0</td>\n",
       "      <td>@VirginAmerica it's really aggressive to blast...</td>\n",
       "      <td>NaN</td>\n",
       "      <td>2015-02-24 11:15:36 -0800</td>\n",
       "      <td>NaN</td>\n",
       "      <td>Pacific Time (US &amp; Canada)</td>\n",
       "    </tr>\n",
       "    <tr>\n",
       "      <th>4</th>\n",
       "      <td>570300817074462722</td>\n",
       "      <td>negative</td>\n",
       "      <td>1.0000</td>\n",
       "      <td>Can't Tell</td>\n",
       "      <td>1.0000</td>\n",
       "      <td>Virgin America</td>\n",
       "      <td>NaN</td>\n",
       "      <td>jnardino</td>\n",
       "      <td>NaN</td>\n",
       "      <td>0</td>\n",
       "      <td>@VirginAmerica and it's a really big bad thing...</td>\n",
       "      <td>NaN</td>\n",
       "      <td>2015-02-24 11:14:45 -0800</td>\n",
       "      <td>NaN</td>\n",
       "      <td>Pacific Time (US &amp; Canada)</td>\n",
       "    </tr>\n",
       "  </tbody>\n",
       "</table>\n",
       "</div>"
      ],
      "text/plain": [
       "             tweet_id airline_sentiment  airline_sentiment_confidence  \\\n",
       "0  570306133677760513           neutral                        1.0000   \n",
       "1  570301130888122368          positive                        0.3486   \n",
       "2  570301083672813571           neutral                        0.6837   \n",
       "3  570301031407624196          negative                        1.0000   \n",
       "4  570300817074462722          negative                        1.0000   \n",
       "\n",
       "  negativereason  negativereason_confidence         airline  \\\n",
       "0            NaN                        NaN  Virgin America   \n",
       "1            NaN                     0.0000  Virgin America   \n",
       "2            NaN                        NaN  Virgin America   \n",
       "3     Bad Flight                     0.7033  Virgin America   \n",
       "4     Can't Tell                     1.0000  Virgin America   \n",
       "\n",
       "  airline_sentiment_gold        name negativereason_gold  retweet_count  \\\n",
       "0                    NaN     cairdin                 NaN              0   \n",
       "1                    NaN    jnardino                 NaN              0   \n",
       "2                    NaN  yvonnalynn                 NaN              0   \n",
       "3                    NaN    jnardino                 NaN              0   \n",
       "4                    NaN    jnardino                 NaN              0   \n",
       "\n",
       "                                                text tweet_coord  \\\n",
       "0                @VirginAmerica What @dhepburn said.         NaN   \n",
       "1  @VirginAmerica plus you've added commercials t...         NaN   \n",
       "2  @VirginAmerica I didn't today... Must mean I n...         NaN   \n",
       "3  @VirginAmerica it's really aggressive to blast...         NaN   \n",
       "4  @VirginAmerica and it's a really big bad thing...         NaN   \n",
       "\n",
       "               tweet_created tweet_location               user_timezone  \n",
       "0  2015-02-24 11:35:52 -0800            NaN  Eastern Time (US & Canada)  \n",
       "1  2015-02-24 11:15:59 -0800            NaN  Pacific Time (US & Canada)  \n",
       "2  2015-02-24 11:15:48 -0800      Lets Play  Central Time (US & Canada)  \n",
       "3  2015-02-24 11:15:36 -0800            NaN  Pacific Time (US & Canada)  \n",
       "4  2015-02-24 11:14:45 -0800            NaN  Pacific Time (US & Canada)  "
      ]
     },
     "execution_count": 9,
     "metadata": {},
     "output_type": "execute_result"
    }
   ],
   "source": [
    "df1.head()"
   ]
  },
  {
   "cell_type": "code",
   "execution_count": 9,
   "id": "a8b593ac-6039-4124-a504-67660e1fa4be",
   "metadata": {},
   "outputs": [
    {
     "data": {
      "text/plain": [
       "(14640, 15)"
      ]
     },
     "execution_count": 9,
     "metadata": {},
     "output_type": "execute_result"
    }
   ],
   "source": [
    "df1.shape"
   ]
  },
  {
   "cell_type": "markdown",
   "id": "39e4ce74-0dff-4cc7-be99-58da2ff3e86b",
   "metadata": {},
   "source": [
    "Como podemos ver tenemos muchas columnas y realmente no vamos a utilizar todas. Puede que algunas nos den información sobre cómo está conformado el dataset. Además, algunas nos pueden servir para quedarnos con tweets que realmente sirvan para entrenar nuestra red neuronal. Por lo que primero podemos explorar y limpiar el dataset."
   ]
  },
  {
   "cell_type": "markdown",
   "id": "585a84d3-b271-4ab1-b8ae-316e2ff49ca9",
   "metadata": {},
   "source": [
    "La primera que podemos eliminar es la de tweet_id, ya que es un identificador que no aporta información"
   ]
  },
  {
   "cell_type": "code",
   "execution_count": 10,
   "id": "3482135a-aeeb-4af4-bf67-ec3650dec8bb",
   "metadata": {},
   "outputs": [],
   "source": [
    "df1.drop(labels=\"tweet_id\", axis=1, inplace=True)"
   ]
  },
  {
   "cell_type": "code",
   "execution_count": 10,
   "id": "a6a160ce-64f5-455d-a395-5a025067c0f4",
   "metadata": {},
   "outputs": [
    {
     "data": {
      "text/html": [
       "<div>\n",
       "<style scoped>\n",
       "    .dataframe tbody tr th:only-of-type {\n",
       "        vertical-align: middle;\n",
       "    }\n",
       "\n",
       "    .dataframe tbody tr th {\n",
       "        vertical-align: top;\n",
       "    }\n",
       "\n",
       "    .dataframe thead th {\n",
       "        text-align: right;\n",
       "    }\n",
       "</style>\n",
       "<table border=\"1\" class=\"dataframe\">\n",
       "  <thead>\n",
       "    <tr style=\"text-align: right;\">\n",
       "      <th></th>\n",
       "      <th>airline_sentiment</th>\n",
       "      <th>airline_sentiment_confidence</th>\n",
       "      <th>negativereason</th>\n",
       "      <th>negativereason_confidence</th>\n",
       "      <th>airline</th>\n",
       "      <th>airline_sentiment_gold</th>\n",
       "      <th>name</th>\n",
       "      <th>negativereason_gold</th>\n",
       "      <th>retweet_count</th>\n",
       "      <th>text</th>\n",
       "      <th>tweet_coord</th>\n",
       "      <th>tweet_created</th>\n",
       "      <th>tweet_location</th>\n",
       "      <th>user_timezone</th>\n",
       "    </tr>\n",
       "  </thead>\n",
       "  <tbody>\n",
       "    <tr>\n",
       "      <th>14635</th>\n",
       "      <td>positive</td>\n",
       "      <td>0.3487</td>\n",
       "      <td>NaN</td>\n",
       "      <td>0.0000</td>\n",
       "      <td>American</td>\n",
       "      <td>NaN</td>\n",
       "      <td>KristenReenders</td>\n",
       "      <td>NaN</td>\n",
       "      <td>0</td>\n",
       "      <td>@AmericanAir thank you we got on a different f...</td>\n",
       "      <td>NaN</td>\n",
       "      <td>2015-02-22 12:01:01 -0800</td>\n",
       "      <td>NaN</td>\n",
       "      <td>NaN</td>\n",
       "    </tr>\n",
       "    <tr>\n",
       "      <th>14636</th>\n",
       "      <td>negative</td>\n",
       "      <td>1.0000</td>\n",
       "      <td>Customer Service Issue</td>\n",
       "      <td>1.0000</td>\n",
       "      <td>American</td>\n",
       "      <td>NaN</td>\n",
       "      <td>itsropes</td>\n",
       "      <td>NaN</td>\n",
       "      <td>0</td>\n",
       "      <td>@AmericanAir leaving over 20 minutes Late Flig...</td>\n",
       "      <td>NaN</td>\n",
       "      <td>2015-02-22 11:59:46 -0800</td>\n",
       "      <td>Texas</td>\n",
       "      <td>NaN</td>\n",
       "    </tr>\n",
       "    <tr>\n",
       "      <th>14637</th>\n",
       "      <td>neutral</td>\n",
       "      <td>1.0000</td>\n",
       "      <td>NaN</td>\n",
       "      <td>NaN</td>\n",
       "      <td>American</td>\n",
       "      <td>NaN</td>\n",
       "      <td>sanyabun</td>\n",
       "      <td>NaN</td>\n",
       "      <td>0</td>\n",
       "      <td>@AmericanAir Please bring American Airlines to...</td>\n",
       "      <td>NaN</td>\n",
       "      <td>2015-02-22 11:59:15 -0800</td>\n",
       "      <td>Nigeria,lagos</td>\n",
       "      <td>NaN</td>\n",
       "    </tr>\n",
       "    <tr>\n",
       "      <th>14638</th>\n",
       "      <td>negative</td>\n",
       "      <td>1.0000</td>\n",
       "      <td>Customer Service Issue</td>\n",
       "      <td>0.6659</td>\n",
       "      <td>American</td>\n",
       "      <td>NaN</td>\n",
       "      <td>SraJackson</td>\n",
       "      <td>NaN</td>\n",
       "      <td>0</td>\n",
       "      <td>@AmericanAir you have my money, you change my ...</td>\n",
       "      <td>NaN</td>\n",
       "      <td>2015-02-22 11:59:02 -0800</td>\n",
       "      <td>New Jersey</td>\n",
       "      <td>Eastern Time (US &amp; Canada)</td>\n",
       "    </tr>\n",
       "    <tr>\n",
       "      <th>14639</th>\n",
       "      <td>neutral</td>\n",
       "      <td>0.6771</td>\n",
       "      <td>NaN</td>\n",
       "      <td>0.0000</td>\n",
       "      <td>American</td>\n",
       "      <td>NaN</td>\n",
       "      <td>daviddtwu</td>\n",
       "      <td>NaN</td>\n",
       "      <td>0</td>\n",
       "      <td>@AmericanAir we have 8 ppl so we need 2 know h...</td>\n",
       "      <td>NaN</td>\n",
       "      <td>2015-02-22 11:58:51 -0800</td>\n",
       "      <td>dallas, TX</td>\n",
       "      <td>NaN</td>\n",
       "    </tr>\n",
       "  </tbody>\n",
       "</table>\n",
       "</div>"
      ],
      "text/plain": [
       "      airline_sentiment  airline_sentiment_confidence          negativereason  \\\n",
       "14635          positive                        0.3487                     NaN   \n",
       "14636          negative                        1.0000  Customer Service Issue   \n",
       "14637           neutral                        1.0000                     NaN   \n",
       "14638          negative                        1.0000  Customer Service Issue   \n",
       "14639           neutral                        0.6771                     NaN   \n",
       "\n",
       "       negativereason_confidence   airline airline_sentiment_gold  \\\n",
       "14635                     0.0000  American                    NaN   \n",
       "14636                     1.0000  American                    NaN   \n",
       "14637                        NaN  American                    NaN   \n",
       "14638                     0.6659  American                    NaN   \n",
       "14639                     0.0000  American                    NaN   \n",
       "\n",
       "                  name negativereason_gold  retweet_count  \\\n",
       "14635  KristenReenders                 NaN              0   \n",
       "14636         itsropes                 NaN              0   \n",
       "14637         sanyabun                 NaN              0   \n",
       "14638       SraJackson                 NaN              0   \n",
       "14639        daviddtwu                 NaN              0   \n",
       "\n",
       "                                                    text tweet_coord  \\\n",
       "14635  @AmericanAir thank you we got on a different f...         NaN   \n",
       "14636  @AmericanAir leaving over 20 minutes Late Flig...         NaN   \n",
       "14637  @AmericanAir Please bring American Airlines to...         NaN   \n",
       "14638  @AmericanAir you have my money, you change my ...         NaN   \n",
       "14639  @AmericanAir we have 8 ppl so we need 2 know h...         NaN   \n",
       "\n",
       "                   tweet_created tweet_location               user_timezone  \n",
       "14635  2015-02-22 12:01:01 -0800            NaN                         NaN  \n",
       "14636  2015-02-22 11:59:46 -0800          Texas                         NaN  \n",
       "14637  2015-02-22 11:59:15 -0800  Nigeria,lagos                         NaN  \n",
       "14638  2015-02-22 11:59:02 -0800     New Jersey  Eastern Time (US & Canada)  \n",
       "14639  2015-02-22 11:58:51 -0800     dallas, TX                         NaN  "
      ]
     },
     "execution_count": 10,
     "metadata": {},
     "output_type": "execute_result"
    }
   ],
   "source": [
    "df1.tail()"
   ]
  },
  {
   "cell_type": "markdown",
   "id": "b0dab2bc-1f67-4a0f-9177-641cfbd91c6e",
   "metadata": {},
   "source": [
    "Como podemos ver tenemos 3 categorías para los tweets: positivo, negativo y neutral. De modo que la columna \"airline_sentiment\" es la etiqueta y el texto de la columna \"text\" es lo que le vamos a dar a la red neuronal.\n",
    "\n",
    "Para la parte del análisis podemos comenzar a explorar columnas de información de los tweets para explorar el dataset."
   ]
  },
  {
   "cell_type": "code",
   "execution_count": 23,
   "id": "2316b50c-8394-49b8-b582-36a04401c231",
   "metadata": {},
   "outputs": [
    {
     "data": {
      "text/plain": [
       "airline_sentiment\n",
       "negative    9178\n",
       "neutral     3099\n",
       "positive    2363\n",
       "Name: count, dtype: int64"
      ]
     },
     "execution_count": 23,
     "metadata": {},
     "output_type": "execute_result"
    }
   ],
   "source": [
    "df1['airline_sentiment'].value_counts()"
   ]
  },
  {
   "cell_type": "code",
   "execution_count": 11,
   "id": "afc92b7c-d3cf-4985-8bb2-3a5161e2daff",
   "metadata": {},
   "outputs": [],
   "source": [
    "positivos = df1[df1[\"airline_sentiment\"] == \"positive\"]\n",
    "negativos = df1[df1[\"airline_sentiment\"] == \"negative\"]\n",
    "neutrales = df1[df1[\"airline_sentiment\"] == \"neutral\"]"
   ]
  },
  {
   "cell_type": "markdown",
   "id": "01e64acc-acc3-48f7-a129-e9c8a6395fc3",
   "metadata": {},
   "source": [
    "Al contar las frecuencias de las categorías de las etiquetas vemos que el dataset está muy desbalanceado. Puede que con la limpieza se logre mejorar esto. Sin embargo, sí es un factor a tomar en cuenta"
   ]
  },
  {
   "cell_type": "markdown",
   "id": "d6bf9390-e3d8-47d0-83f7-ed7d4cf52f26",
   "metadata": {},
   "source": [
    "Analizamos user_timezone"
   ]
  },
  {
   "cell_type": "code",
   "execution_count": 14,
   "id": "d9b5810e-7b27-4e28-bf9c-cbc4ec043b4e",
   "metadata": {},
   "outputs": [
    {
     "name": "stdout",
     "output_type": "stream",
     "text": [
      "<class 'pandas.core.series.Series'>\n",
      "RangeIndex: 14640 entries, 0 to 14639\n",
      "Series name: user_timezone\n",
      "Non-Null Count  Dtype \n",
      "--------------  ----- \n",
      "9820 non-null   object\n",
      "dtypes: object(1)\n",
      "memory usage: 114.5+ KB\n"
     ]
    }
   ],
   "source": [
    "df1[\"user_timezone\"].info()"
   ]
  },
  {
   "cell_type": "code",
   "execution_count": 17,
   "id": "18bedd33-b91c-4ca6-8aff-3055795c78af",
   "metadata": {},
   "outputs": [
    {
     "name": "stdout",
     "output_type": "stream",
     "text": [
      "32.92% de datos nulos\n"
     ]
    }
   ],
   "source": [
    "print(f\"{round(100-9820*100/14640, 2)}% de datos nulos\")"
   ]
  },
  {
   "cell_type": "code",
   "execution_count": 35,
   "id": "fdb93d11-980b-4e7c-ae75-a8269554e51c",
   "metadata": {},
   "outputs": [
    {
     "name": "stdout",
     "output_type": "stream",
     "text": [
      "3170 no nulos en los negativos\n",
      "971 no nulos en los neutrales\n",
      "679 no nulos en los positivos\n"
     ]
    }
   ],
   "source": [
    "print(f\"{negativos[negativos['user_timezone'].isna()].shape[0]} no nulos en los negativos\")\n",
    "print(f\"{neutrales[neutrales['user_timezone'].isna()].shape[0]} no nulos en los neutrales\")\n",
    "print(f\"{positivos[positivos['user_timezone'].isna()].shape[0]} no nulos en los positivos\")"
   ]
  },
  {
   "cell_type": "markdown",
   "id": "cdcf9324-46fd-428f-ad72-5c8cd0457a84",
   "metadata": {},
   "source": [
    "Vemos que las frecuencias se mantienen iguales. Por lo que esta columna la podemos eliminar porque ni la vamos a usar para el entrenamiento de la red neuronal y tampoco nos dio información para balancear el dataset ni para limpiarlo"
   ]
  },
  {
   "cell_type": "code",
   "execution_count": 12,
   "id": "bef5de48-0cf1-46b8-8c0e-104c0e00b556",
   "metadata": {},
   "outputs": [],
   "source": [
    "df1.drop(labels=\"user_timezone\", axis=1, inplace=True)"
   ]
  },
  {
   "cell_type": "code",
   "execution_count": 39,
   "id": "8682c23b-563f-4098-ac38-7fb3bd34cfdf",
   "metadata": {},
   "outputs": [
    {
     "data": {
      "text/html": [
       "<div>\n",
       "<style scoped>\n",
       "    .dataframe tbody tr th:only-of-type {\n",
       "        vertical-align: middle;\n",
       "    }\n",
       "\n",
       "    .dataframe tbody tr th {\n",
       "        vertical-align: top;\n",
       "    }\n",
       "\n",
       "    .dataframe thead th {\n",
       "        text-align: right;\n",
       "    }\n",
       "</style>\n",
       "<table border=\"1\" class=\"dataframe\">\n",
       "  <thead>\n",
       "    <tr style=\"text-align: right;\">\n",
       "      <th></th>\n",
       "      <th>airline_sentiment</th>\n",
       "      <th>airline_sentiment_confidence</th>\n",
       "      <th>negativereason</th>\n",
       "      <th>negativereason_confidence</th>\n",
       "      <th>airline</th>\n",
       "      <th>airline_sentiment_gold</th>\n",
       "      <th>name</th>\n",
       "      <th>negativereason_gold</th>\n",
       "      <th>retweet_count</th>\n",
       "      <th>text</th>\n",
       "      <th>tweet_coord</th>\n",
       "      <th>tweet_created</th>\n",
       "      <th>tweet_location</th>\n",
       "    </tr>\n",
       "  </thead>\n",
       "  <tbody>\n",
       "    <tr>\n",
       "      <th>345</th>\n",
       "      <td>negative</td>\n",
       "      <td>0.6558</td>\n",
       "      <td>Late Flight</td>\n",
       "      <td>0.6558</td>\n",
       "      <td>Virgin America</td>\n",
       "      <td>NaN</td>\n",
       "      <td>bonniecamp</td>\n",
       "      <td>NaN</td>\n",
       "      <td>1</td>\n",
       "      <td>@VirginAmerica spending my birthday night with...</td>\n",
       "      <td>NaN</td>\n",
       "      <td>2015-02-19 14:06:59 -0800</td>\n",
       "      <td>NaN</td>\n",
       "    </tr>\n",
       "    <tr>\n",
       "      <th>346</th>\n",
       "      <td>negative</td>\n",
       "      <td>0.6596</td>\n",
       "      <td>Customer Service Issue</td>\n",
       "      <td>0.3617</td>\n",
       "      <td>Virgin America</td>\n",
       "      <td>NaN</td>\n",
       "      <td>GaySkiWeek</td>\n",
       "      <td>NaN</td>\n",
       "      <td>0</td>\n",
       "      <td>@VirginAmerica Sent a couple messages to the e...</td>\n",
       "      <td>NaN</td>\n",
       "      <td>2015-02-19 13:45:37 -0800</td>\n",
       "      <td>Telluride, CO</td>\n",
       "    </tr>\n",
       "    <tr>\n",
       "      <th>347</th>\n",
       "      <td>positive</td>\n",
       "      <td>1.0000</td>\n",
       "      <td>NaN</td>\n",
       "      <td>NaN</td>\n",
       "      <td>Virgin America</td>\n",
       "      <td>NaN</td>\n",
       "      <td>graveyardtravel</td>\n",
       "      <td>NaN</td>\n",
       "      <td>0</td>\n",
       "      <td>@VirginAmerica first time flying Virgin, went ...</td>\n",
       "      <td>NaN</td>\n",
       "      <td>2015-02-19 13:39:45 -0800</td>\n",
       "      <td>Portland, Oregon</td>\n",
       "    </tr>\n",
       "    <tr>\n",
       "      <th>348</th>\n",
       "      <td>negative</td>\n",
       "      <td>0.6436</td>\n",
       "      <td>Can't Tell</td>\n",
       "      <td>0.3240</td>\n",
       "      <td>Virgin America</td>\n",
       "      <td>NaN</td>\n",
       "      <td>taygarrett</td>\n",
       "      <td>NaN</td>\n",
       "      <td>0</td>\n",
       "      <td>@VirginAmerica seriously, though. will there n...</td>\n",
       "      <td>NaN</td>\n",
       "      <td>2015-02-19 13:27:10 -0800</td>\n",
       "      <td>san francisco</td>\n",
       "    </tr>\n",
       "    <tr>\n",
       "      <th>349</th>\n",
       "      <td>negative</td>\n",
       "      <td>0.3617</td>\n",
       "      <td>Flight Booking Problems</td>\n",
       "      <td>0.3617</td>\n",
       "      <td>Virgin America</td>\n",
       "      <td>NaN</td>\n",
       "      <td>jamonholmgren</td>\n",
       "      <td>NaN</td>\n",
       "      <td>0</td>\n",
       "      <td>@VirginAmerica It's fine. Already done with my...</td>\n",
       "      <td>NaN</td>\n",
       "      <td>2015-02-19 13:18:18 -0800</td>\n",
       "      <td>Vancouver, WA</td>\n",
       "    </tr>\n",
       "    <tr>\n",
       "      <th>350</th>\n",
       "      <td>negative</td>\n",
       "      <td>1.0000</td>\n",
       "      <td>Bad Flight</td>\n",
       "      <td>0.6723</td>\n",
       "      <td>Virgin America</td>\n",
       "      <td>NaN</td>\n",
       "      <td>BlackFlagShoppe</td>\n",
       "      <td>NaN</td>\n",
       "      <td>0</td>\n",
       "      <td>@virginamerica not really the experience I was...</td>\n",
       "      <td>NaN</td>\n",
       "      <td>2015-02-19 13:14:23 -0800</td>\n",
       "      <td>”Straight Outta Jersey”</td>\n",
       "    </tr>\n",
       "  </tbody>\n",
       "</table>\n",
       "</div>"
      ],
      "text/plain": [
       "    airline_sentiment  airline_sentiment_confidence           negativereason  \\\n",
       "345          negative                        0.6558              Late Flight   \n",
       "346          negative                        0.6596   Customer Service Issue   \n",
       "347          positive                        1.0000                      NaN   \n",
       "348          negative                        0.6436               Can't Tell   \n",
       "349          negative                        0.3617  Flight Booking Problems   \n",
       "350          negative                        1.0000               Bad Flight   \n",
       "\n",
       "     negativereason_confidence         airline airline_sentiment_gold  \\\n",
       "345                     0.6558  Virgin America                    NaN   \n",
       "346                     0.3617  Virgin America                    NaN   \n",
       "347                        NaN  Virgin America                    NaN   \n",
       "348                     0.3240  Virgin America                    NaN   \n",
       "349                     0.3617  Virgin America                    NaN   \n",
       "350                     0.6723  Virgin America                    NaN   \n",
       "\n",
       "                name negativereason_gold  retweet_count  \\\n",
       "345       bonniecamp                 NaN              1   \n",
       "346       GaySkiWeek                 NaN              0   \n",
       "347  graveyardtravel                 NaN              0   \n",
       "348       taygarrett                 NaN              0   \n",
       "349    jamonholmgren                 NaN              0   \n",
       "350  BlackFlagShoppe                 NaN              0   \n",
       "\n",
       "                                                  text tweet_coord  \\\n",
       "345  @VirginAmerica spending my birthday night with...         NaN   \n",
       "346  @VirginAmerica Sent a couple messages to the e...         NaN   \n",
       "347  @VirginAmerica first time flying Virgin, went ...         NaN   \n",
       "348  @VirginAmerica seriously, though. will there n...         NaN   \n",
       "349  @VirginAmerica It's fine. Already done with my...         NaN   \n",
       "350  @virginamerica not really the experience I was...         NaN   \n",
       "\n",
       "                 tweet_created           tweet_location  \n",
       "345  2015-02-19 14:06:59 -0800                      NaN  \n",
       "346  2015-02-19 13:45:37 -0800            Telluride, CO  \n",
       "347  2015-02-19 13:39:45 -0800         Portland, Oregon  \n",
       "348  2015-02-19 13:27:10 -0800            san francisco  \n",
       "349  2015-02-19 13:18:18 -0800            Vancouver, WA  \n",
       "350  2015-02-19 13:14:23 -0800  ”Straight Outta Jersey”  "
      ]
     },
     "execution_count": 39,
     "metadata": {},
     "output_type": "execute_result"
    }
   ],
   "source": [
    "df1.iloc[345:351,:]"
   ]
  },
  {
   "cell_type": "markdown",
   "id": "b9d33f7d-aef5-4761-bacd-e627ec748761",
   "metadata": {},
   "source": [
    "Podemos analizar la columna \"name\". Parece ser el nombre de usuario de la persona que escribió el tweet. Puede que si alguien escribió demasiados tweets del mismo tipo, nos ayude a eliminar algunas de esas filas y balancear un poco el dataset"
   ]
  },
  {
   "cell_type": "code",
   "execution_count": 42,
   "id": "d444cffb-17f2-4321-8c24-5de2e9ef4f60",
   "metadata": {},
   "outputs": [
    {
     "data": {
      "text/plain": [
       "name\n",
       "JetBlueNews       63\n",
       "kbosspotter       32\n",
       "_mhertz           29\n",
       "otisday           28\n",
       "throthra          27\n",
       "                  ..\n",
       "ChrisJLeary        1\n",
       "tracy_edes         1\n",
       "NGottesman         1\n",
       "chadlacalamita     1\n",
       "sanyabun           1\n",
       "Name: count, Length: 7701, dtype: int64"
      ]
     },
     "execution_count": 42,
     "metadata": {},
     "output_type": "execute_result"
    }
   ],
   "source": [
    "df1['name'].value_counts()"
   ]
  },
  {
   "cell_type": "code",
   "execution_count": 47,
   "id": "176757be-56f0-4718-9922-61220d08369f",
   "metadata": {},
   "outputs": [
    {
     "data": {
      "text/plain": [
       "airline_sentiment\n",
       "neutral     57\n",
       "positive     5\n",
       "negative     1\n",
       "Name: count, dtype: int64"
      ]
     },
     "execution_count": 47,
     "metadata": {},
     "output_type": "execute_result"
    }
   ],
   "source": [
    "df1[df1[\"name\"] == \"JetBlueNews\"][\"airline_sentiment\"].value_counts()"
   ]
  },
  {
   "cell_type": "code",
   "execution_count": 48,
   "id": "69d98181-1a7b-4fa9-90d1-6f740a48fb88",
   "metadata": {},
   "outputs": [
    {
     "data": {
      "text/plain": [
       "airline_sentiment\n",
       "neutral     22\n",
       "positive     6\n",
       "negative     4\n",
       "Name: count, dtype: int64"
      ]
     },
     "execution_count": 48,
     "metadata": {},
     "output_type": "execute_result"
    }
   ],
   "source": [
    "df1[df1[\"name\"] == \"kbosspotter\"][\"airline_sentiment\"].value_counts()"
   ]
  },
  {
   "cell_type": "code",
   "execution_count": 49,
   "id": "d1e10edf-a2e6-46c6-9483-10fb0f63a3a0",
   "metadata": {},
   "outputs": [
    {
     "data": {
      "text/plain": [
       "airline_sentiment\n",
       "negative    27\n",
       "neutral      2\n",
       "Name: count, dtype: int64"
      ]
     },
     "execution_count": 49,
     "metadata": {},
     "output_type": "execute_result"
    }
   ],
   "source": [
    "df1[df1[\"name\"] == \"_mhertz\"][\"airline_sentiment\"].value_counts()"
   ]
  },
  {
   "cell_type": "code",
   "execution_count": 50,
   "id": "70b79faf-7126-4113-b381-35802d7225f8",
   "metadata": {},
   "outputs": [
    {
     "data": {
      "text/plain": [
       "airline_sentiment\n",
       "negative    28\n",
       "Name: count, dtype: int64"
      ]
     },
     "execution_count": 50,
     "metadata": {},
     "output_type": "execute_result"
    }
   ],
   "source": [
    "df1[df1[\"name\"] == \"otisday\"][\"airline_sentiment\"].value_counts()"
   ]
  },
  {
   "cell_type": "markdown",
   "id": "bcbca5eb-ec2f-4510-9869-fff06e156ba2",
   "metadata": {},
   "source": [
    "Como podemos ver algunos son neutrales porque probablemente son cuentas que son para hablar directamente de aerolineas. Sin embargo, otras sí son cuentas que aportan mucho a los tweets negativos. Dado que no es ruido como tal el que generan, no vale la pena borrarlos del dataset sus registros. Sin embargo, para ahorrar memoria sí vamos a borrar el nombre del usuario del dataframe de pandas."
   ]
  },
  {
   "cell_type": "code",
   "execution_count": 13,
   "id": "6b0ccec3-d534-4320-ac28-df1a0dc6339b",
   "metadata": {},
   "outputs": [],
   "source": [
    "df1.drop(labels=\"name\", axis=1, inplace=True)"
   ]
  },
  {
   "cell_type": "code",
   "execution_count": 52,
   "id": "4d75d4b4-1af1-49b3-885a-6b0317aba63a",
   "metadata": {},
   "outputs": [
    {
     "data": {
      "text/html": [
       "<div>\n",
       "<style scoped>\n",
       "    .dataframe tbody tr th:only-of-type {\n",
       "        vertical-align: middle;\n",
       "    }\n",
       "\n",
       "    .dataframe tbody tr th {\n",
       "        vertical-align: top;\n",
       "    }\n",
       "\n",
       "    .dataframe thead th {\n",
       "        text-align: right;\n",
       "    }\n",
       "</style>\n",
       "<table border=\"1\" class=\"dataframe\">\n",
       "  <thead>\n",
       "    <tr style=\"text-align: right;\">\n",
       "      <th></th>\n",
       "      <th>airline_sentiment</th>\n",
       "      <th>airline_sentiment_confidence</th>\n",
       "      <th>negativereason</th>\n",
       "      <th>negativereason_confidence</th>\n",
       "      <th>airline</th>\n",
       "      <th>airline_sentiment_gold</th>\n",
       "      <th>negativereason_gold</th>\n",
       "      <th>retweet_count</th>\n",
       "      <th>text</th>\n",
       "      <th>tweet_coord</th>\n",
       "      <th>tweet_created</th>\n",
       "      <th>tweet_location</th>\n",
       "    </tr>\n",
       "  </thead>\n",
       "  <tbody>\n",
       "    <tr>\n",
       "      <th>1234</th>\n",
       "      <td>positive</td>\n",
       "      <td>1.0000</td>\n",
       "      <td>NaN</td>\n",
       "      <td>NaN</td>\n",
       "      <td>United</td>\n",
       "      <td>NaN</td>\n",
       "      <td>NaN</td>\n",
       "      <td>0</td>\n",
       "      <td>@united has the best customer experience via t...</td>\n",
       "      <td>NaN</td>\n",
       "      <td>2015-02-23 06:54:57 -0800</td>\n",
       "      <td>Cambridge, MA</td>\n",
       "    </tr>\n",
       "    <tr>\n",
       "      <th>1235</th>\n",
       "      <td>neutral</td>\n",
       "      <td>0.6767</td>\n",
       "      <td>NaN</td>\n",
       "      <td>NaN</td>\n",
       "      <td>United</td>\n",
       "      <td>NaN</td>\n",
       "      <td>NaN</td>\n",
       "      <td>0</td>\n",
       "      <td>@united Thank you for your response!</td>\n",
       "      <td>NaN</td>\n",
       "      <td>2015-02-23 06:54:50 -0800</td>\n",
       "      <td>Albuquerque, New Mexico</td>\n",
       "    </tr>\n",
       "    <tr>\n",
       "      <th>1236</th>\n",
       "      <td>negative</td>\n",
       "      <td>1.0000</td>\n",
       "      <td>Bad Flight</td>\n",
       "      <td>0.6742</td>\n",
       "      <td>United</td>\n",
       "      <td>NaN</td>\n",
       "      <td>NaN</td>\n",
       "      <td>0</td>\n",
       "      <td>@united Flight 683 last night was #bad4busines...</td>\n",
       "      <td>NaN</td>\n",
       "      <td>2015-02-23 06:54:20 -0800</td>\n",
       "      <td>canton mi\\n</td>\n",
       "    </tr>\n",
       "    <tr>\n",
       "      <th>1237</th>\n",
       "      <td>negative</td>\n",
       "      <td>1.0000</td>\n",
       "      <td>Customer Service Issue</td>\n",
       "      <td>0.3803</td>\n",
       "      <td>United</td>\n",
       "      <td>NaN</td>\n",
       "      <td>NaN</td>\n",
       "      <td>0</td>\n",
       "      <td>@united Beyond frustrated  Sked change = no se...</td>\n",
       "      <td>NaN</td>\n",
       "      <td>2015-02-23 06:50:49 -0800</td>\n",
       "      <td>Ashburn, VA</td>\n",
       "    </tr>\n",
       "    <tr>\n",
       "      <th>1238</th>\n",
       "      <td>negative</td>\n",
       "      <td>1.0000</td>\n",
       "      <td>Flight Booking Problems</td>\n",
       "      <td>0.3564</td>\n",
       "      <td>United</td>\n",
       "      <td>NaN</td>\n",
       "      <td>NaN</td>\n",
       "      <td>0</td>\n",
       "      <td>@united working with Lisa J at ORD. she's work...</td>\n",
       "      <td>[41.97883697, -87.90639116]</td>\n",
       "      <td>2015-02-23 06:48:32 -0800</td>\n",
       "      <td>chicago</td>\n",
       "    </tr>\n",
       "    <tr>\n",
       "      <th>1239</th>\n",
       "      <td>positive</td>\n",
       "      <td>1.0000</td>\n",
       "      <td>NaN</td>\n",
       "      <td>NaN</td>\n",
       "      <td>United</td>\n",
       "      <td>NaN</td>\n",
       "      <td>NaN</td>\n",
       "      <td>0</td>\n",
       "      <td>@united love the new 1st class breakfast!</td>\n",
       "      <td>NaN</td>\n",
       "      <td>2015-02-23 06:46:05 -0800</td>\n",
       "      <td>NaN</td>\n",
       "    </tr>\n",
       "  </tbody>\n",
       "</table>\n",
       "</div>"
      ],
      "text/plain": [
       "     airline_sentiment  airline_sentiment_confidence           negativereason  \\\n",
       "1234          positive                        1.0000                      NaN   \n",
       "1235           neutral                        0.6767                      NaN   \n",
       "1236          negative                        1.0000               Bad Flight   \n",
       "1237          negative                        1.0000   Customer Service Issue   \n",
       "1238          negative                        1.0000  Flight Booking Problems   \n",
       "1239          positive                        1.0000                      NaN   \n",
       "\n",
       "      negativereason_confidence airline airline_sentiment_gold  \\\n",
       "1234                        NaN  United                    NaN   \n",
       "1235                        NaN  United                    NaN   \n",
       "1236                     0.6742  United                    NaN   \n",
       "1237                     0.3803  United                    NaN   \n",
       "1238                     0.3564  United                    NaN   \n",
       "1239                        NaN  United                    NaN   \n",
       "\n",
       "     negativereason_gold  retweet_count  \\\n",
       "1234                 NaN              0   \n",
       "1235                 NaN              0   \n",
       "1236                 NaN              0   \n",
       "1237                 NaN              0   \n",
       "1238                 NaN              0   \n",
       "1239                 NaN              0   \n",
       "\n",
       "                                                   text  \\\n",
       "1234  @united has the best customer experience via t...   \n",
       "1235               @united Thank you for your response!   \n",
       "1236  @united Flight 683 last night was #bad4busines...   \n",
       "1237  @united Beyond frustrated  Sked change = no se...   \n",
       "1238  @united working with Lisa J at ORD. she's work...   \n",
       "1239          @united love the new 1st class breakfast!   \n",
       "\n",
       "                      tweet_coord              tweet_created  \\\n",
       "1234                          NaN  2015-02-23 06:54:57 -0800   \n",
       "1235                          NaN  2015-02-23 06:54:50 -0800   \n",
       "1236                          NaN  2015-02-23 06:54:20 -0800   \n",
       "1237                          NaN  2015-02-23 06:50:49 -0800   \n",
       "1238  [41.97883697, -87.90639116]  2015-02-23 06:48:32 -0800   \n",
       "1239                          NaN  2015-02-23 06:46:05 -0800   \n",
       "\n",
       "               tweet_location  \n",
       "1234            Cambridge, MA  \n",
       "1235  Albuquerque, New Mexico  \n",
       "1236              canton mi\\n  \n",
       "1237              Ashburn, VA  \n",
       "1238                  chicago  \n",
       "1239                      NaN  "
      ]
     },
     "execution_count": 52,
     "metadata": {},
     "output_type": "execute_result"
    }
   ],
   "source": [
    "df1.iloc[1234:1240,:]"
   ]
  },
  {
   "cell_type": "markdown",
   "id": "6c2587b4-3131-45fa-b1ea-b5cc004e3c12",
   "metadata": {},
   "source": [
    "Lo que sigue es eliminar la columna de las coordenadas del tweet. Esto porque a nivel de interpretabilidad no nos da buena información; en todo caso es mejor quedarnos con la columna de tweet_location porque es más fácil de interpretar."
   ]
  },
  {
   "cell_type": "code",
   "execution_count": 14,
   "id": "f73ef554-b1b0-4d46-99ea-1b1ff4110932",
   "metadata": {},
   "outputs": [],
   "source": [
    "df1.drop(labels=\"tweet_coord\", axis=1, inplace=True)"
   ]
  },
  {
   "cell_type": "markdown",
   "id": "2d5f85c4-5b8a-448a-9da3-dbbb1fd2dac7",
   "metadata": {},
   "source": [
    "Ahora bien, en cuanto a la fecha del tweet, no nos sirve para filtrar datos para la red neuronal. Sin embargo, podemos analizar cuáles han sido las fechas de este dataset con mayor número de comentarios negativos (a manera de exploración del dataset)."
   ]
  },
  {
   "cell_type": "code",
   "execution_count": 54,
   "id": "c4b4f444-fa24-4341-a596-b2fdadc94967",
   "metadata": {},
   "outputs": [
    {
     "name": "stdout",
     "output_type": "stream",
     "text": [
      "<class 'pandas.core.series.Series'>\n",
      "Index: 9178 entries, 3 to 14638\n",
      "Series name: tweet_created\n",
      "Non-Null Count  Dtype \n",
      "--------------  ----- \n",
      "9178 non-null   object\n",
      "dtypes: object(1)\n",
      "memory usage: 143.4+ KB\n"
     ]
    }
   ],
   "source": [
    "negativos[\"tweet_created\"].info()"
   ]
  },
  {
   "cell_type": "code",
   "execution_count": 15,
   "id": "0cc39e32-6e5f-47c9-9497-5f77c02ed5c5",
   "metadata": {},
   "outputs": [],
   "source": [
    "negativos[\"tweet_created\"] = negativos[\"tweet_created\"].apply(lambda x: x[:10])"
   ]
  },
  {
   "cell_type": "code",
   "execution_count": 57,
   "id": "8b6de735-a07d-465b-b42d-163997268c21",
   "metadata": {},
   "outputs": [
    {
     "data": {
      "text/plain": [
       "tweet_created\n",
       "2015-02-22    2266\n",
       "2015-02-23    1919\n",
       "2015-02-21    1049\n",
       "2015-02-17     838\n",
       "2015-02-20     835\n",
       "2015-02-24     781\n",
       "2015-02-19     751\n",
       "2015-02-18     736\n",
       "2015-02-16       3\n",
       "Name: count, dtype: int64"
      ]
     },
     "execution_count": 57,
     "metadata": {},
     "output_type": "execute_result"
    }
   ],
   "source": [
    "negativos[\"tweet_created\"].value_counts()"
   ]
  },
  {
   "cell_type": "code",
   "execution_count": 16,
   "id": "d4da5672-2821-421e-ab22-f09d8fb436ce",
   "metadata": {},
   "outputs": [],
   "source": [
    "df1[\"tweet_created\"] = df1[\"tweet_created\"].apply(lambda x: x[:10])"
   ]
  },
  {
   "cell_type": "code",
   "execution_count": 60,
   "id": "ac903f3e-66d0-41c9-91f1-014dd616785a",
   "metadata": {},
   "outputs": [
    {
     "data": {
      "text/plain": [
       "tweet_created\n",
       "2015-02-22    3079\n",
       "2015-02-23    3028\n",
       "2015-02-21    1557\n",
       "2015-02-20    1500\n",
       "2015-02-17    1408\n",
       "2015-02-19    1376\n",
       "2015-02-24    1344\n",
       "2015-02-18    1344\n",
       "2015-02-16       4\n",
       "Name: count, dtype: int64"
      ]
     },
     "execution_count": 60,
     "metadata": {},
     "output_type": "execute_result"
    }
   ],
   "source": [
    "df1[\"tweet_created\"].value_counts()"
   ]
  },
  {
   "cell_type": "markdown",
   "id": "7a8be97f-595b-463d-a1cc-72f27633675b",
   "metadata": {},
   "source": [
    "Como podemos ver, las semanas del 16 de febrero de 2015 al 24 de febrero de 2015 constituyen a este dataset. Donde los día con más tweets negativos fue el 22 de febrero."
   ]
  },
  {
   "cell_type": "code",
   "execution_count": 62,
   "id": "f0a3a9f6-a813-4df7-aa17-6068e6d87712",
   "metadata": {},
   "outputs": [
    {
     "data": {
      "text/html": [
       "<div>\n",
       "<style scoped>\n",
       "    .dataframe tbody tr th:only-of-type {\n",
       "        vertical-align: middle;\n",
       "    }\n",
       "\n",
       "    .dataframe tbody tr th {\n",
       "        vertical-align: top;\n",
       "    }\n",
       "\n",
       "    .dataframe thead th {\n",
       "        text-align: right;\n",
       "    }\n",
       "</style>\n",
       "<table border=\"1\" class=\"dataframe\">\n",
       "  <thead>\n",
       "    <tr style=\"text-align: right;\">\n",
       "      <th></th>\n",
       "      <th>airline_sentiment</th>\n",
       "      <th>airline_sentiment_confidence</th>\n",
       "      <th>negativereason</th>\n",
       "      <th>negativereason_confidence</th>\n",
       "      <th>airline</th>\n",
       "      <th>airline_sentiment_gold</th>\n",
       "      <th>negativereason_gold</th>\n",
       "      <th>retweet_count</th>\n",
       "      <th>text</th>\n",
       "      <th>tweet_created</th>\n",
       "      <th>tweet_location</th>\n",
       "    </tr>\n",
       "  </thead>\n",
       "  <tbody>\n",
       "    <tr>\n",
       "      <th>9850</th>\n",
       "      <td>negative</td>\n",
       "      <td>0.6403</td>\n",
       "      <td>longlines</td>\n",
       "      <td>0.6403</td>\n",
       "      <td>US Airways</td>\n",
       "      <td>NaN</td>\n",
       "      <td>NaN</td>\n",
       "      <td>0</td>\n",
       "      <td>@USAirways What is happening at Reagan Airport...</td>\n",
       "      <td>2015-02-22</td>\n",
       "      <td>NaN</td>\n",
       "    </tr>\n",
       "    <tr>\n",
       "      <th>9851</th>\n",
       "      <td>negative</td>\n",
       "      <td>1.0000</td>\n",
       "      <td>Damaged Luggage</td>\n",
       "      <td>1.0000</td>\n",
       "      <td>US Airways</td>\n",
       "      <td>NaN</td>\n",
       "      <td>NaN</td>\n",
       "      <td>0</td>\n",
       "      <td>@USAirways @AuroraBIZ check your bag, @PHLAirp...</td>\n",
       "      <td>2015-02-22</td>\n",
       "      <td>NaN</td>\n",
       "    </tr>\n",
       "    <tr>\n",
       "      <th>9852</th>\n",
       "      <td>negative</td>\n",
       "      <td>0.6445</td>\n",
       "      <td>Customer Service Issue</td>\n",
       "      <td>0.6445</td>\n",
       "      <td>US Airways</td>\n",
       "      <td>NaN</td>\n",
       "      <td>NaN</td>\n",
       "      <td>0</td>\n",
       "      <td>@usairways hopefully your crappy service impro...</td>\n",
       "      <td>2015-02-22</td>\n",
       "      <td>St. Augustine, Florida</td>\n",
       "    </tr>\n",
       "    <tr>\n",
       "      <th>9853</th>\n",
       "      <td>negative</td>\n",
       "      <td>1.0000</td>\n",
       "      <td>longlines</td>\n",
       "      <td>0.6831</td>\n",
       "      <td>US Airways</td>\n",
       "      <td>NaN</td>\n",
       "      <td>NaN</td>\n",
       "      <td>0</td>\n",
       "      <td>@usairways 2 people working the counter at #dc...</td>\n",
       "      <td>2015-02-22</td>\n",
       "      <td>St. Augustine, Florida</td>\n",
       "    </tr>\n",
       "    <tr>\n",
       "      <th>9854</th>\n",
       "      <td>neutral</td>\n",
       "      <td>1.0000</td>\n",
       "      <td>NaN</td>\n",
       "      <td>NaN</td>\n",
       "      <td>US Airways</td>\n",
       "      <td>NaN</td>\n",
       "      <td>NaN</td>\n",
       "      <td>0</td>\n",
       "      <td>@USAirways what's going on in CLT?</td>\n",
       "      <td>2015-02-22</td>\n",
       "      <td>SC</td>\n",
       "    </tr>\n",
       "    <tr>\n",
       "      <th>9855</th>\n",
       "      <td>negative</td>\n",
       "      <td>0.6721</td>\n",
       "      <td>Lost Luggage</td>\n",
       "      <td>0.6721</td>\n",
       "      <td>US Airways</td>\n",
       "      <td>NaN</td>\n",
       "      <td>NaN</td>\n",
       "      <td>0</td>\n",
       "      <td>@USAirways @USAirwaysCenter My lost bag lands ...</td>\n",
       "      <td>2015-02-22</td>\n",
       "      <td>San Francisco</td>\n",
       "    </tr>\n",
       "  </tbody>\n",
       "</table>\n",
       "</div>"
      ],
      "text/plain": [
       "     airline_sentiment  airline_sentiment_confidence          negativereason  \\\n",
       "9850          negative                        0.6403               longlines   \n",
       "9851          negative                        1.0000         Damaged Luggage   \n",
       "9852          negative                        0.6445  Customer Service Issue   \n",
       "9853          negative                        1.0000               longlines   \n",
       "9854           neutral                        1.0000                     NaN   \n",
       "9855          negative                        0.6721            Lost Luggage   \n",
       "\n",
       "      negativereason_confidence     airline airline_sentiment_gold  \\\n",
       "9850                     0.6403  US Airways                    NaN   \n",
       "9851                     1.0000  US Airways                    NaN   \n",
       "9852                     0.6445  US Airways                    NaN   \n",
       "9853                     0.6831  US Airways                    NaN   \n",
       "9854                        NaN  US Airways                    NaN   \n",
       "9855                     0.6721  US Airways                    NaN   \n",
       "\n",
       "     negativereason_gold  retweet_count  \\\n",
       "9850                 NaN              0   \n",
       "9851                 NaN              0   \n",
       "9852                 NaN              0   \n",
       "9853                 NaN              0   \n",
       "9854                 NaN              0   \n",
       "9855                 NaN              0   \n",
       "\n",
       "                                                   text tweet_created  \\\n",
       "9850  @USAirways What is happening at Reagan Airport...    2015-02-22   \n",
       "9851  @USAirways @AuroraBIZ check your bag, @PHLAirp...    2015-02-22   \n",
       "9852  @usairways hopefully your crappy service impro...    2015-02-22   \n",
       "9853  @usairways 2 people working the counter at #dc...    2015-02-22   \n",
       "9854                 @USAirways what's going on in CLT?    2015-02-22   \n",
       "9855  @USAirways @USAirwaysCenter My lost bag lands ...    2015-02-22   \n",
       "\n",
       "              tweet_location  \n",
       "9850                     NaN  \n",
       "9851                     NaN  \n",
       "9852  St. Augustine, Florida  \n",
       "9853  St. Augustine, Florida  \n",
       "9854                      SC  \n",
       "9855           San Francisco  "
      ]
     },
     "execution_count": 62,
     "metadata": {},
     "output_type": "execute_result"
    }
   ],
   "source": [
    "df1.iloc[9850:9856,:]"
   ]
  },
  {
   "cell_type": "markdown",
   "id": "69371804-4e98-49c5-8281-73e836da979e",
   "metadata": {},
   "source": [
    "Para la columna retweet_count podemos ver si nos indica algún patrón sobre si los tweets más compartidos pertenecen a alguna de las 3 categorías en específico, es decir, si hay una correlación entre ellas."
   ]
  },
  {
   "cell_type": "code",
   "execution_count": 70,
   "id": "abcc2923-2e82-421d-8407-4f7923e33756",
   "metadata": {},
   "outputs": [
    {
     "data": {
      "text/html": [
       "<div>\n",
       "<style scoped>\n",
       "    .dataframe tbody tr th:only-of-type {\n",
       "        vertical-align: middle;\n",
       "    }\n",
       "\n",
       "    .dataframe tbody tr th {\n",
       "        vertical-align: top;\n",
       "    }\n",
       "\n",
       "    .dataframe thead th {\n",
       "        text-align: right;\n",
       "    }\n",
       "</style>\n",
       "<table border=\"1\" class=\"dataframe\">\n",
       "  <thead>\n",
       "    <tr style=\"text-align: right;\">\n",
       "      <th></th>\n",
       "      <th>airline_sentiment</th>\n",
       "      <th>airline_sentiment_confidence</th>\n",
       "      <th>negativereason</th>\n",
       "      <th>negativereason_confidence</th>\n",
       "      <th>airline</th>\n",
       "      <th>airline_sentiment_gold</th>\n",
       "      <th>negativereason_gold</th>\n",
       "      <th>retweet_count</th>\n",
       "      <th>text</th>\n",
       "      <th>tweet_created</th>\n",
       "      <th>tweet_location</th>\n",
       "    </tr>\n",
       "  </thead>\n",
       "  <tbody>\n",
       "    <tr>\n",
       "      <th>11596</th>\n",
       "      <td>negative</td>\n",
       "      <td>1.0000</td>\n",
       "      <td>Late Flight</td>\n",
       "      <td>1.0000</td>\n",
       "      <td>US Airways</td>\n",
       "      <td>NaN</td>\n",
       "      <td>NaN</td>\n",
       "      <td>44</td>\n",
       "      <td>@USAirways 5 hr flight delay and a delay when ...</td>\n",
       "      <td>2015-02-17</td>\n",
       "      <td>NaN</td>\n",
       "    </tr>\n",
       "    <tr>\n",
       "      <th>11582</th>\n",
       "      <td>negative</td>\n",
       "      <td>1.0000</td>\n",
       "      <td>Can't Tell</td>\n",
       "      <td>0.6608</td>\n",
       "      <td>US Airways</td>\n",
       "      <td>NaN</td>\n",
       "      <td>NaN</td>\n",
       "      <td>32</td>\n",
       "      <td>@USAirways of course never again tho . Thanks ...</td>\n",
       "      <td>2015-02-17</td>\n",
       "      <td>NaN</td>\n",
       "    </tr>\n",
       "    <tr>\n",
       "      <th>7132</th>\n",
       "      <td>negative</td>\n",
       "      <td>1.0000</td>\n",
       "      <td>Can't Tell</td>\n",
       "      <td>1.0000</td>\n",
       "      <td>Delta</td>\n",
       "      <td>NaN</td>\n",
       "      <td>NaN</td>\n",
       "      <td>31</td>\n",
       "      <td>STOP. USING.THIS.WORD. IF. YOU'RE. A. COMPANY....</td>\n",
       "      <td>2015-02-23</td>\n",
       "      <td>New York, NY</td>\n",
       "    </tr>\n",
       "    <tr>\n",
       "      <th>9999</th>\n",
       "      <td>neutral</td>\n",
       "      <td>0.6593</td>\n",
       "      <td>NaN</td>\n",
       "      <td>NaN</td>\n",
       "      <td>US Airways</td>\n",
       "      <td>NaN</td>\n",
       "      <td>NaN</td>\n",
       "      <td>28</td>\n",
       "      <td>@USAirways with this livery back in the day. h...</td>\n",
       "      <td>2015-02-22</td>\n",
       "      <td>Airports Around The World</td>\n",
       "    </tr>\n",
       "    <tr>\n",
       "      <th>5607</th>\n",
       "      <td>positive</td>\n",
       "      <td>1.0000</td>\n",
       "      <td>NaN</td>\n",
       "      <td>NaN</td>\n",
       "      <td>Southwest</td>\n",
       "      <td>NaN</td>\n",
       "      <td>NaN</td>\n",
       "      <td>22</td>\n",
       "      <td>@SouthwestAir beautiful day in Seattle! http:/...</td>\n",
       "      <td>2015-02-20</td>\n",
       "      <td>Bellevue, WA</td>\n",
       "    </tr>\n",
       "    <tr>\n",
       "      <th>...</th>\n",
       "      <td>...</td>\n",
       "      <td>...</td>\n",
       "      <td>...</td>\n",
       "      <td>...</td>\n",
       "      <td>...</td>\n",
       "      <td>...</td>\n",
       "      <td>...</td>\n",
       "      <td>...</td>\n",
       "      <td>...</td>\n",
       "      <td>...</td>\n",
       "      <td>...</td>\n",
       "    </tr>\n",
       "    <tr>\n",
       "      <th>5112</th>\n",
       "      <td>negative</td>\n",
       "      <td>1.0000</td>\n",
       "      <td>Late Flight</td>\n",
       "      <td>1.0000</td>\n",
       "      <td>Southwest</td>\n",
       "      <td>NaN</td>\n",
       "      <td>NaN</td>\n",
       "      <td>0</td>\n",
       "      <td>@SouthwestAir why am I still in Baltimore?! @d...</td>\n",
       "      <td>2015-02-21</td>\n",
       "      <td>Tallahassee, FL</td>\n",
       "    </tr>\n",
       "    <tr>\n",
       "      <th>5113</th>\n",
       "      <td>neutral</td>\n",
       "      <td>1.0000</td>\n",
       "      <td>NaN</td>\n",
       "      <td>NaN</td>\n",
       "      <td>Southwest</td>\n",
       "      <td>NaN</td>\n",
       "      <td>NaN</td>\n",
       "      <td>0</td>\n",
       "      <td>@SouthwestAir I'm ready for #MayweatherPacquia...</td>\n",
       "      <td>2015-02-21</td>\n",
       "      <td>Orlando.South Beach.Vegas</td>\n",
       "    </tr>\n",
       "    <tr>\n",
       "      <th>5114</th>\n",
       "      <td>negative</td>\n",
       "      <td>1.0000</td>\n",
       "      <td>Cancelled Flight</td>\n",
       "      <td>1.0000</td>\n",
       "      <td>Southwest</td>\n",
       "      <td>NaN</td>\n",
       "      <td>NaN</td>\n",
       "      <td>0</td>\n",
       "      <td>@SouthwestAir you have the worst service, you ...</td>\n",
       "      <td>2015-02-21</td>\n",
       "      <td>Havertown, Pa.</td>\n",
       "    </tr>\n",
       "    <tr>\n",
       "      <th>5115</th>\n",
       "      <td>negative</td>\n",
       "      <td>0.6480</td>\n",
       "      <td>Cancelled Flight</td>\n",
       "      <td>0.6480</td>\n",
       "      <td>Southwest</td>\n",
       "      <td>NaN</td>\n",
       "      <td>NaN</td>\n",
       "      <td>0</td>\n",
       "      <td>@SouthwestAir my flight was Cancelled Flighted...</td>\n",
       "      <td>2015-02-21</td>\n",
       "      <td>Houston, Texas</td>\n",
       "    </tr>\n",
       "    <tr>\n",
       "      <th>14639</th>\n",
       "      <td>neutral</td>\n",
       "      <td>0.6771</td>\n",
       "      <td>NaN</td>\n",
       "      <td>0.0000</td>\n",
       "      <td>American</td>\n",
       "      <td>NaN</td>\n",
       "      <td>NaN</td>\n",
       "      <td>0</td>\n",
       "      <td>@AmericanAir we have 8 ppl so we need 2 know h...</td>\n",
       "      <td>2015-02-22</td>\n",
       "      <td>dallas, TX</td>\n",
       "    </tr>\n",
       "  </tbody>\n",
       "</table>\n",
       "<p>14640 rows × 11 columns</p>\n",
       "</div>"
      ],
      "text/plain": [
       "      airline_sentiment  airline_sentiment_confidence    negativereason  \\\n",
       "11596          negative                        1.0000       Late Flight   \n",
       "11582          negative                        1.0000        Can't Tell   \n",
       "7132           negative                        1.0000        Can't Tell   \n",
       "9999            neutral                        0.6593               NaN   \n",
       "5607           positive                        1.0000               NaN   \n",
       "...                 ...                           ...               ...   \n",
       "5112           negative                        1.0000       Late Flight   \n",
       "5113            neutral                        1.0000               NaN   \n",
       "5114           negative                        1.0000  Cancelled Flight   \n",
       "5115           negative                        0.6480  Cancelled Flight   \n",
       "14639           neutral                        0.6771               NaN   \n",
       "\n",
       "       negativereason_confidence     airline airline_sentiment_gold  \\\n",
       "11596                     1.0000  US Airways                    NaN   \n",
       "11582                     0.6608  US Airways                    NaN   \n",
       "7132                      1.0000       Delta                    NaN   \n",
       "9999                         NaN  US Airways                    NaN   \n",
       "5607                         NaN   Southwest                    NaN   \n",
       "...                          ...         ...                    ...   \n",
       "5112                      1.0000   Southwest                    NaN   \n",
       "5113                         NaN   Southwest                    NaN   \n",
       "5114                      1.0000   Southwest                    NaN   \n",
       "5115                      0.6480   Southwest                    NaN   \n",
       "14639                     0.0000    American                    NaN   \n",
       "\n",
       "      negativereason_gold  retweet_count  \\\n",
       "11596                 NaN             44   \n",
       "11582                 NaN             32   \n",
       "7132                  NaN             31   \n",
       "9999                  NaN             28   \n",
       "5607                  NaN             22   \n",
       "...                   ...            ...   \n",
       "5112                  NaN              0   \n",
       "5113                  NaN              0   \n",
       "5114                  NaN              0   \n",
       "5115                  NaN              0   \n",
       "14639                 NaN              0   \n",
       "\n",
       "                                                    text tweet_created  \\\n",
       "11596  @USAirways 5 hr flight delay and a delay when ...    2015-02-17   \n",
       "11582  @USAirways of course never again tho . Thanks ...    2015-02-17   \n",
       "7132   STOP. USING.THIS.WORD. IF. YOU'RE. A. COMPANY....    2015-02-23   \n",
       "9999   @USAirways with this livery back in the day. h...    2015-02-22   \n",
       "5607   @SouthwestAir beautiful day in Seattle! http:/...    2015-02-20   \n",
       "...                                                  ...           ...   \n",
       "5112   @SouthwestAir why am I still in Baltimore?! @d...    2015-02-21   \n",
       "5113   @SouthwestAir I'm ready for #MayweatherPacquia...    2015-02-21   \n",
       "5114   @SouthwestAir you have the worst service, you ...    2015-02-21   \n",
       "5115   @SouthwestAir my flight was Cancelled Flighted...    2015-02-21   \n",
       "14639  @AmericanAir we have 8 ppl so we need 2 know h...    2015-02-22   \n",
       "\n",
       "                  tweet_location  \n",
       "11596                        NaN  \n",
       "11582                        NaN  \n",
       "7132                New York, NY  \n",
       "9999   Airports Around The World  \n",
       "5607                Bellevue, WA  \n",
       "...                          ...  \n",
       "5112             Tallahassee, FL  \n",
       "5113   Orlando.South Beach.Vegas  \n",
       "5114              Havertown, Pa.  \n",
       "5115              Houston, Texas  \n",
       "14639                 dallas, TX  \n",
       "\n",
       "[14640 rows x 11 columns]"
      ]
     },
     "execution_count": 70,
     "metadata": {},
     "output_type": "execute_result"
    }
   ],
   "source": [
    "df1.sort_values([\"retweet_count\"], axis=0, ascending=False)"
   ]
  },
  {
   "cell_type": "markdown",
   "id": "b1eac697-7c6d-41ff-a7ee-326b754a4dfa",
   "metadata": {},
   "source": [
    "Parece que en este caso los 3 tweets más compartidos sí son negativos los 3. Sin embargo, no parece haber evidencia sólida para demostrar que los más o menos compartidos pertenecen a cierta categoría. (Habría que hacer pruebas estadísticas estrictamente hablando, pero al menos al filtrar los datos no parece haberlo)."
   ]
  },
  {
   "cell_type": "markdown",
   "id": "2f1eeae5-c631-43c5-881f-bba997172be4",
   "metadata": {},
   "source": [
    "Por último, antes de pasar a los criterios para filtrar los tweets que sí vamos a usar para la red neuronal, veamos con gráficos cuáles aerolíneas tienen más comentarios negativos y positivos."
   ]
  },
  {
   "cell_type": "code",
   "execution_count": 74,
   "id": "12de0336-549c-4c16-beea-10b8e1aadfb1",
   "metadata": {},
   "outputs": [
    {
     "name": "stdout",
     "output_type": "stream",
     "text": [
      "<class 'pandas.core.series.Series'>\n",
      "RangeIndex: 14640 entries, 0 to 14639\n",
      "Series name: airline\n",
      "Non-Null Count  Dtype \n",
      "--------------  ----- \n",
      "14640 non-null  object\n",
      "dtypes: object(1)\n",
      "memory usage: 114.5+ KB\n"
     ]
    }
   ],
   "source": [
    "df1[\"airline\"].info()"
   ]
  },
  {
   "cell_type": "markdown",
   "id": "b8f363ce-cc97-4624-a535-e8513fcba003",
   "metadata": {},
   "source": [
    "No tenemos datos nulos."
   ]
  },
  {
   "cell_type": "code",
   "execution_count": 75,
   "id": "541cc51e-e51e-472c-bcf5-2de1c1b5f205",
   "metadata": {},
   "outputs": [
    {
     "data": {
      "text/plain": [
       "airline\n",
       "United            3822\n",
       "US Airways        2913\n",
       "American          2759\n",
       "Southwest         2420\n",
       "Delta             2222\n",
       "Virgin America     504\n",
       "Name: count, dtype: int64"
      ]
     },
     "execution_count": 75,
     "metadata": {},
     "output_type": "execute_result"
    }
   ],
   "source": [
    "df1[\"airline\"].value_counts()"
   ]
  },
  {
   "cell_type": "code",
   "execution_count": 17,
   "id": "bc650178-961a-47c5-80a4-25c865f97058",
   "metadata": {},
   "outputs": [
    {
     "data": {
      "image/png": "[encoded data removed]",
      "text/plain": [
       "<Figure size 700x700 with 1 Axes>"
      ]
     },
     "metadata": {},
     "output_type": "display_data"
    }
   ],
   "source": [
    "sns.set_style(\"dark\")\n",
    "plt.figure(figsize=(7,7))\n",
    "sns.histplot(positivos[\"airline\"], color=\"springgreen\")\n",
    "plt.ylabel(\"Número de tweets\", size=13)\n",
    "plt.xlabel(\"\\nAerolíneas\", size=13)\n",
    "plt.title(\"Histograma de los tweets positivos por aerolínea\", size=16)\n",
    "plt.show()"
   ]
  },
  {
   "cell_type": "code",
   "execution_count": 18,
   "id": "56d05e68-4d6e-4444-b0b3-bdbac599b232",
   "metadata": {},
   "outputs": [
    {
     "data": {
      "image/png": "[encoded data removed]",
      "text/plain": [
       "<Figure size 700x700 with 1 Axes>"
      ]
     },
     "metadata": {},
     "output_type": "display_data"
    }
   ],
   "source": [
    "sns.set_style(\"dark\")\n",
    "plt.figure(figsize=(7,7))\n",
    "sns.histplot(negativos[\"airline\"], color=\"tomato\")\n",
    "plt.ylabel(\"Número de tweets\", size=13)\n",
    "plt.xlabel(\"\\nAerolíneas\", size=13)\n",
    "plt.title(\"Histograma de los tweets negativos por aerolínea\", size=16)\n",
    "plt.show()"
   ]
  },
  {
   "cell_type": "markdown",
   "id": "e9304119-4f8d-4806-9293-411970138715",
   "metadata": {},
   "source": [
    "Como podemos ver, aerolíneas como United o American se mantienen casi proporcionales en ambos histogramas. Por otro lado, aerolíneas como Virgin America, Southwest y Delta tienen una proporción menor de comentarios negativos en comparación con los positivos con respecto a las demás aerolíneas. Sin embargo, US Airways sí tiene una proporción mayor de comentarios negativos que positivos."
   ]
  },
  {
   "cell_type": "code",
   "execution_count": 20,
   "id": "200517d7-2e0f-4340-93a8-7235f84bc336",
   "metadata": {},
   "outputs": [
    {
     "data": {
      "text/html": [
       "<div>\n",
       "<style scoped>\n",
       "    .dataframe tbody tr th:only-of-type {\n",
       "        vertical-align: middle;\n",
       "    }\n",
       "\n",
       "    .dataframe tbody tr th {\n",
       "        vertical-align: top;\n",
       "    }\n",
       "\n",
       "    .dataframe thead th {\n",
       "        text-align: right;\n",
       "    }\n",
       "</style>\n",
       "<table border=\"1\" class=\"dataframe\">\n",
       "  <thead>\n",
       "    <tr style=\"text-align: right;\">\n",
       "      <th></th>\n",
       "      <th>airline_sentiment</th>\n",
       "      <th>airline_sentiment_confidence</th>\n",
       "      <th>negativereason</th>\n",
       "      <th>negativereason_confidence</th>\n",
       "      <th>airline</th>\n",
       "      <th>airline_sentiment_gold</th>\n",
       "      <th>negativereason_gold</th>\n",
       "      <th>retweet_count</th>\n",
       "      <th>text</th>\n",
       "      <th>tweet_created</th>\n",
       "      <th>tweet_location</th>\n",
       "    </tr>\n",
       "  </thead>\n",
       "  <tbody>\n",
       "    <tr>\n",
       "      <th>0</th>\n",
       "      <td>neutral</td>\n",
       "      <td>1.0000</td>\n",
       "      <td>NaN</td>\n",
       "      <td>NaN</td>\n",
       "      <td>Virgin America</td>\n",
       "      <td>NaN</td>\n",
       "      <td>NaN</td>\n",
       "      <td>0</td>\n",
       "      <td>@VirginAmerica What @dhepburn said.</td>\n",
       "      <td>2015-02-24</td>\n",
       "      <td>NaN</td>\n",
       "    </tr>\n",
       "    <tr>\n",
       "      <th>1</th>\n",
       "      <td>positive</td>\n",
       "      <td>0.3486</td>\n",
       "      <td>NaN</td>\n",
       "      <td>0.0000</td>\n",
       "      <td>Virgin America</td>\n",
       "      <td>NaN</td>\n",
       "      <td>NaN</td>\n",
       "      <td>0</td>\n",
       "      <td>@VirginAmerica plus you've added commercials t...</td>\n",
       "      <td>2015-02-24</td>\n",
       "      <td>NaN</td>\n",
       "    </tr>\n",
       "    <tr>\n",
       "      <th>2</th>\n",
       "      <td>neutral</td>\n",
       "      <td>0.6837</td>\n",
       "      <td>NaN</td>\n",
       "      <td>NaN</td>\n",
       "      <td>Virgin America</td>\n",
       "      <td>NaN</td>\n",
       "      <td>NaN</td>\n",
       "      <td>0</td>\n",
       "      <td>@VirginAmerica I didn't today... Must mean I n...</td>\n",
       "      <td>2015-02-24</td>\n",
       "      <td>Lets Play</td>\n",
       "    </tr>\n",
       "    <tr>\n",
       "      <th>3</th>\n",
       "      <td>negative</td>\n",
       "      <td>1.0000</td>\n",
       "      <td>Bad Flight</td>\n",
       "      <td>0.7033</td>\n",
       "      <td>Virgin America</td>\n",
       "      <td>NaN</td>\n",
       "      <td>NaN</td>\n",
       "      <td>0</td>\n",
       "      <td>@VirginAmerica it's really aggressive to blast...</td>\n",
       "      <td>2015-02-24</td>\n",
       "      <td>NaN</td>\n",
       "    </tr>\n",
       "    <tr>\n",
       "      <th>4</th>\n",
       "      <td>negative</td>\n",
       "      <td>1.0000</td>\n",
       "      <td>Can't Tell</td>\n",
       "      <td>1.0000</td>\n",
       "      <td>Virgin America</td>\n",
       "      <td>NaN</td>\n",
       "      <td>NaN</td>\n",
       "      <td>0</td>\n",
       "      <td>@VirginAmerica and it's a really big bad thing...</td>\n",
       "      <td>2015-02-24</td>\n",
       "      <td>NaN</td>\n",
       "    </tr>\n",
       "    <tr>\n",
       "      <th>...</th>\n",
       "      <td>...</td>\n",
       "      <td>...</td>\n",
       "      <td>...</td>\n",
       "      <td>...</td>\n",
       "      <td>...</td>\n",
       "      <td>...</td>\n",
       "      <td>...</td>\n",
       "      <td>...</td>\n",
       "      <td>...</td>\n",
       "      <td>...</td>\n",
       "      <td>...</td>\n",
       "    </tr>\n",
       "    <tr>\n",
       "      <th>14635</th>\n",
       "      <td>positive</td>\n",
       "      <td>0.3487</td>\n",
       "      <td>NaN</td>\n",
       "      <td>0.0000</td>\n",
       "      <td>American</td>\n",
       "      <td>NaN</td>\n",
       "      <td>NaN</td>\n",
       "      <td>0</td>\n",
       "      <td>@AmericanAir thank you we got on a different f...</td>\n",
       "      <td>2015-02-22</td>\n",
       "      <td>NaN</td>\n",
       "    </tr>\n",
       "    <tr>\n",
       "      <th>14636</th>\n",
       "      <td>negative</td>\n",
       "      <td>1.0000</td>\n",
       "      <td>Customer Service Issue</td>\n",
       "      <td>1.0000</td>\n",
       "      <td>American</td>\n",
       "      <td>NaN</td>\n",
       "      <td>NaN</td>\n",
       "      <td>0</td>\n",
       "      <td>@AmericanAir leaving over 20 minutes Late Flig...</td>\n",
       "      <td>2015-02-22</td>\n",
       "      <td>Texas</td>\n",
       "    </tr>\n",
       "    <tr>\n",
       "      <th>14637</th>\n",
       "      <td>neutral</td>\n",
       "      <td>1.0000</td>\n",
       "      <td>NaN</td>\n",
       "      <td>NaN</td>\n",
       "      <td>American</td>\n",
       "      <td>NaN</td>\n",
       "      <td>NaN</td>\n",
       "      <td>0</td>\n",
       "      <td>@AmericanAir Please bring American Airlines to...</td>\n",
       "      <td>2015-02-22</td>\n",
       "      <td>Nigeria,lagos</td>\n",
       "    </tr>\n",
       "    <tr>\n",
       "      <th>14638</th>\n",
       "      <td>negative</td>\n",
       "      <td>1.0000</td>\n",
       "      <td>Customer Service Issue</td>\n",
       "      <td>0.6659</td>\n",
       "      <td>American</td>\n",
       "      <td>NaN</td>\n",
       "      <td>NaN</td>\n",
       "      <td>0</td>\n",
       "      <td>@AmericanAir you have my money, you change my ...</td>\n",
       "      <td>2015-02-22</td>\n",
       "      <td>New Jersey</td>\n",
       "    </tr>\n",
       "    <tr>\n",
       "      <th>14639</th>\n",
       "      <td>neutral</td>\n",
       "      <td>0.6771</td>\n",
       "      <td>NaN</td>\n",
       "      <td>0.0000</td>\n",
       "      <td>American</td>\n",
       "      <td>NaN</td>\n",
       "      <td>NaN</td>\n",
       "      <td>0</td>\n",
       "      <td>@AmericanAir we have 8 ppl so we need 2 know h...</td>\n",
       "      <td>2015-02-22</td>\n",
       "      <td>dallas, TX</td>\n",
       "    </tr>\n",
       "  </tbody>\n",
       "</table>\n",
       "<p>14640 rows × 11 columns</p>\n",
       "</div>"
      ],
      "text/plain": [
       "      airline_sentiment  airline_sentiment_confidence          negativereason  \\\n",
       "0               neutral                        1.0000                     NaN   \n",
       "1              positive                        0.3486                     NaN   \n",
       "2               neutral                        0.6837                     NaN   \n",
       "3              negative                        1.0000              Bad Flight   \n",
       "4              negative                        1.0000              Can't Tell   \n",
       "...                 ...                           ...                     ...   \n",
       "14635          positive                        0.3487                     NaN   \n",
       "14636          negative                        1.0000  Customer Service Issue   \n",
       "14637           neutral                        1.0000                     NaN   \n",
       "14638          negative                        1.0000  Customer Service Issue   \n",
       "14639           neutral                        0.6771                     NaN   \n",
       "\n",
       "       negativereason_confidence         airline airline_sentiment_gold  \\\n",
       "0                            NaN  Virgin America                    NaN   \n",
       "1                         0.0000  Virgin America                    NaN   \n",
       "2                            NaN  Virgin America                    NaN   \n",
       "3                         0.7033  Virgin America                    NaN   \n",
       "4                         1.0000  Virgin America                    NaN   \n",
       "...                          ...             ...                    ...   \n",
       "14635                     0.0000        American                    NaN   \n",
       "14636                     1.0000        American                    NaN   \n",
       "14637                        NaN        American                    NaN   \n",
       "14638                     0.6659        American                    NaN   \n",
       "14639                     0.0000        American                    NaN   \n",
       "\n",
       "      negativereason_gold  retweet_count  \\\n",
       "0                     NaN              0   \n",
       "1                     NaN              0   \n",
       "2                     NaN              0   \n",
       "3                     NaN              0   \n",
       "4                     NaN              0   \n",
       "...                   ...            ...   \n",
       "14635                 NaN              0   \n",
       "14636                 NaN              0   \n",
       "14637                 NaN              0   \n",
       "14638                 NaN              0   \n",
       "14639                 NaN              0   \n",
       "\n",
       "                                                    text tweet_created  \\\n",
       "0                    @VirginAmerica What @dhepburn said.    2015-02-24   \n",
       "1      @VirginAmerica plus you've added commercials t...    2015-02-24   \n",
       "2      @VirginAmerica I didn't today... Must mean I n...    2015-02-24   \n",
       "3      @VirginAmerica it's really aggressive to blast...    2015-02-24   \n",
       "4      @VirginAmerica and it's a really big bad thing...    2015-02-24   \n",
       "...                                                  ...           ...   \n",
       "14635  @AmericanAir thank you we got on a different f...    2015-02-22   \n",
       "14636  @AmericanAir leaving over 20 minutes Late Flig...    2015-02-22   \n",
       "14637  @AmericanAir Please bring American Airlines to...    2015-02-22   \n",
       "14638  @AmericanAir you have my money, you change my ...    2015-02-22   \n",
       "14639  @AmericanAir we have 8 ppl so we need 2 know h...    2015-02-22   \n",
       "\n",
       "      tweet_location  \n",
       "0                NaN  \n",
       "1                NaN  \n",
       "2          Lets Play  \n",
       "3                NaN  \n",
       "4                NaN  \n",
       "...              ...  \n",
       "14635            NaN  \n",
       "14636          Texas  \n",
       "14637  Nigeria,lagos  \n",
       "14638     New Jersey  \n",
       "14639     dallas, TX  \n",
       "\n",
       "[14640 rows x 11 columns]"
      ]
     },
     "execution_count": 20,
     "metadata": {},
     "output_type": "execute_result"
    }
   ],
   "source": [
    "df1"
   ]
  },
  {
   "cell_type": "markdown",
   "id": "9d6e54fe-58d3-4e68-a17d-e06e05ac3f95",
   "metadata": {},
   "source": [
    "Veamos si hay datos nulos en las columna de texto o en las etiquetas"
   ]
  },
  {
   "cell_type": "code",
   "execution_count": 21,
   "id": "6263bb13-329f-404a-b2a7-9288980aed53",
   "metadata": {},
   "outputs": [
    {
     "name": "stdout",
     "output_type": "stream",
     "text": [
      "<class 'pandas.core.series.Series'>\n",
      "RangeIndex: 14640 entries, 0 to 14639\n",
      "Series name: airline_sentiment\n",
      "Non-Null Count  Dtype \n",
      "--------------  ----- \n",
      "14640 non-null  object\n",
      "dtypes: object(1)\n",
      "memory usage: 114.5+ KB\n"
     ]
    }
   ],
   "source": [
    "df1['airline_sentiment'].info()"
   ]
  },
  {
   "cell_type": "code",
   "execution_count": 22,
   "id": "3082ec95-e445-4c63-8476-4d498d23dc8a",
   "metadata": {},
   "outputs": [
    {
     "name": "stdout",
     "output_type": "stream",
     "text": [
      "<class 'pandas.core.series.Series'>\n",
      "RangeIndex: 14640 entries, 0 to 14639\n",
      "Series name: text\n",
      "Non-Null Count  Dtype \n",
      "--------------  ----- \n",
      "14640 non-null  object\n",
      "dtypes: object(1)\n",
      "memory usage: 114.5+ KB\n"
     ]
    }
   ],
   "source": [
    "df1[\"text\"].info()"
   ]
  },
  {
   "cell_type": "markdown",
   "id": "71615e24-e6ae-4e53-9815-fd193cad5ed7",
   "metadata": {},
   "source": [
    "No hay nulos en estas columnas.\n",
    "\n",
    "Ahora veamos si hay nulos en las columnas que nos dicen con cuánta confianza se tiene categorizado el tweet."
   ]
  },
  {
   "cell_type": "code",
   "execution_count": 24,
   "id": "6a18ffb6-9513-4999-b097-f702a95220e9",
   "metadata": {},
   "outputs": [
    {
     "name": "stdout",
     "output_type": "stream",
     "text": [
      "<class 'pandas.core.series.Series'>\n",
      "RangeIndex: 14640 entries, 0 to 14639\n",
      "Series name: airline_sentiment_confidence\n",
      "Non-Null Count  Dtype  \n",
      "--------------  -----  \n",
      "14640 non-null  float64\n",
      "dtypes: float64(1)\n",
      "memory usage: 114.5 KB\n"
     ]
    }
   ],
   "source": [
    "df1['airline_sentiment_confidence'].info()"
   ]
  },
  {
   "cell_type": "code",
   "execution_count": 25,
   "id": "fe6e5952-83af-4f08-a009-b238cc5dae55",
   "metadata": {},
   "outputs": [
    {
     "name": "stdout",
     "output_type": "stream",
     "text": [
      "<class 'pandas.core.series.Series'>\n",
      "Index: 9178 entries, 3 to 14638\n",
      "Series name: negativereason_confidence\n",
      "Non-Null Count  Dtype  \n",
      "--------------  -----  \n",
      "9178 non-null   float64\n",
      "dtypes: float64(1)\n",
      "memory usage: 143.4 KB\n"
     ]
    }
   ],
   "source": [
    "negativos[\"negativereason_confidence\"].info()"
   ]
  },
  {
   "cell_type": "markdown",
   "id": "330526ae-d103-48c7-8827-01a46d3eb0eb",
   "metadata": {},
   "source": [
    "No hay nulos, así que podemos ver la distribución de los valores para saber si podemos filtrar algunas instancias para quedarnos con las que mejor entrenen al modelo."
   ]
  },
  {
   "cell_type": "code",
   "execution_count": 27,
   "id": "66117362-78b2-41ec-bdfb-ce70be6ce88e",
   "metadata": {},
   "outputs": [
    {
     "data": {
      "text/plain": [
       "count    14640.000000\n",
       "mean         0.900169\n",
       "std          0.162830\n",
       "min          0.335000\n",
       "25%          0.692300\n",
       "50%          1.000000\n",
       "75%          1.000000\n",
       "max          1.000000\n",
       "Name: airline_sentiment_confidence, dtype: float64"
      ]
     },
     "execution_count": 27,
     "metadata": {},
     "output_type": "execute_result"
    }
   ],
   "source": [
    "df1[\"airline_sentiment_confidence\"].describe()"
   ]
  },
  {
   "cell_type": "markdown",
   "id": "c8336ae7-6a2f-419d-8e64-519f8e4d8952",
   "metadata": {},
   "source": [
    "Aquí podemos poner el siguiente criterio: si no hay una confianza igual o superior al 60% en el sentimiento del tweet, lo vamos a eliminar."
   ]
  },
  {
   "cell_type": "code",
   "execution_count": 19,
   "id": "04b939ca-a1de-4ba7-ad93-1ddc989b2c8e",
   "metadata": {},
   "outputs": [
    {
     "data": {
      "text/plain": [
       "count    14402.000000\n",
       "mean         0.909153\n",
       "std          0.148251\n",
       "min          0.603900\n",
       "25%          0.698800\n",
       "50%          1.000000\n",
       "75%          1.000000\n",
       "max          1.000000\n",
       "Name: airline_sentiment_confidence, dtype: float64"
      ]
     },
     "execution_count": 19,
     "metadata": {},
     "output_type": "execute_result"
    }
   ],
   "source": [
    "df2 = df1[df1[\"airline_sentiment_confidence\"] >= 0.60]\n",
    "df2[\"airline_sentiment_confidence\"].describe()"
   ]
  },
  {
   "cell_type": "markdown",
   "id": "6263e8e8-bd41-46f8-a3ca-d1ca359412dc",
   "metadata": {},
   "source": [
    "Con esto eliminamos 638 tweets que nos podían generar ruido por no estar bien catalogados."
   ]
  },
  {
   "cell_type": "code",
   "execution_count": 29,
   "id": "23489a80-3d37-4fb6-a522-783fe970a0ff",
   "metadata": {},
   "outputs": [
    {
     "data": {
      "text/plain": [
       "count    9178.000000\n",
       "mean        0.731769\n",
       "std         0.238276\n",
       "min         0.312200\n",
       "25%         0.645300\n",
       "50%         0.680600\n",
       "75%         1.000000\n",
       "max         1.000000\n",
       "Name: negativereason_confidence, dtype: float64"
      ]
     },
     "execution_count": 29,
     "metadata": {},
     "output_type": "execute_result"
    }
   ],
   "source": [
    "negativos['negativereason_confidence'].describe()"
   ]
  },
  {
   "cell_type": "markdown",
   "id": "4fff69df-8e66-44c4-a83e-e6d3271486ac",
   "metadata": {},
   "source": [
    "Podemos dar el mismo criterio: si en los tweets negativos no hay una confianza igual o superior al 60% de que sea negativo, entonces lo eliminamos."
   ]
  },
  {
   "cell_type": "code",
   "execution_count": 29,
   "id": "0171eacb-325b-4393-a9c8-f2d52c6f7e03",
   "metadata": {},
   "outputs": [
    {
     "data": {
      "text/plain": [
       "(12678, 11)"
      ]
     },
     "execution_count": 29,
     "metadata": {},
     "output_type": "execute_result"
    }
   ],
   "source": [
    "df3 = df2[((df2[\"airline_sentiment\"] == \"negative\") & (df2[\"negativereason_confidence\"] >= 0.60)) | (df2[\"airline_sentiment\"] != \"negative\")] \n",
    "df3.shape"
   ]
  },
  {
   "cell_type": "markdown",
   "id": "0965743f-5040-455e-9855-e3e29453caf5",
   "metadata": {},
   "source": [
    "Con esto nos quedamos con un dataset con más confianza sobre las clases asignadas a cada instancia. Ahora bien, solo falta revisar las proporciones en que nos quedaron las clases y verificar a qué se refieren las columnas que tienen la palabra \"gold\"."
   ]
  },
  {
   "cell_type": "code",
   "execution_count": 30,
   "id": "ccb7ba52-53e0-496e-b3a8-e1d96f9e06bc",
   "metadata": {},
   "outputs": [
    {
     "data": {
      "text/plain": [
       "airline_sentiment\n",
       "negative    7389\n",
       "neutral     2997\n",
       "positive    2292\n",
       "Name: count, dtype: int64"
      ]
     },
     "execution_count": 30,
     "metadata": {},
     "output_type": "execute_result"
    }
   ],
   "source": [
    "df3[\"airline_sentiment\"].value_counts()"
   ]
  },
  {
   "cell_type": "markdown",
   "id": "58be630b-9070-4f19-b2be-7585221fa1b4",
   "metadata": {},
   "source": [
    "Sigue estando desbalanceado, pero no tanto como al inicio."
   ]
  },
  {
   "cell_type": "code",
   "execution_count": 32,
   "id": "61583533-6a24-49bb-8404-021a5c331461",
   "metadata": {},
   "outputs": [
    {
     "name": "stdout",
     "output_type": "stream",
     "text": [
      "<class 'pandas.core.series.Series'>\n",
      "Index: 12678 entries, 0 to 14639\n",
      "Series name: airline_sentiment_gold\n",
      "Non-Null Count  Dtype \n",
      "--------------  ----- \n",
      "33 non-null     object\n",
      "dtypes: object(1)\n",
      "memory usage: 198.1+ KB\n"
     ]
    }
   ],
   "source": [
    "df3['airline_sentiment_gold'].info()"
   ]
  },
  {
   "cell_type": "code",
   "execution_count": 34,
   "id": "4d3dce5e-afb9-41f6-9a44-2a4dffaffbbd",
   "metadata": {},
   "outputs": [
    {
     "data": {
      "text/html": [
       "<div>\n",
       "<style scoped>\n",
       "    .dataframe tbody tr th:only-of-type {\n",
       "        vertical-align: middle;\n",
       "    }\n",
       "\n",
       "    .dataframe tbody tr th {\n",
       "        vertical-align: top;\n",
       "    }\n",
       "\n",
       "    .dataframe thead th {\n",
       "        text-align: right;\n",
       "    }\n",
       "</style>\n",
       "<table border=\"1\" class=\"dataframe\">\n",
       "  <thead>\n",
       "    <tr style=\"text-align: right;\">\n",
       "      <th></th>\n",
       "      <th>airline_sentiment</th>\n",
       "      <th>airline_sentiment_confidence</th>\n",
       "      <th>negativereason</th>\n",
       "      <th>negativereason_confidence</th>\n",
       "      <th>airline</th>\n",
       "      <th>airline_sentiment_gold</th>\n",
       "      <th>negativereason_gold</th>\n",
       "      <th>retweet_count</th>\n",
       "      <th>text</th>\n",
       "      <th>tweet_created</th>\n",
       "      <th>tweet_location</th>\n",
       "    </tr>\n",
       "  </thead>\n",
       "  <tbody>\n",
       "    <tr>\n",
       "      <th>1286</th>\n",
       "      <td>negative</td>\n",
       "      <td>1.0000</td>\n",
       "      <td>Late Flight</td>\n",
       "      <td>0.7684</td>\n",
       "      <td>United</td>\n",
       "      <td>negative</td>\n",
       "      <td>Late Flight\\nFlight Attendant Complaints</td>\n",
       "      <td>0</td>\n",
       "      <td>@united I'm aware of the flight details, thank...</td>\n",
       "      <td>2015-02-23</td>\n",
       "      <td>Arlington, VA</td>\n",
       "    </tr>\n",
       "    <tr>\n",
       "      <th>2017</th>\n",
       "      <td>negative</td>\n",
       "      <td>1.0000</td>\n",
       "      <td>Late Flight</td>\n",
       "      <td>0.6048</td>\n",
       "      <td>United</td>\n",
       "      <td>negative</td>\n",
       "      <td>Late Flight\\nLost Luggage</td>\n",
       "      <td>0</td>\n",
       "      <td>@united flighted delayed for hours. 10pm arriv...</td>\n",
       "      <td>2015-02-22</td>\n",
       "      <td>Atlantic Highlands, NJ</td>\n",
       "    </tr>\n",
       "    <tr>\n",
       "      <th>2135</th>\n",
       "      <td>neutral</td>\n",
       "      <td>1.0000</td>\n",
       "      <td>NaN</td>\n",
       "      <td>NaN</td>\n",
       "      <td>United</td>\n",
       "      <td>neutral</td>\n",
       "      <td>NaN</td>\n",
       "      <td>0</td>\n",
       "      <td>@united I have a question</td>\n",
       "      <td>2015-02-21</td>\n",
       "      <td>NaN</td>\n",
       "    </tr>\n",
       "    <tr>\n",
       "      <th>2201</th>\n",
       "      <td>negative</td>\n",
       "      <td>1.0000</td>\n",
       "      <td>Late Flight</td>\n",
       "      <td>0.6478</td>\n",
       "      <td>United</td>\n",
       "      <td>negative</td>\n",
       "      <td>Late Flight</td>\n",
       "      <td>1</td>\n",
       "      <td>@united it's been over 3 hours...at what point...</td>\n",
       "      <td>2015-02-21</td>\n",
       "      <td>NaN</td>\n",
       "    </tr>\n",
       "    <tr>\n",
       "      <th>2383</th>\n",
       "      <td>negative</td>\n",
       "      <td>0.9286</td>\n",
       "      <td>Customer Service Issue</td>\n",
       "      <td>0.9286</td>\n",
       "      <td>United</td>\n",
       "      <td>negative</td>\n",
       "      <td>Customer Service Issue</td>\n",
       "      <td>0</td>\n",
       "      <td>@united You shouldn't page o'head that it's be...</td>\n",
       "      <td>2015-02-21</td>\n",
       "      <td>new york, baby</td>\n",
       "    </tr>\n",
       "    <tr>\n",
       "      <th>3005</th>\n",
       "      <td>negative</td>\n",
       "      <td>1.0000</td>\n",
       "      <td>Can't Tell</td>\n",
       "      <td>0.6870</td>\n",
       "      <td>United</td>\n",
       "      <td>negative</td>\n",
       "      <td>Can't Tell</td>\n",
       "      <td>0</td>\n",
       "      <td>@united couldn't have possibly messed up our t...</td>\n",
       "      <td>2015-02-20</td>\n",
       "      <td>NaN</td>\n",
       "    </tr>\n",
       "    <tr>\n",
       "      <th>4206</th>\n",
       "      <td>negative</td>\n",
       "      <td>1.0000</td>\n",
       "      <td>Cancelled Flight</td>\n",
       "      <td>1.0000</td>\n",
       "      <td>United</td>\n",
       "      <td>negative</td>\n",
       "      <td>Cancelled Flight</td>\n",
       "      <td>0</td>\n",
       "      <td>@united So what do you offer now that my fligh...</td>\n",
       "      <td>2015-02-17</td>\n",
       "      <td>Chicago</td>\n",
       "    </tr>\n",
       "    <tr>\n",
       "      <th>4525</th>\n",
       "      <td>positive</td>\n",
       "      <td>0.9657</td>\n",
       "      <td>NaN</td>\n",
       "      <td>0.0000</td>\n",
       "      <td>Southwest</td>\n",
       "      <td>positive</td>\n",
       "      <td>NaN</td>\n",
       "      <td>0</td>\n",
       "      <td>@SouthwestAir What an awesome flight Dallas 2 ...</td>\n",
       "      <td>2015-02-23</td>\n",
       "      <td>ny</td>\n",
       "    </tr>\n",
       "    <tr>\n",
       "      <th>5183</th>\n",
       "      <td>negative</td>\n",
       "      <td>1.0000</td>\n",
       "      <td>Customer Service Issue</td>\n",
       "      <td>0.7715</td>\n",
       "      <td>Southwest</td>\n",
       "      <td>negative</td>\n",
       "      <td>Customer Service Issue</td>\n",
       "      <td>0</td>\n",
       "      <td>@SouthwestAir  also, gave up after 1 hr 32 min...</td>\n",
       "      <td>2015-02-21</td>\n",
       "      <td>NaN</td>\n",
       "    </tr>\n",
       "    <tr>\n",
       "      <th>5341</th>\n",
       "      <td>negative</td>\n",
       "      <td>1.0000</td>\n",
       "      <td>Customer Service Issue</td>\n",
       "      <td>0.9256</td>\n",
       "      <td>Southwest</td>\n",
       "      <td>negative</td>\n",
       "      <td>Customer Service Issue</td>\n",
       "      <td>0</td>\n",
       "      <td>@SouthwestAir I've been on hold for over an ho...</td>\n",
       "      <td>2015-02-21</td>\n",
       "      <td>Baton Rouge, LA</td>\n",
       "    </tr>\n",
       "    <tr>\n",
       "      <th>5749</th>\n",
       "      <td>neutral</td>\n",
       "      <td>0.9160</td>\n",
       "      <td>NaN</td>\n",
       "      <td>0.0000</td>\n",
       "      <td>Southwest</td>\n",
       "      <td>neutral</td>\n",
       "      <td>NaN</td>\n",
       "      <td>0</td>\n",
       "      <td>@SouthwestAir If a travel advisory is posted f...</td>\n",
       "      <td>2015-02-20</td>\n",
       "      <td>Denver</td>\n",
       "    </tr>\n",
       "    <tr>\n",
       "      <th>5810</th>\n",
       "      <td>negative</td>\n",
       "      <td>0.9658</td>\n",
       "      <td>Bad Flight</td>\n",
       "      <td>0.6623</td>\n",
       "      <td>Southwest</td>\n",
       "      <td>negative</td>\n",
       "      <td>Bad Flight</td>\n",
       "      <td>1</td>\n",
       "      <td>@SouthwestAir please do something about the sp...</td>\n",
       "      <td>2015-02-19</td>\n",
       "      <td>Raleigh, NC</td>\n",
       "    </tr>\n",
       "    <tr>\n",
       "      <th>6632</th>\n",
       "      <td>negative</td>\n",
       "      <td>0.9594</td>\n",
       "      <td>Customer Service Issue</td>\n",
       "      <td>0.9594</td>\n",
       "      <td>Southwest</td>\n",
       "      <td>negative</td>\n",
       "      <td>Customer Service Issue</td>\n",
       "      <td>0</td>\n",
       "      <td>@SouthwestAir please send me a number to call ...</td>\n",
       "      <td>2015-02-17</td>\n",
       "      <td>NaN</td>\n",
       "    </tr>\n",
       "    <tr>\n",
       "      <th>6728</th>\n",
       "      <td>neutral</td>\n",
       "      <td>0.9633</td>\n",
       "      <td>NaN</td>\n",
       "      <td>0.0000</td>\n",
       "      <td>Southwest</td>\n",
       "      <td>neutral</td>\n",
       "      <td>NaN</td>\n",
       "      <td>0</td>\n",
       "      <td>@southwestair - kind of early but any idea whe...</td>\n",
       "      <td>2015-02-17</td>\n",
       "      <td>London, Ontario, Canada</td>\n",
       "    </tr>\n",
       "    <tr>\n",
       "      <th>6758</th>\n",
       "      <td>negative</td>\n",
       "      <td>1.0000</td>\n",
       "      <td>Cancelled Flight</td>\n",
       "      <td>1.0000</td>\n",
       "      <td>Delta</td>\n",
       "      <td>negative</td>\n",
       "      <td>Cancelled Flight</td>\n",
       "      <td>0</td>\n",
       "      <td>@JetBlue but by Cancelled Flighting my flight ...</td>\n",
       "      <td>2015-02-24</td>\n",
       "      <td>NaN</td>\n",
       "    </tr>\n",
       "    <tr>\n",
       "      <th>8207</th>\n",
       "      <td>negative</td>\n",
       "      <td>0.7723</td>\n",
       "      <td>Can't Tell</td>\n",
       "      <td>0.7310</td>\n",
       "      <td>Delta</td>\n",
       "      <td>negative</td>\n",
       "      <td>Can't Tell</td>\n",
       "      <td>0</td>\n",
       "      <td>@JetBlue time to reevaluate my nyc carrier.</td>\n",
       "      <td>2015-02-19</td>\n",
       "      <td>Austin, TX</td>\n",
       "    </tr>\n",
       "    <tr>\n",
       "      <th>8536</th>\n",
       "      <td>negative</td>\n",
       "      <td>1.0000</td>\n",
       "      <td>Lost Luggage</td>\n",
       "      <td>0.8436</td>\n",
       "      <td>Delta</td>\n",
       "      <td>negative</td>\n",
       "      <td>Lost Luggage\\nDamaged Luggage</td>\n",
       "      <td>0</td>\n",
       "      <td>@JetBlue I am heading to JFK now just on princ...</td>\n",
       "      <td>2015-02-18</td>\n",
       "      <td>ÜT: 40.96513,-73.872957</td>\n",
       "    </tr>\n",
       "    <tr>\n",
       "      <th>8739</th>\n",
       "      <td>negative</td>\n",
       "      <td>1.0000</td>\n",
       "      <td>Cancelled Flight</td>\n",
       "      <td>1.0000</td>\n",
       "      <td>Delta</td>\n",
       "      <td>negative</td>\n",
       "      <td>Cancelled Flight</td>\n",
       "      <td>0</td>\n",
       "      <td>@JetBlue I'm disappointed my flight was Cancel...</td>\n",
       "      <td>2015-02-17</td>\n",
       "      <td>New York, NY</td>\n",
       "    </tr>\n",
       "    <tr>\n",
       "      <th>9493</th>\n",
       "      <td>negative</td>\n",
       "      <td>0.9670</td>\n",
       "      <td>Can't Tell</td>\n",
       "      <td>0.8042</td>\n",
       "      <td>US Airways</td>\n",
       "      <td>negative</td>\n",
       "      <td>Can't Tell</td>\n",
       "      <td>1</td>\n",
       "      <td>@USAirways / @AmericanAir don't forget without...</td>\n",
       "      <td>2015-02-23</td>\n",
       "      <td>Pennsylvania</td>\n",
       "    </tr>\n",
       "    <tr>\n",
       "      <th>11053</th>\n",
       "      <td>positive</td>\n",
       "      <td>1.0000</td>\n",
       "      <td>NaN</td>\n",
       "      <td>NaN</td>\n",
       "      <td>US Airways</td>\n",
       "      <td>positive</td>\n",
       "      <td>NaN</td>\n",
       "      <td>0</td>\n",
       "      <td>@USAirways thank you finally got our bag. Cust...</td>\n",
       "      <td>2015-02-19</td>\n",
       "      <td>NaN</td>\n",
       "    </tr>\n",
       "    <tr>\n",
       "      <th>12024</th>\n",
       "      <td>positive</td>\n",
       "      <td>1.0000</td>\n",
       "      <td>NaN</td>\n",
       "      <td>NaN</td>\n",
       "      <td>American</td>\n",
       "      <td>positive</td>\n",
       "      <td>NaN</td>\n",
       "      <td>0</td>\n",
       "      <td>@AmericanAir @dfwairport you 2 together are th...</td>\n",
       "      <td>2015-02-24</td>\n",
       "      <td>Euless, Texas</td>\n",
       "    </tr>\n",
       "    <tr>\n",
       "      <th>12025</th>\n",
       "      <td>negative</td>\n",
       "      <td>1.0000</td>\n",
       "      <td>Cancelled Flight</td>\n",
       "      <td>0.7918</td>\n",
       "      <td>American</td>\n",
       "      <td>negative</td>\n",
       "      <td>Late Flight\\nCancelled Flight</td>\n",
       "      <td>0</td>\n",
       "      <td>@AmericanAir over the last year 50% of my flig...</td>\n",
       "      <td>2015-02-24</td>\n",
       "      <td>Edmond, Oklahoma</td>\n",
       "    </tr>\n",
       "    <tr>\n",
       "      <th>12026</th>\n",
       "      <td>negative</td>\n",
       "      <td>1.0000</td>\n",
       "      <td>Customer Service Issue</td>\n",
       "      <td>0.9241</td>\n",
       "      <td>American</td>\n",
       "      <td>negative</td>\n",
       "      <td>Customer Service Issue</td>\n",
       "      <td>0</td>\n",
       "      <td>@AmericanAir FYI...call stilling getting dropp...</td>\n",
       "      <td>2015-02-23</td>\n",
       "      <td>NaN</td>\n",
       "    </tr>\n",
       "    <tr>\n",
       "      <th>12027</th>\n",
       "      <td>negative</td>\n",
       "      <td>1.0000</td>\n",
       "      <td>Customer Service Issue</td>\n",
       "      <td>0.9303</td>\n",
       "      <td>American</td>\n",
       "      <td>negative</td>\n",
       "      <td>Customer Service Issue</td>\n",
       "      <td>0</td>\n",
       "      <td>@AmericanAir how can I get you guys to respond...</td>\n",
       "      <td>2015-02-23</td>\n",
       "      <td>San Diego</td>\n",
       "    </tr>\n",
       "    <tr>\n",
       "      <th>12028</th>\n",
       "      <td>negative</td>\n",
       "      <td>1.0000</td>\n",
       "      <td>Customer Service Issue</td>\n",
       "      <td>1.0000</td>\n",
       "      <td>American</td>\n",
       "      <td>negative</td>\n",
       "      <td>Customer Service Issue</td>\n",
       "      <td>0</td>\n",
       "      <td>@AmericanAir @SouljaCoy what is AA going to do...</td>\n",
       "      <td>2015-02-22</td>\n",
       "      <td>NaN</td>\n",
       "    </tr>\n",
       "    <tr>\n",
       "      <th>12029</th>\n",
       "      <td>negative</td>\n",
       "      <td>1.0000</td>\n",
       "      <td>Customer Service Issue</td>\n",
       "      <td>0.9620</td>\n",
       "      <td>American</td>\n",
       "      <td>negative</td>\n",
       "      <td>Customer Service Issue</td>\n",
       "      <td>0</td>\n",
       "      <td>@AmericanAir  800 number will not even let you...</td>\n",
       "      <td>2015-02-22</td>\n",
       "      <td>NaN</td>\n",
       "    </tr>\n",
       "    <tr>\n",
       "      <th>12030</th>\n",
       "      <td>negative</td>\n",
       "      <td>1.0000</td>\n",
       "      <td>Customer Service Issue</td>\n",
       "      <td>1.0000</td>\n",
       "      <td>American</td>\n",
       "      <td>negative</td>\n",
       "      <td>Customer Service Issue</td>\n",
       "      <td>0</td>\n",
       "      <td>@AmericanAir I want to speak to a human being!...</td>\n",
       "      <td>2015-02-22</td>\n",
       "      <td>NaN</td>\n",
       "    </tr>\n",
       "    <tr>\n",
       "      <th>12031</th>\n",
       "      <td>negative</td>\n",
       "      <td>1.0000</td>\n",
       "      <td>Customer Service Issue</td>\n",
       "      <td>1.0000</td>\n",
       "      <td>American</td>\n",
       "      <td>negative</td>\n",
       "      <td>Customer Service Issue</td>\n",
       "      <td>0</td>\n",
       "      <td>@AmericanAir no response to DM or email yet.  ...</td>\n",
       "      <td>2015-02-22</td>\n",
       "      <td>on @TheJR</td>\n",
       "    </tr>\n",
       "    <tr>\n",
       "      <th>12032</th>\n",
       "      <td>negative</td>\n",
       "      <td>0.9553</td>\n",
       "      <td>Flight Attendant Complaints</td>\n",
       "      <td>0.9553</td>\n",
       "      <td>American</td>\n",
       "      <td>negative</td>\n",
       "      <td>Flight Attendant Complaints</td>\n",
       "      <td>0</td>\n",
       "      <td>@AmericanAir should reconsider #usairways acqu...</td>\n",
       "      <td>2015-02-22</td>\n",
       "      <td>Los Angeles</td>\n",
       "    </tr>\n",
       "    <tr>\n",
       "      <th>12033</th>\n",
       "      <td>positive</td>\n",
       "      <td>0.9236</td>\n",
       "      <td>NaN</td>\n",
       "      <td>0.0000</td>\n",
       "      <td>American</td>\n",
       "      <td>positive</td>\n",
       "      <td>NaN</td>\n",
       "      <td>0</td>\n",
       "      <td>@AmericanAir Thank you.....you do the same!!</td>\n",
       "      <td>2015-02-22</td>\n",
       "      <td>Caribbean, New York and Miami.</td>\n",
       "    </tr>\n",
       "    <tr>\n",
       "      <th>12035</th>\n",
       "      <td>negative</td>\n",
       "      <td>1.0000</td>\n",
       "      <td>Customer Service Issue</td>\n",
       "      <td>0.6727</td>\n",
       "      <td>American</td>\n",
       "      <td>negative</td>\n",
       "      <td>Customer Service Issue</td>\n",
       "      <td>0</td>\n",
       "      <td>@AmericanAir - how long does it take to get cr...</td>\n",
       "      <td>2015-02-20</td>\n",
       "      <td>NaN</td>\n",
       "    </tr>\n",
       "    <tr>\n",
       "      <th>12036</th>\n",
       "      <td>positive</td>\n",
       "      <td>0.6242</td>\n",
       "      <td>NaN</td>\n",
       "      <td>0.0000</td>\n",
       "      <td>American</td>\n",
       "      <td>positive</td>\n",
       "      <td>NaN</td>\n",
       "      <td>0</td>\n",
       "      <td>@AmericanAir Hopefully you ll see bad ones as ...</td>\n",
       "      <td>2015-02-19</td>\n",
       "      <td>Sunnyside, NY</td>\n",
       "    </tr>\n",
       "    <tr>\n",
       "      <th>12039</th>\n",
       "      <td>negative</td>\n",
       "      <td>0.7991</td>\n",
       "      <td>Can't Tell</td>\n",
       "      <td>0.6423</td>\n",
       "      <td>Delta</td>\n",
       "      <td>negative</td>\n",
       "      <td>Customer Service Issue\\nCan't Tell</td>\n",
       "      <td>0</td>\n",
       "      <td>@DeltaAssist what I have to say is more than 1...</td>\n",
       "      <td>2015-02-20</td>\n",
       "      <td>NaN</td>\n",
       "    </tr>\n",
       "  </tbody>\n",
       "</table>\n",
       "</div>"
      ],
      "text/plain": [
       "      airline_sentiment  airline_sentiment_confidence  \\\n",
       "1286           negative                        1.0000   \n",
       "2017           negative                        1.0000   \n",
       "2135            neutral                        1.0000   \n",
       "2201           negative                        1.0000   \n",
       "2383           negative                        0.9286   \n",
       "3005           negative                        1.0000   \n",
       "4206           negative                        1.0000   \n",
       "4525           positive                        0.9657   \n",
       "5183           negative                        1.0000   \n",
       "5341           negative                        1.0000   \n",
       "5749            neutral                        0.9160   \n",
       "5810           negative                        0.9658   \n",
       "6632           negative                        0.9594   \n",
       "6728            neutral                        0.9633   \n",
       "6758           negative                        1.0000   \n",
       "8207           negative                        0.7723   \n",
       "8536           negative                        1.0000   \n",
       "8739           negative                        1.0000   \n",
       "9493           negative                        0.9670   \n",
       "11053          positive                        1.0000   \n",
       "12024          positive                        1.0000   \n",
       "12025          negative                        1.0000   \n",
       "12026          negative                        1.0000   \n",
       "12027          negative                        1.0000   \n",
       "12028          negative                        1.0000   \n",
       "12029          negative                        1.0000   \n",
       "12030          negative                        1.0000   \n",
       "12031          negative                        1.0000   \n",
       "12032          negative                        0.9553   \n",
       "12033          positive                        0.9236   \n",
       "12035          negative                        1.0000   \n",
       "12036          positive                        0.6242   \n",
       "12039          negative                        0.7991   \n",
       "\n",
       "                    negativereason  negativereason_confidence     airline  \\\n",
       "1286                   Late Flight                     0.7684      United   \n",
       "2017                   Late Flight                     0.6048      United   \n",
       "2135                           NaN                        NaN      United   \n",
       "2201                   Late Flight                     0.6478      United   \n",
       "2383        Customer Service Issue                     0.9286      United   \n",
       "3005                    Can't Tell                     0.6870      United   \n",
       "4206              Cancelled Flight                     1.0000      United   \n",
       "4525                           NaN                     0.0000   Southwest   \n",
       "5183        Customer Service Issue                     0.7715   Southwest   \n",
       "5341        Customer Service Issue                     0.9256   Southwest   \n",
       "5749                           NaN                     0.0000   Southwest   \n",
       "5810                    Bad Flight                     0.6623   Southwest   \n",
       "6632        Customer Service Issue                     0.9594   Southwest   \n",
       "6728                           NaN                     0.0000   Southwest   \n",
       "6758              Cancelled Flight                     1.0000       Delta   \n",
       "8207                    Can't Tell                     0.7310       Delta   \n",
       "8536                  Lost Luggage                     0.8436       Delta   \n",
       "8739              Cancelled Flight                     1.0000       Delta   \n",
       "9493                    Can't Tell                     0.8042  US Airways   \n",
       "11053                          NaN                        NaN  US Airways   \n",
       "12024                          NaN                        NaN    American   \n",
       "12025             Cancelled Flight                     0.7918    American   \n",
       "12026       Customer Service Issue                     0.9241    American   \n",
       "12027       Customer Service Issue                     0.9303    American   \n",
       "12028       Customer Service Issue                     1.0000    American   \n",
       "12029       Customer Service Issue                     0.9620    American   \n",
       "12030       Customer Service Issue                     1.0000    American   \n",
       "12031       Customer Service Issue                     1.0000    American   \n",
       "12032  Flight Attendant Complaints                     0.9553    American   \n",
       "12033                          NaN                     0.0000    American   \n",
       "12035       Customer Service Issue                     0.6727    American   \n",
       "12036                          NaN                     0.0000    American   \n",
       "12039                   Can't Tell                     0.6423       Delta   \n",
       "\n",
       "      airline_sentiment_gold                       negativereason_gold  \\\n",
       "1286                negative  Late Flight\\nFlight Attendant Complaints   \n",
       "2017                negative                 Late Flight\\nLost Luggage   \n",
       "2135                 neutral                                       NaN   \n",
       "2201                negative                               Late Flight   \n",
       "2383                negative                    Customer Service Issue   \n",
       "3005                negative                                Can't Tell   \n",
       "4206                negative                          Cancelled Flight   \n",
       "4525                positive                                       NaN   \n",
       "5183                negative                    Customer Service Issue   \n",
       "5341                negative                    Customer Service Issue   \n",
       "5749                 neutral                                       NaN   \n",
       "5810                negative                                Bad Flight   \n",
       "6632                negative                    Customer Service Issue   \n",
       "6728                 neutral                                       NaN   \n",
       "6758                negative                          Cancelled Flight   \n",
       "8207                negative                                Can't Tell   \n",
       "8536                negative             Lost Luggage\\nDamaged Luggage   \n",
       "8739                negative                          Cancelled Flight   \n",
       "9493                negative                                Can't Tell   \n",
       "11053               positive                                       NaN   \n",
       "12024               positive                                       NaN   \n",
       "12025               negative             Late Flight\\nCancelled Flight   \n",
       "12026               negative                    Customer Service Issue   \n",
       "12027               negative                    Customer Service Issue   \n",
       "12028               negative                    Customer Service Issue   \n",
       "12029               negative                    Customer Service Issue   \n",
       "12030               negative                    Customer Service Issue   \n",
       "12031               negative                    Customer Service Issue   \n",
       "12032               negative               Flight Attendant Complaints   \n",
       "12033               positive                                       NaN   \n",
       "12035               negative                    Customer Service Issue   \n",
       "12036               positive                                       NaN   \n",
       "12039               negative        Customer Service Issue\\nCan't Tell   \n",
       "\n",
       "       retweet_count                                               text  \\\n",
       "1286               0  @united I'm aware of the flight details, thank...   \n",
       "2017               0  @united flighted delayed for hours. 10pm arriv...   \n",
       "2135               0                          @united I have a question   \n",
       "2201               1  @united it's been over 3 hours...at what point...   \n",
       "2383               0  @united You shouldn't page o'head that it's be...   \n",
       "3005               0  @united couldn't have possibly messed up our t...   \n",
       "4206               0  @united So what do you offer now that my fligh...   \n",
       "4525               0  @SouthwestAir What an awesome flight Dallas 2 ...   \n",
       "5183               0  @SouthwestAir  also, gave up after 1 hr 32 min...   \n",
       "5341               0  @SouthwestAir I've been on hold for over an ho...   \n",
       "5749               0  @SouthwestAir If a travel advisory is posted f...   \n",
       "5810               1  @SouthwestAir please do something about the sp...   \n",
       "6632               0  @SouthwestAir please send me a number to call ...   \n",
       "6728               0  @southwestair - kind of early but any idea whe...   \n",
       "6758               0  @JetBlue but by Cancelled Flighting my flight ...   \n",
       "8207               0        @JetBlue time to reevaluate my nyc carrier.   \n",
       "8536               0  @JetBlue I am heading to JFK now just on princ...   \n",
       "8739               0  @JetBlue I'm disappointed my flight was Cancel...   \n",
       "9493               1  @USAirways / @AmericanAir don't forget without...   \n",
       "11053              0  @USAirways thank you finally got our bag. Cust...   \n",
       "12024              0  @AmericanAir @dfwairport you 2 together are th...   \n",
       "12025              0  @AmericanAir over the last year 50% of my flig...   \n",
       "12026              0  @AmericanAir FYI...call stilling getting dropp...   \n",
       "12027              0  @AmericanAir how can I get you guys to respond...   \n",
       "12028              0  @AmericanAir @SouljaCoy what is AA going to do...   \n",
       "12029              0  @AmericanAir  800 number will not even let you...   \n",
       "12030              0  @AmericanAir I want to speak to a human being!...   \n",
       "12031              0  @AmericanAir no response to DM or email yet.  ...   \n",
       "12032              0  @AmericanAir should reconsider #usairways acqu...   \n",
       "12033              0       @AmericanAir Thank you.....you do the same!!   \n",
       "12035              0  @AmericanAir - how long does it take to get cr...   \n",
       "12036              0  @AmericanAir Hopefully you ll see bad ones as ...   \n",
       "12039              0  @DeltaAssist what I have to say is more than 1...   \n",
       "\n",
       "      tweet_created                  tweet_location  \n",
       "1286     2015-02-23                   Arlington, VA  \n",
       "2017     2015-02-22          Atlantic Highlands, NJ  \n",
       "2135     2015-02-21                             NaN  \n",
       "2201     2015-02-21                             NaN  \n",
       "2383     2015-02-21                  new york, baby  \n",
       "3005     2015-02-20                             NaN  \n",
       "4206     2015-02-17                         Chicago  \n",
       "4525     2015-02-23                              ny  \n",
       "5183     2015-02-21                             NaN  \n",
       "5341     2015-02-21                 Baton Rouge, LA  \n",
       "5749     2015-02-20                          Denver  \n",
       "5810     2015-02-19                     Raleigh, NC  \n",
       "6632     2015-02-17                             NaN  \n",
       "6728     2015-02-17         London, Ontario, Canada  \n",
       "6758     2015-02-24                             NaN  \n",
       "8207     2015-02-19                      Austin, TX  \n",
       "8536     2015-02-18         ÜT: 40.96513,-73.872957  \n",
       "8739     2015-02-17                    New York, NY  \n",
       "9493     2015-02-23                    Pennsylvania  \n",
       "11053    2015-02-19                             NaN  \n",
       "12024    2015-02-24                   Euless, Texas  \n",
       "12025    2015-02-24                Edmond, Oklahoma  \n",
       "12026    2015-02-23                             NaN  \n",
       "12027    2015-02-23                       San Diego  \n",
       "12028    2015-02-22                             NaN  \n",
       "12029    2015-02-22                             NaN  \n",
       "12030    2015-02-22                             NaN  \n",
       "12031    2015-02-22                       on @TheJR  \n",
       "12032    2015-02-22                     Los Angeles  \n",
       "12033    2015-02-22  Caribbean, New York and Miami.  \n",
       "12035    2015-02-20                             NaN  \n",
       "12036    2015-02-19                   Sunnyside, NY  \n",
       "12039    2015-02-20                             NaN  "
      ]
     },
     "execution_count": 34,
     "metadata": {},
     "output_type": "execute_result"
    }
   ],
   "source": [
    "df3[df3[\"airline_sentiment_gold\"].notnull()]"
   ]
  },
  {
   "cell_type": "markdown",
   "id": "b3c71cf8-cec8-4c04-a966-f3626b63529d",
   "metadata": {},
   "source": [
    "Parece que esta etiqueta es de tweets que están muy seguros sobre la etiqueta. Sin embargo, aun cuando esta interpretación sea incorrecta, sólo hay 33 instancias con esta columna no nula. Por lo que al tener tantos datos nulos la vamos a eliminar."
   ]
  },
  {
   "cell_type": "code",
   "execution_count": 35,
   "id": "2a2ed5fc-f3cb-4cd3-8fc3-8273323c9cd0",
   "metadata": {},
   "outputs": [],
   "source": [
    "df3.drop(labels=\"airline_sentiment_gold\", axis=1, inplace=True)"
   ]
  },
  {
   "cell_type": "code",
   "execution_count": 36,
   "id": "f0af3076-5475-4f2d-97ac-a91e20d6e89b",
   "metadata": {},
   "outputs": [
    {
     "name": "stdout",
     "output_type": "stream",
     "text": [
      "<class 'pandas.core.series.Series'>\n",
      "Index: 12678 entries, 0 to 14639\n",
      "Series name: negativereason_gold\n",
      "Non-Null Count  Dtype \n",
      "--------------  ----- \n",
      "25 non-null     object\n",
      "dtypes: object(1)\n",
      "memory usage: 198.1+ KB\n"
     ]
    }
   ],
   "source": [
    "df3[\"negativereason_gold\"].info()"
   ]
  },
  {
   "cell_type": "markdown",
   "id": "046176b1-3235-462e-ac8e-0ca52a8ced8c",
   "metadata": {},
   "source": [
    "El mismo caso con la negativa: solamente 25 datos no nulo. La podemos eliminar."
   ]
  },
  {
   "cell_type": "code",
   "execution_count": 37,
   "id": "f983254e-b774-4586-b641-1876f766075e",
   "metadata": {},
   "outputs": [],
   "source": [
    "df3.drop(labels=\"negativereason_gold\", axis=1, inplace=True)"
   ]
  },
  {
   "cell_type": "markdown",
   "id": "63e7f498-8912-4889-8d6f-1e0359be04ff",
   "metadata": {},
   "source": [
    "Con esto podemos concluir la exploración del dataset y podemos comenzar a preparar las palabras:"
   ]
  },
  {
   "cell_type": "code",
   "execution_count": 38,
   "id": "64d0959a-4b43-4660-a43a-a6b03d635428",
   "metadata": {},
   "outputs": [],
   "source": [
    "df3.to_csv(Path+\"Tweets_limpio.csv\", index=False)"
   ]
  },
  {
   "cell_type": "markdown",
   "id": "c3b37ba1-ed3b-4e61-a1b3-04c391ff01c9",
   "metadata": {},
   "source": [
    "Comenzamos con las funciones para quitar signos de puntuación, caracteres especiales y las stop words. Así como la aplicación de la lematización."
   ]
  },
  {
   "cell_type": "code",
   "execution_count": 128,
   "id": "ff413676-ac58-426b-ac7c-1e4acd6aecbb",
   "metadata": {},
   "outputs": [],
   "source": [
    "def remove_punctuations(text):\n",
    "    return re.sub('\\[[^]]*\\]', '', text)\n",
    "\n",
    "def remove_specialchars(text):\n",
    "    return re.sub(\"[^a-zA-Z0-9]\",\" \",text)\n",
    "\n",
    "def remove_stopwords_and_lemmatization(text):\n",
    "    final_text = []\n",
    "    text = text.lower() \n",
    "    text = nltk.word_tokenize(text)\n",
    "    \n",
    "    for word in text:\n",
    "        if word not in set(stopwords.words('english')):\n",
    "            lemma = nltk.WordNetLemmatizer()\n",
    "            word = lemma.lemmatize(word) \n",
    "            final_text.append(word)\n",
    "    return \" \".join(final_text)\n",
    "\n",
    "def cleaning(text):\n",
    "    text = remove_punctuations(text)\n",
    "    text = remove_specialchars(text)\n",
    "    text = remove_stopwords_and_lemmatization(text)\n",
    "    return text"
   ]
  },
  {
   "cell_type": "code",
   "execution_count": 8,
   "id": "b895694b-c67e-4676-b0e9-27ffcae28f98",
   "metadata": {},
   "outputs": [
    {
     "data": {
      "text/plain": [
       "0                   @VirginAmerica What @dhepburn said.\n",
       "1     @VirginAmerica I didn't today... Must mean I n...\n",
       "2     @VirginAmerica it's really aggressive to blast...\n",
       "3     @VirginAmerica and it's a really big bad thing...\n",
       "4     @VirginAmerica seriously would pay $30 a fligh...\n",
       "5     @VirginAmerica yes, nearly every time I fly VX...\n",
       "6     @VirginAmerica Really missed a prime opportuni...\n",
       "7       @virginamerica Well, I didn't…but NOW I DO! :-D\n",
       "8     @VirginAmerica it was amazing, and arrived an ...\n",
       "9     @VirginAmerica did you know that suicide is th...\n",
       "10    @VirginAmerica I &lt;3 pretty graphics. so muc...\n",
       "11    @VirginAmerica This is such a great deal! Alre...\n",
       "12    @VirginAmerica @virginmedia I'm flying your #f...\n",
       "13                               @VirginAmerica Thanks!\n",
       "14    @VirginAmerica So excited for my first cross c...\n",
       "Name: text, dtype: object"
      ]
     },
     "execution_count": 8,
     "metadata": {},
     "output_type": "execute_result"
    }
   ],
   "source": [
    "df3['text'].head(15)"
   ]
  },
  {
   "cell_type": "code",
   "execution_count": 9,
   "id": "3d6e85a7-c279-4e7c-8b00-2bb9bff0e050",
   "metadata": {},
   "outputs": [],
   "source": [
    "df3[\"text\"] = df3[\"text\"].apply(cleaning)"
   ]
  },
  {
   "cell_type": "code",
   "execution_count": 10,
   "id": "5caf1cec-78e6-47cf-95be-e6f62f016347",
   "metadata": {},
   "outputs": [
    {
     "data": {
      "text/plain": [
       "0                           virginamerica dhepburn said\n",
       "1     virginamerica today must mean need take anothe...\n",
       "2     virginamerica really aggressive blast obnoxiou...\n",
       "3                    virginamerica really big bad thing\n",
       "4     virginamerica seriously would pay 30 flight se...\n",
       "5     virginamerica yes nearly every time fly vx ear...\n",
       "6     virginamerica really missed prime opportunity ...\n",
       "7                                    virginamerica well\n",
       "8         virginamerica amazing arrived hour early good\n",
       "9     virginamerica know suicide second leading caus...\n",
       "10    virginamerica lt 3 pretty graphic much better ...\n",
       "11    virginamerica great deal already thinking 2nd ...\n",
       "12    virginamerica virginmedia flying fabulous sedu...\n",
       "13                                 virginamerica thanks\n",
       "14    virginamerica excited first cross country flig...\n",
       "Name: text, dtype: object"
      ]
     },
     "execution_count": 10,
     "metadata": {},
     "output_type": "execute_result"
    }
   ],
   "source": [
    "df3['text'].head(15)"
   ]
  },
  {
   "cell_type": "markdown",
   "id": "6d705b09-fb42-4820-94fb-0165a09431db",
   "metadata": {},
   "source": [
    "Con esto podemos comenzar a definir parámetros como el tamaño del vocabulario, tamaño de los vectores con los que representaremos cada palabra del vocabulario, la longitud máxima de secuencias de texto"
   ]
  },
  {
   "cell_type": "code",
   "execution_count": 11,
   "id": "6316c076-8d0b-4a0e-9af2-d71308cb6a91",
   "metadata": {},
   "outputs": [
    {
     "name": "stdout",
     "output_type": "stream",
     "text": [
      "12907\n"
     ]
    }
   ],
   "source": [
    "vocabulario = set([word for tweet in df3.text for word in tweet.split(\" \") ])\n",
    "print(len(vocabulario))"
   ]
  },
  {
   "cell_type": "code",
   "execution_count": 12,
   "id": "79f77737-69d6-4876-b346-02253a40304b",
   "metadata": {},
   "outputs": [
    {
     "name": "stdout",
     "output_type": "stream",
     "text": [
      "26\n"
     ]
    }
   ],
   "source": [
    "longitud = 0\n",
    "for tweet in df3.text: longitud = max(longitud, len(tweet.split(\" \")))\n",
    "print(longitud)"
   ]
  },
  {
   "cell_type": "code",
   "execution_count": 13,
   "id": "884f416e-e86c-4df4-9623-5809a3e9cc40",
   "metadata": {},
   "outputs": [
    {
     "name": "stdout",
     "output_type": "stream",
     "text": [
      "139\n"
     ]
    }
   ],
   "source": [
    "longitud = 0\n",
    "for tweet in df3.text: longitud = max(longitud, len(tweet))\n",
    "print(longitud)"
   ]
  },
  {
   "cell_type": "code",
   "execution_count": 45,
   "id": "74c34335-eefe-4cfa-98cb-6fe251f77193",
   "metadata": {},
   "outputs": [],
   "source": [
    "vocab_size = 11000 # solamente vamos a tomar las 11000 palabras más populares\n",
    "embedding_dim = 15 # vamos a crear vectores de tamaño 15 para cada palabra\n",
    "max_length = 20 # maxima cantidad de palabras que van a entrar por tweet, dado que el más largo tiene 26\n",
    "trunc_type = 'post' "
   ]
  },
  {
   "cell_type": "markdown",
   "id": "387ecdb6-53cc-463c-ac49-f59830ebb29a",
   "metadata": {},
   "source": [
    "Pasemos ahora a crear los conjuntos de entrenamiento, validación y pruebas. Vamos a darle 70% para entrenamiento, 15% para validación y 15% para prueba"
   ]
  },
  {
   "cell_type": "code",
   "execution_count": 108,
   "id": "24ce4c5d-8194-4bae-ad48-3d919aa8c6de",
   "metadata": {},
   "outputs": [],
   "source": [
    "train, val_test = train_test_split(df3[[\"text\", \"airline_sentiment\"]], test_size=0.3, random_state=2006)\n",
    "\n",
    "Xtrain, Ytrain = list(train[\"text\"]), np.array(list(train[\"airline_sentiment\"]))\n",
    "\n",
    "val, test = train_test_split(val_test, test_size=0.5, random_state=2006)\n",
    "\n",
    "Xval, Yval = list(val[\"text\"]), np.array(list(val[\"airline_sentiment\"]))\n",
    "Xtest, Ytest = list(test[\"text\"]), np.array(list(val[\"airline_sentiment\"]))"
   ]
  },
  {
   "cell_type": "code",
   "execution_count": 140,
   "id": "1c9f520f",
   "metadata": {},
   "outputs": [],
   "source": [
    "encoder = LabelEncoder()\n",
    "encoder.fit_transform(Ytrain)\n",
    "Ytrain, Yval, Ytest = encoder.transform(Ytrain), encoder.transform(Yval), encoder.transform(Ytest)"
   ]
  },
  {
   "cell_type": "markdown",
   "id": "64e2a5c2-064b-4aae-b296-6f2bd4ead1e5",
   "metadata": {},
   "source": [
    "Terminemos la representación vectorial de los tweets para poderlos pasar por la red neuronal"
   ]
  },
  {
   "cell_type": "code",
   "execution_count": 110,
   "id": "491a71f6-f9ad-4017-84a4-fd79756270d1",
   "metadata": {},
   "outputs": [],
   "source": [
    "tokenizer = Tokenizer(num_words=vocab_size)\n",
    "tokenizer.fit_on_texts(Xtrain)\n",
    "\n",
    "word_index = tokenizer.word_index\n",
    "train_sequences = tokenizer.texts_to_sequences(Xtrain)\n",
    "train_padded = pad_sequences(train_sequences, maxlen=max_length, truncating=trunc_type)\n",
    "\n",
    "valid_sequences = tokenizer.texts_to_sequences(Xval)\n",
    "valid_padded = pad_sequences(valid_sequences, maxlen=max_length)\n",
    "\n",
    "test_sequences = tokenizer.texts_to_sequences(Xtest)\n",
    "test_padded = pad_sequences(test_sequences, maxlen=max_length)"
   ]
  },
  {
   "cell_type": "markdown",
   "id": "4d01a6aa-4ea1-4177-a2cc-53443b9d6ea1",
   "metadata": {},
   "source": [
    "Con esto finalmente podemos comenzar con las redes neuronales recurrentes:"
   ]
  },
  {
   "cell_type": "markdown",
   "id": "bcd1ab27-ed99-4375-8dd8-27535b045bf2",
   "metadata": {},
   "source": [
    "**Primera propuesta de arquitectura**: Usaremos neuronas GRU (gated recurrent unit), específicamente 64 en una capa bidireccional. Después agregaremos una capa densa de 300 neuronas con regularización L1 = 0.05 (para no comenzar tan estrictos), función de activatión relu y un dropout de 0.3. Repetimos esta capa con 100 neuronas, pero ahora en lugar del dropout agregamos una capa de normalización, para finalmente llegar a la capa de salida con sus 3 neuronas para cada clase y su función softmax. En este caso vamos a usar adam como optimizador y solamente 7 épocas para probar esta primera arquitectura."
   ]
  },
  {
   "cell_type": "code",
   "execution_count": 51,
   "id": "78246603-c876-4658-a285-3b514462e347",
   "metadata": {},
   "outputs": [],
   "source": [
    "model1 = keras.Sequential([\n",
    "    keras.layers.Embedding(vocab_size, embedding_dim, input_length=max_length),\n",
    "    keras.layers.Bidirectional(keras.layers.GRU(64)),\n",
    "    keras.layers.Dense(300, kernel_regularizer=keras.regularizers.l1(0.05), activation='relu'),\n",
    "    keras.layers.Dropout(0.3),\n",
    "    keras.layers.Dense(100, kernel_regularizer=keras.regularizers.l1(0.05), activation='relu'),\n",
    "    keras.layers.BatchNormalization(),\n",
    "    keras.layers.Dense(3, activation='softmax')\n",
    "])"
   ]
  },
  {
   "cell_type": "code",
   "execution_count": 52,
   "id": "6ef5b2f1",
   "metadata": {},
   "outputs": [],
   "source": [
    "model1.compile(loss=\"sparse_categorical_crossentropy\", optimizer='adam', metrics=['accuracy'])"
   ]
  },
  {
   "cell_type": "code",
   "execution_count": 53,
   "id": "008b4c07",
   "metadata": {},
   "outputs": [
    {
     "name": "stdout",
     "output_type": "stream",
     "text": [
      "Model: \"sequential_4\"\n",
      "_________________________________________________________________\n",
      " Layer (type)                Output Shape              Param #   \n",
      "=================================================================\n",
      " embedding_4 (Embedding)     (None, 20, 15)            165000    \n",
      "                                                                 \n",
      " bidirectional_4 (Bidirectio  (None, 128)              31104     \n",
      " nal)                                                            \n",
      "                                                                 \n",
      " dense_12 (Dense)            (None, 300)               38700     \n",
      "                                                                 \n",
      " dropout_4 (Dropout)         (None, 300)               0         \n",
      "                                                                 \n",
      " dense_13 (Dense)            (None, 100)               30100     \n",
      "                                                                 \n",
      " batch_normalization_4 (Batc  (None, 100)              400       \n",
      " hNormalization)                                                 \n",
      "                                                                 \n",
      " dense_14 (Dense)            (None, 3)                 303       \n",
      "                                                                 \n",
      "=================================================================\n",
      "Total params: 265,607\n",
      "Trainable params: 265,407\n",
      "Non-trainable params: 200\n",
      "_________________________________________________________________\n"
     ]
    }
   ],
   "source": [
    "model1.summary()"
   ]
  },
  {
   "cell_type": "code",
   "execution_count": 54,
   "id": "e4d85246",
   "metadata": {},
   "outputs": [
    {
     "name": "stdout",
     "output_type": "stream",
     "text": [
      "Epoch 1/7\n",
      "278/278 [==============================] - 9s 21ms/step - loss: 31.8162 - accuracy: 0.5864 - val_loss: 1.4346 - val_accuracy: 0.5789\n",
      "Epoch 2/7\n",
      "278/278 [==============================] - 5s 18ms/step - loss: 1.2302 - accuracy: 0.6725 - val_loss: 1.2617 - val_accuracy: 0.6241\n",
      "Epoch 3/7\n",
      "278/278 [==============================] - 5s 18ms/step - loss: 1.1199 - accuracy: 0.7297 - val_loss: 1.1743 - val_accuracy: 0.6966\n",
      "Epoch 4/7\n",
      "278/278 [==============================] - 5s 18ms/step - loss: 1.0584 - accuracy: 0.7594 - val_loss: 1.2091 - val_accuracy: 0.6961\n",
      "Epoch 5/7\n",
      "278/278 [==============================] - 5s 18ms/step - loss: 1.0173 - accuracy: 0.7792 - val_loss: 1.2724 - val_accuracy: 0.6998\n",
      "Epoch 6/7\n",
      "278/278 [==============================] - 5s 18ms/step - loss: 0.9971 - accuracy: 0.7950 - val_loss: 1.2379 - val_accuracy: 0.7187\n",
      "Epoch 7/7\n",
      "278/278 [==============================] - 5s 18ms/step - loss: 0.9508 - accuracy: 0.8295 - val_loss: 1.3321 - val_accuracy: 0.7061\n"
     ]
    }
   ],
   "source": [
    "num_epochs = 7\n",
    "history1 = model1.fit(\n",
    "    train_padded,\n",
    "    Ytrain,\n",
    "    epochs=num_epochs,\n",
    "    validation_data=(valid_padded, Yval))"
   ]
  },
  {
   "cell_type": "markdown",
   "id": "7407b3ed",
   "metadata": {},
   "source": [
    "Como podemos ver, el modelo está entrenando y aprendiendo exitosamente. Ahora es cuestión de mejorar la arquitectura del modelo para subir la efectividad sin sobreajustar. Además usaremos checkpoints para guardar el mejor modelo a través de las épocas."
   ]
  },
  {
   "cell_type": "code",
   "execution_count": 55,
   "id": "4facf298",
   "metadata": {},
   "outputs": [],
   "source": [
    "model1.save(\"modelo1_tarea4.hdf5\")"
   ]
  },
  {
   "cell_type": "code",
   "execution_count": 56,
   "id": "f7e203ee",
   "metadata": {},
   "outputs": [],
   "source": [
    "filepath = \"modelo1_tarea4.hdf5\"\n",
    "checkpoint = keras.callbacks.ModelCheckpoint(filepath, monitor='val_accuracy', verbose=0, save_best_only=True, mode='max')\n",
    "callbacks_list = [checkpoint]"
   ]
  },
  {
   "cell_type": "markdown",
   "id": "2d45f7ff",
   "metadata": {},
   "source": [
    "Una vez hecho lo anterior podemos darle más épocas de entrenamiento al primero modelo. Por ser el optimizador adam podemos subir a 15, esperando que no se sobreajuste."
   ]
  },
  {
   "cell_type": "code",
   "execution_count": 57,
   "id": "31d5f4f8",
   "metadata": {},
   "outputs": [
    {
     "name": "stdout",
     "output_type": "stream",
     "text": [
      "Epoch 1/15\n",
      "278/278 [==============================] - 5s 20ms/step - loss: 0.9065 - accuracy: 0.8600 - val_loss: 1.3571 - val_accuracy: 0.7061\n",
      "Epoch 2/15\n",
      "278/278 [==============================] - 5s 20ms/step - loss: 0.8783 - accuracy: 0.8725 - val_loss: 1.3492 - val_accuracy: 0.7119\n",
      "Epoch 3/15\n",
      "278/278 [==============================] - 5s 19ms/step - loss: 0.8510 - accuracy: 0.8817 - val_loss: 1.3965 - val_accuracy: 0.6993\n",
      "Epoch 4/15\n",
      "278/278 [==============================] - 5s 19ms/step - loss: 0.8328 - accuracy: 0.8884 - val_loss: 1.3965 - val_accuracy: 0.7093\n",
      "Epoch 5/15\n",
      "278/278 [==============================] - 5s 18ms/step - loss: 0.8073 - accuracy: 0.9015 - val_loss: 1.4521 - val_accuracy: 0.7029\n",
      "Epoch 6/15\n",
      "278/278 [==============================] - 5s 20ms/step - loss: 0.7833 - accuracy: 0.9089 - val_loss: 1.4867 - val_accuracy: 0.7156\n",
      "Epoch 7/15\n",
      "278/278 [==============================] - 5s 18ms/step - loss: 0.7851 - accuracy: 0.9102 - val_loss: 1.5341 - val_accuracy: 0.7061\n",
      "Epoch 8/15\n",
      "278/278 [==============================] - 5s 18ms/step - loss: 0.7678 - accuracy: 0.9158 - val_loss: 1.4504 - val_accuracy: 0.7119\n",
      "Epoch 9/15\n",
      "278/278 [==============================] - 5s 18ms/step - loss: 0.7626 - accuracy: 0.9204 - val_loss: 1.4791 - val_accuracy: 0.7171\n",
      "Epoch 10/15\n",
      "278/278 [==============================] - 5s 18ms/step - loss: 0.7372 - accuracy: 0.9274 - val_loss: 1.4540 - val_accuracy: 0.6914\n",
      "Epoch 11/15\n",
      "278/278 [==============================] - 5s 19ms/step - loss: 0.7285 - accuracy: 0.9352 - val_loss: 1.5541 - val_accuracy: 0.7145\n",
      "Epoch 12/15\n",
      "278/278 [==============================] - 5s 19ms/step - loss: 0.7060 - accuracy: 0.9373 - val_loss: 1.5878 - val_accuracy: 0.7161\n",
      "Epoch 13/15\n",
      "278/278 [==============================] - 5s 19ms/step - loss: 0.6900 - accuracy: 0.9450 - val_loss: 1.6238 - val_accuracy: 0.6851\n",
      "Epoch 14/15\n",
      "278/278 [==============================] - 5s 19ms/step - loss: 0.6844 - accuracy: 0.9469 - val_loss: 1.6650 - val_accuracy: 0.6993\n",
      "Epoch 15/15\n",
      "278/278 [==============================] - 5s 19ms/step - loss: 0.6864 - accuracy: 0.9451 - val_loss: 1.6131 - val_accuracy: 0.7024\n"
     ]
    }
   ],
   "source": [
    "num_epochs = 15\n",
    "history1 = model1.fit(\n",
    "    train_padded,\n",
    "    Ytrain,\n",
    "    epochs=num_epochs,\n",
    "    validation_data=(valid_padded, Yval),\n",
    "    callbacks=callbacks_list  \n",
    ")"
   ]
  },
  {
   "cell_type": "markdown",
   "id": "27713bb4",
   "metadata": {},
   "source": [
    "En definitiva este modelo parece tener su límite en el 71% de accuracy porque tiende a sobreajustarse."
   ]
  },
  {
   "cell_type": "code",
   "execution_count": 58,
   "id": "6ac89b24",
   "metadata": {},
   "outputs": [
    {
     "name": "stderr",
     "output_type": "stream",
     "text": [
      "WARNING:absl:Found untraced functions such as gru_cell_13_layer_call_fn, gru_cell_13_layer_call_and_return_conditional_losses, gru_cell_14_layer_call_fn, gru_cell_14_layer_call_and_return_conditional_losses while saving (showing 4 of 4). These functions will not be directly callable after loading.\n"
     ]
    },
    {
     "name": "stdout",
     "output_type": "stream",
     "text": [
      "INFO:tensorflow:Assets written to: modelo1_tarea4\\assets\n"
     ]
    },
    {
     "name": "stderr",
     "output_type": "stream",
     "text": [
      "INFO:tensorflow:Assets written to: modelo1_tarea4\\assets\n"
     ]
    }
   ],
   "source": [
    "import shutil\n",
    "shutil.rmtree(Path + \"modelo1_tarea4\", ignore_errors=True)\n",
    "model1.save(Path+\"modelo1_tarea4\", save_format=\"tf\")"
   ]
  },
  {
   "cell_type": "markdown",
   "id": "0c9696ad",
   "metadata": {},
   "source": [
    "Pasemos a una nueva arquitectura de RNN:"
   ]
  },
  {
   "cell_type": "code",
   "execution_count": 67,
   "id": "24f5041e",
   "metadata": {},
   "outputs": [],
   "source": [
    "model2 = keras.Sequential([\n",
    "    keras.layers.Embedding(vocab_size, embedding_dim, input_length=max_length),\n",
    "    keras.layers.Bidirectional(keras.layers.GRU(128)),\n",
    "    keras.layers.Dense(300, kernel_regularizer=keras.regularizers.l1(0.001), activation='relu'),\n",
    "    keras.layers.Dropout(0.3),\n",
    "    keras.layers.Dense(100, kernel_regularizer=keras.regularizers.l1(0.001), activation='relu'),\n",
    "    keras.layers.Dropout(0.3),\n",
    "    keras.layers.Dense(3, activation='softmax')\n",
    "])"
   ]
  },
  {
   "cell_type": "markdown",
   "id": "54fc1c35",
   "metadata": {},
   "source": [
    "Aquí cambiamos agregando más neuronas GRU, pero reducimos la penalización L1 al ponerla en 0.001 para ser menos tolerantes al minimizar la función de pérdida. Sin embargo, quitamos la capa de normalización y agregamos mejor un dropout de 0.3 a esa última capa para contrarrestar el sobreajuste que se puede dar al tener una penalización tan fuerte."
   ]
  },
  {
   "cell_type": "code",
   "execution_count": 68,
   "id": "2d652e81",
   "metadata": {},
   "outputs": [
    {
     "name": "stdout",
     "output_type": "stream",
     "text": [
      "Model: \"sequential_9\"\n",
      "_________________________________________________________________\n",
      " Layer (type)                Output Shape              Param #   \n",
      "=================================================================\n",
      " embedding_9 (Embedding)     (None, 20, 15)            165000    \n",
      "                                                                 \n",
      " bidirectional_10 (Bidirecti  (None, 256)              111360    \n",
      " onal)                                                           \n",
      "                                                                 \n",
      " dense_27 (Dense)            (None, 300)               77100     \n",
      "                                                                 \n",
      " dropout_11 (Dropout)        (None, 300)               0         \n",
      "                                                                 \n",
      " dense_28 (Dense)            (None, 100)               30100     \n",
      "                                                                 \n",
      " dropout_12 (Dropout)        (None, 100)               0         \n",
      "                                                                 \n",
      " dense_29 (Dense)            (None, 3)                 303       \n",
      "                                                                 \n",
      "=================================================================\n",
      "Total params: 383,863\n",
      "Trainable params: 383,863\n",
      "Non-trainable params: 0\n",
      "_________________________________________________________________\n"
     ]
    }
   ],
   "source": [
    "model2.compile(loss=\"sparse_categorical_crossentropy\", optimizer='adam', metrics=['accuracy'])\n",
    "model2.summary()"
   ]
  },
  {
   "cell_type": "code",
   "execution_count": 69,
   "id": "ebc13630",
   "metadata": {},
   "outputs": [
    {
     "name": "stdout",
     "output_type": "stream",
     "text": [
      "Epoch 1/15\n",
      "278/278 [==============================] - 14s 33ms/step - loss: 1.7044 - accuracy: 0.6190 - val_loss: 0.7702 - val_accuracy: 0.6656\n",
      "Epoch 2/15\n",
      "278/278 [==============================] - 8s 28ms/step - loss: 0.6822 - accuracy: 0.7044 - val_loss: 0.7305 - val_accuracy: 0.6672\n",
      "Epoch 3/15\n",
      "278/278 [==============================] - 8s 28ms/step - loss: 0.5751 - accuracy: 0.7510 - val_loss: 0.8189 - val_accuracy: 0.7376\n",
      "Epoch 4/15\n",
      "278/278 [==============================] - 8s 27ms/step - loss: 0.5124 - accuracy: 0.8074 - val_loss: 0.8018 - val_accuracy: 0.7277\n",
      "Epoch 5/15\n",
      "278/278 [==============================] - 8s 27ms/step - loss: 0.4656 - accuracy: 0.8476 - val_loss: 0.8847 - val_accuracy: 0.7261\n",
      "Epoch 6/15\n",
      "278/278 [==============================] - 8s 29ms/step - loss: 0.4121 - accuracy: 0.8744 - val_loss: 1.0106 - val_accuracy: 0.7376\n",
      "Epoch 7/15\n",
      "278/278 [==============================] - 10s 34ms/step - loss: 0.3745 - accuracy: 0.8917 - val_loss: 1.0449 - val_accuracy: 0.7256\n",
      "Epoch 8/15\n",
      "278/278 [==============================] - 10s 35ms/step - loss: 0.3341 - accuracy: 0.9141 - val_loss: 1.2849 - val_accuracy: 0.7345\n",
      "Epoch 9/15\n",
      "278/278 [==============================] - 10s 35ms/step - loss: 0.3032 - accuracy: 0.9246 - val_loss: 1.3090 - val_accuracy: 0.7234\n",
      "Epoch 10/15\n",
      "278/278 [==============================] - 10s 35ms/step - loss: 0.2736 - accuracy: 0.9406 - val_loss: 1.4626 - val_accuracy: 0.7250\n",
      "Epoch 11/15\n",
      "278/278 [==============================] - 10s 35ms/step - loss: 0.2484 - accuracy: 0.9493 - val_loss: 1.5763 - val_accuracy: 0.7261\n",
      "Epoch 12/15\n",
      "278/278 [==============================] - 9s 31ms/step - loss: 0.2414 - accuracy: 0.9521 - val_loss: 1.5196 - val_accuracy: 0.7324\n",
      "Epoch 13/15\n",
      "278/278 [==============================] - 8s 30ms/step - loss: 0.2254 - accuracy: 0.9568 - val_loss: 1.6471 - val_accuracy: 0.7250\n",
      "Epoch 14/15\n",
      "278/278 [==============================] - 9s 33ms/step - loss: 0.2025 - accuracy: 0.9637 - val_loss: 1.7271 - val_accuracy: 0.7198\n",
      "Epoch 15/15\n",
      "278/278 [==============================] - 10s 35ms/step - loss: 0.1911 - accuracy: 0.9697 - val_loss: 1.9169 - val_accuracy: 0.7192\n"
     ]
    }
   ],
   "source": [
    "history2 = model2.fit(\n",
    "    train_padded,\n",
    "    Ytrain,\n",
    "    epochs=num_epochs,\n",
    "    validation_data=(valid_padded, Yval),\n",
    "    callbacks=callbacks_list  \n",
    ")"
   ]
  },
  {
   "cell_type": "markdown",
   "id": "1f9ff5c9",
   "metadata": {},
   "source": [
    "Seguimos presentando sobreajuste ya que las mejores épocas fueron cuando en el conjunto de validación se alcanzó un 73%, mientras que en el entrenamiento se alcanzó por encima del 90%."
   ]
  },
  {
   "cell_type": "code",
   "execution_count": 70,
   "id": "23ba1577",
   "metadata": {},
   "outputs": [
    {
     "name": "stderr",
     "output_type": "stream",
     "text": [
      "WARNING:absl:Found untraced functions such as gru_cell_31_layer_call_fn, gru_cell_31_layer_call_and_return_conditional_losses, gru_cell_32_layer_call_fn, gru_cell_32_layer_call_and_return_conditional_losses while saving (showing 4 of 4). These functions will not be directly callable after loading.\n"
     ]
    },
    {
     "name": "stdout",
     "output_type": "stream",
     "text": [
      "INFO:tensorflow:Assets written to: modelo2_tarea4\\assets\n"
     ]
    },
    {
     "name": "stderr",
     "output_type": "stream",
     "text": [
      "INFO:tensorflow:Assets written to: modelo2_tarea4\\assets\n"
     ]
    }
   ],
   "source": [
    "shutil.rmtree(\"modelo2_tarea4\", ignore_errors=True)\n",
    "model2.save(\"modelo2_tarea4\", save_format=\"tf\")"
   ]
  },
  {
   "cell_type": "markdown",
   "id": "cc928b3c",
   "metadata": {},
   "source": [
    "Para verificar el sobreajuste vamos a subir el droput al 0.5. Lo demás lo podemos mantener igual para ver si con eso se soluciona aunque sea un poco."
   ]
  },
  {
   "cell_type": "code",
   "execution_count": 71,
   "id": "cc78111c",
   "metadata": {},
   "outputs": [],
   "source": [
    "model3 = keras.Sequential([\n",
    "    keras.layers.Embedding(vocab_size, embedding_dim, input_length=max_length),\n",
    "    keras.layers.Bidirectional(keras.layers.GRU(128)),\n",
    "    keras.layers.Dense(300, kernel_regularizer=keras.regularizers.l1(0.001), activation='relu'),\n",
    "    keras.layers.Dropout(0.5),\n",
    "    keras.layers.Dense(100, kernel_regularizer=keras.regularizers.l1(0.001), activation='relu'),\n",
    "    keras.layers.Dropout(0.5),\n",
    "    keras.layers.Dense(3, activation='softmax')\n",
    "])"
   ]
  },
  {
   "cell_type": "code",
   "execution_count": 73,
   "id": "898b8c7e",
   "metadata": {},
   "outputs": [
    {
     "name": "stdout",
     "output_type": "stream",
     "text": [
      "Model: \"sequential_10\"\n",
      "_________________________________________________________________\n",
      " Layer (type)                Output Shape              Param #   \n",
      "=================================================================\n",
      " embedding_10 (Embedding)    (None, 20, 15)            165000    \n",
      "                                                                 \n",
      " bidirectional_11 (Bidirecti  (None, 256)              111360    \n",
      " onal)                                                           \n",
      "                                                                 \n",
      " dense_30 (Dense)            (None, 300)               77100     \n",
      "                                                                 \n",
      " dropout_13 (Dropout)        (None, 300)               0         \n",
      "                                                                 \n",
      " dense_31 (Dense)            (None, 100)               30100     \n",
      "                                                                 \n",
      " dropout_14 (Dropout)        (None, 100)               0         \n",
      "                                                                 \n",
      " dense_32 (Dense)            (None, 3)                 303       \n",
      "                                                                 \n",
      "=================================================================\n",
      "Total params: 383,863\n",
      "Trainable params: 383,863\n",
      "Non-trainable params: 0\n",
      "_________________________________________________________________\n"
     ]
    }
   ],
   "source": [
    "model3.compile(loss=\"sparse_categorical_crossentropy\", optimizer='adam', metrics=['accuracy'])\n",
    "model3.summary()"
   ]
  },
  {
   "cell_type": "code",
   "execution_count": 74,
   "id": "01bea901",
   "metadata": {},
   "outputs": [
    {
     "name": "stdout",
     "output_type": "stream",
     "text": [
      "Epoch 1/15\n",
      "278/278 [==============================] - 14s 33ms/step - loss: 1.7437 - accuracy: 0.6165 - val_loss: 0.8005 - val_accuracy: 0.6651\n",
      "Epoch 2/15\n",
      "278/278 [==============================] - 9s 31ms/step - loss: 0.7034 - accuracy: 0.7059 - val_loss: 0.7677 - val_accuracy: 0.6751\n",
      "Epoch 3/15\n",
      "278/278 [==============================] - 8s 28ms/step - loss: 0.6000 - accuracy: 0.7401 - val_loss: 0.8064 - val_accuracy: 0.6640\n",
      "Epoch 4/15\n",
      "278/278 [==============================] - 8s 28ms/step - loss: 0.5402 - accuracy: 0.7583 - val_loss: 0.8466 - val_accuracy: 0.6672\n",
      "Epoch 5/15\n",
      "278/278 [==============================] - 8s 27ms/step - loss: 0.4965 - accuracy: 0.7842 - val_loss: 0.8807 - val_accuracy: 0.7129\n",
      "Epoch 6/15\n",
      "278/278 [==============================] - 8s 27ms/step - loss: 0.4744 - accuracy: 0.8174 - val_loss: 0.9521 - val_accuracy: 0.7040\n",
      "Epoch 7/15\n",
      "278/278 [==============================] - 8s 28ms/step - loss: 0.4470 - accuracy: 0.8544 - val_loss: 1.1243 - val_accuracy: 0.7161\n",
      "Epoch 8/15\n",
      "278/278 [==============================] - 8s 28ms/step - loss: 0.4179 - accuracy: 0.8713 - val_loss: 1.0819 - val_accuracy: 0.7061\n",
      "Epoch 9/15\n",
      "278/278 [==============================] - 8s 28ms/step - loss: 0.3852 - accuracy: 0.8952 - val_loss: 1.1387 - val_accuracy: 0.7150\n",
      "Epoch 10/15\n",
      "278/278 [==============================] - 8s 28ms/step - loss: 0.3574 - accuracy: 0.9046 - val_loss: 1.2963 - val_accuracy: 0.7150\n",
      "Epoch 11/15\n",
      "278/278 [==============================] - 8s 27ms/step - loss: 0.3243 - accuracy: 0.9262 - val_loss: 1.6158 - val_accuracy: 0.7256\n",
      "Epoch 12/15\n",
      "278/278 [==============================] - 8s 27ms/step - loss: 0.2995 - accuracy: 0.9366 - val_loss: 1.4862 - val_accuracy: 0.7114\n",
      "Epoch 13/15\n",
      "278/278 [==============================] - 8s 28ms/step - loss: 0.2706 - accuracy: 0.9465 - val_loss: 1.9433 - val_accuracy: 0.7234\n",
      "Epoch 14/15\n",
      "278/278 [==============================] - 8s 27ms/step - loss: 0.2595 - accuracy: 0.9488 - val_loss: 1.9808 - val_accuracy: 0.7261\n",
      "Epoch 15/15\n",
      "278/278 [==============================] - 8s 28ms/step - loss: 0.2464 - accuracy: 0.9529 - val_loss: 2.1278 - val_accuracy: 0.7192\n"
     ]
    }
   ],
   "source": [
    "history3 = model3.fit(\n",
    "    train_padded,\n",
    "    Ytrain,\n",
    "    epochs=num_epochs,\n",
    "    validation_data=(valid_padded, Yval),\n",
    "    callbacks=callbacks_list  \n",
    ")"
   ]
  },
  {
   "cell_type": "code",
   "execution_count": 75,
   "id": "b8b83099",
   "metadata": {},
   "outputs": [
    {
     "name": "stderr",
     "output_type": "stream",
     "text": [
      "WARNING:absl:Found untraced functions such as gru_cell_34_layer_call_fn, gru_cell_34_layer_call_and_return_conditional_losses, gru_cell_35_layer_call_fn, gru_cell_35_layer_call_and_return_conditional_losses while saving (showing 4 of 4). These functions will not be directly callable after loading.\n"
     ]
    },
    {
     "name": "stdout",
     "output_type": "stream",
     "text": [
      "INFO:tensorflow:Assets written to: modelo3_tarea4\\assets\n"
     ]
    },
    {
     "name": "stderr",
     "output_type": "stream",
     "text": [
      "INFO:tensorflow:Assets written to: modelo3_tarea4\\assets\n"
     ]
    }
   ],
   "source": [
    "shutil.rmtree(\"modelo3_tarea4\", ignore_errors=True)\n",
    "model3.save(\"modelo3_tarea4\", save_format=\"tf\")"
   ]
  },
  {
   "cell_type": "markdown",
   "id": "c6979649",
   "metadata": {},
   "source": [
    "Claramente seguimos sobreajustando y de hecho, con esta arquitectura no llegamos ni al 73% del modelo anterior. Por lo que vamos a reducir ahora la cantidad de neuronas en la capa recurrente y vamos a bajar la penalización L1"
   ]
  },
  {
   "cell_type": "code",
   "execution_count": 76,
   "id": "4fbbaa4f",
   "metadata": {},
   "outputs": [],
   "source": [
    "model4 = keras.Sequential([\n",
    "    keras.layers.Embedding(vocab_size, embedding_dim, input_length=max_length),\n",
    "    keras.layers.Bidirectional(keras.layers.GRU(42)),\n",
    "    keras.layers.Dense(300, kernel_regularizer=keras.regularizers.l1(0.01), activation='relu'),\n",
    "    keras.layers.Dropout(0.5),\n",
    "    keras.layers.Dense(100, kernel_regularizer=keras.regularizers.l1(0.01), activation='relu'),\n",
    "    keras.layers.Dropout(0.5),\n",
    "    keras.layers.Dense(3, activation='softmax')\n",
    "])"
   ]
  },
  {
   "cell_type": "code",
   "execution_count": 84,
   "id": "d43e1929",
   "metadata": {},
   "outputs": [
    {
     "name": "stdout",
     "output_type": "stream",
     "text": [
      "Model: \"sequential_11\"\n",
      "_________________________________________________________________\n",
      " Layer (type)                Output Shape              Param #   \n",
      "=================================================================\n",
      " embedding_11 (Embedding)    (None, 20, 15)            165000    \n",
      "                                                                 \n",
      " bidirectional_12 (Bidirecti  (None, 84)               14868     \n",
      " onal)                                                           \n",
      "                                                                 \n",
      " dense_33 (Dense)            (None, 300)               25500     \n",
      "                                                                 \n",
      " dropout_15 (Dropout)        (None, 300)               0         \n",
      "                                                                 \n",
      " dense_34 (Dense)            (None, 100)               30100     \n",
      "                                                                 \n",
      " dropout_16 (Dropout)        (None, 100)               0         \n",
      "                                                                 \n",
      " dense_35 (Dense)            (None, 3)                 303       \n",
      "                                                                 \n",
      "=================================================================\n",
      "Total params: 235,771\n",
      "Trainable params: 235,771\n",
      "Non-trainable params: 0\n",
      "_________________________________________________________________\n"
     ]
    }
   ],
   "source": [
    "model4.compile(loss=\"sparse_categorical_crossentropy\", optimizer='adam', metrics=['accuracy'])\n",
    "model4.summary()"
   ]
  },
  {
   "cell_type": "markdown",
   "id": "4bad1d6b",
   "metadata": {},
   "source": [
    "Vamos ahora a entrenar con lotes para ver si eso también permite evitar el sobreajuste. Sin embargo, vamos a dar 5 épocas más"
   ]
  },
  {
   "cell_type": "code",
   "execution_count": 85,
   "id": "e9a56c07",
   "metadata": {},
   "outputs": [
    {
     "name": "stdout",
     "output_type": "stream",
     "text": [
      "Epoch 1/20\n",
      "36/36 [==============================] - 7s 68ms/step - loss: 0.6850 - accuracy: 0.7774 - val_loss: 1.2193 - val_accuracy: 0.6488\n",
      "Epoch 2/20\n",
      "36/36 [==============================] - 1s 33ms/step - loss: 0.6184 - accuracy: 0.7819 - val_loss: 1.1686 - val_accuracy: 0.6467\n",
      "Epoch 3/20\n",
      "36/36 [==============================] - 1s 33ms/step - loss: 0.6168 - accuracy: 0.7807 - val_loss: 1.1712 - val_accuracy: 0.6451\n",
      "Epoch 4/20\n",
      "36/36 [==============================] - 1s 31ms/step - loss: 0.6129 - accuracy: 0.7810 - val_loss: 1.2123 - val_accuracy: 0.6504\n",
      "Epoch 5/20\n",
      "36/36 [==============================] - 1s 32ms/step - loss: 0.6145 - accuracy: 0.7798 - val_loss: 1.2324 - val_accuracy: 0.6530\n",
      "Epoch 6/20\n",
      "36/36 [==============================] - 1s 32ms/step - loss: 0.6038 - accuracy: 0.7819 - val_loss: 1.2522 - val_accuracy: 0.6504\n",
      "Epoch 7/20\n",
      "36/36 [==============================] - 1s 32ms/step - loss: 0.6082 - accuracy: 0.7817 - val_loss: 1.1753 - val_accuracy: 0.6420\n",
      "Epoch 8/20\n",
      "36/36 [==============================] - 1s 33ms/step - loss: 0.5954 - accuracy: 0.7851 - val_loss: 1.2516 - val_accuracy: 0.6477\n",
      "Epoch 9/20\n",
      "36/36 [==============================] - 1s 34ms/step - loss: 0.6026 - accuracy: 0.7800 - val_loss: 1.2105 - val_accuracy: 0.6477\n",
      "Epoch 10/20\n",
      "36/36 [==============================] - 1s 33ms/step - loss: 0.6004 - accuracy: 0.7813 - val_loss: 1.2532 - val_accuracy: 0.6472\n",
      "Epoch 11/20\n",
      "36/36 [==============================] - 1s 33ms/step - loss: 0.5819 - accuracy: 0.7850 - val_loss: 1.2960 - val_accuracy: 0.6514\n",
      "Epoch 12/20\n",
      "36/36 [==============================] - 1s 33ms/step - loss: 0.5904 - accuracy: 0.7852 - val_loss: 1.2567 - val_accuracy: 0.6493\n",
      "Epoch 13/20\n",
      "36/36 [==============================] - 1s 33ms/step - loss: 0.5837 - accuracy: 0.7848 - val_loss: 1.3094 - val_accuracy: 0.6509\n",
      "Epoch 14/20\n",
      "36/36 [==============================] - 1s 33ms/step - loss: 0.5828 - accuracy: 0.7859 - val_loss: 1.2735 - val_accuracy: 0.6446\n",
      "Epoch 15/20\n",
      "36/36 [==============================] - 1s 33ms/step - loss: 0.5846 - accuracy: 0.7831 - val_loss: 1.3287 - val_accuracy: 0.6535\n",
      "Epoch 16/20\n",
      "36/36 [==============================] - 1s 33ms/step - loss: 0.5834 - accuracy: 0.7857 - val_loss: 1.2535 - val_accuracy: 0.6420\n",
      "Epoch 17/20\n",
      "36/36 [==============================] - 1s 34ms/step - loss: 0.5735 - accuracy: 0.7865 - val_loss: 1.3494 - val_accuracy: 0.6525\n",
      "Epoch 18/20\n",
      "36/36 [==============================] - 1s 33ms/step - loss: 0.5789 - accuracy: 0.7851 - val_loss: 1.2084 - val_accuracy: 0.6283\n",
      "Epoch 19/20\n",
      "36/36 [==============================] - 1s 33ms/step - loss: 0.5826 - accuracy: 0.7815 - val_loss: 1.2987 - val_accuracy: 0.6446\n",
      "Epoch 20/20\n",
      "36/36 [==============================] - 1s 32ms/step - loss: 0.5750 - accuracy: 0.7845 - val_loss: 1.3060 - val_accuracy: 0.6425\n"
     ]
    }
   ],
   "source": [
    "num_epochs += 5\n",
    "history4 = model4.fit(\n",
    "    train_padded,\n",
    "    Ytrain,\n",
    "    epochs=num_epochs,\n",
    "    batch_size=250,\n",
    "    validation_data=(valid_padded, Yval),\n",
    "    callbacks=callbacks_list  \n",
    ")"
   ]
  },
  {
   "cell_type": "code",
   "execution_count": 86,
   "id": "3a8cb596",
   "metadata": {},
   "outputs": [
    {
     "name": "stderr",
     "output_type": "stream",
     "text": [
      "WARNING:absl:Found untraced functions such as gru_cell_37_layer_call_fn, gru_cell_37_layer_call_and_return_conditional_losses, gru_cell_38_layer_call_fn, gru_cell_38_layer_call_and_return_conditional_losses while saving (showing 4 of 4). These functions will not be directly callable after loading.\n"
     ]
    },
    {
     "name": "stdout",
     "output_type": "stream",
     "text": [
      "INFO:tensorflow:Assets written to: modelo4_tarea4\\assets\n"
     ]
    },
    {
     "name": "stderr",
     "output_type": "stream",
     "text": [
      "INFO:tensorflow:Assets written to: modelo4_tarea4\\assets\n"
     ]
    }
   ],
   "source": [
    "shutil.rmtree(\"modelo4_tarea4\", ignore_errors=True)\n",
    "model4.save(\"modelo4_tarea4\", save_format=\"tf\")"
   ]
  },
  {
   "cell_type": "markdown",
   "id": "3ddc78bc",
   "metadata": {},
   "source": [
    "Con este modelo ahora tenemos un bajo ajuste. Para cambiar el enfoque ahora podemos cambiar de neuronas GRU a LSTM. Sin embargo, vamos a usar más neuronas para evitar el bajo ajuste del modelo anterior"
   ]
  },
  {
   "cell_type": "code",
   "execution_count": 87,
   "id": "7d528b72",
   "metadata": {},
   "outputs": [
    {
     "name": "stdout",
     "output_type": "stream",
     "text": [
      "Model: \"sequential_12\"\n",
      "_________________________________________________________________\n",
      " Layer (type)                Output Shape              Param #   \n",
      "=================================================================\n",
      " embedding_12 (Embedding)    (None, 20, 15)            165000    \n",
      "                                                                 \n",
      " bidirectional_13 (Bidirecti  (None, 128)              40960     \n",
      " onal)                                                           \n",
      "                                                                 \n",
      " dense_36 (Dense)            (None, 300)               38700     \n",
      "                                                                 \n",
      " dropout_17 (Dropout)        (None, 300)               0         \n",
      "                                                                 \n",
      " dense_37 (Dense)            (None, 100)               30100     \n",
      "                                                                 \n",
      " dropout_18 (Dropout)        (None, 100)               0         \n",
      "                                                                 \n",
      " dense_38 (Dense)            (None, 3)                 303       \n",
      "                                                                 \n",
      "=================================================================\n",
      "Total params: 275,063\n",
      "Trainable params: 275,063\n",
      "Non-trainable params: 0\n",
      "_________________________________________________________________\n"
     ]
    }
   ],
   "source": [
    "model5 = keras.Sequential([\n",
    "    keras.layers.Embedding(vocab_size, embedding_dim, input_length=max_length),\n",
    "    keras.layers.Bidirectional(keras.layers.LSTM(64)),\n",
    "    keras.layers.Dense(300, kernel_regularizer=keras.regularizers.l1(0.01), activation='relu'),\n",
    "    keras.layers.Dropout(0.5),\n",
    "    keras.layers.Dense(100, kernel_regularizer=keras.regularizers.l1(0.01), activation='relu'),\n",
    "    keras.layers.Dropout(0.5),\n",
    "    keras.layers.Dense(3, activation='softmax')                         \n",
    "])\n",
    "\n",
    "model5.compile(loss=\"sparse_categorical_crossentropy\", optimizer='adam', metrics=['accuracy'])\n",
    "model5.summary()"
   ]
  },
  {
   "cell_type": "code",
   "execution_count": 88,
   "id": "899fae3b",
   "metadata": {},
   "outputs": [
    {
     "name": "stdout",
     "output_type": "stream",
     "text": [
      "Epoch 1/20\n",
      "36/36 [==============================] - 8s 79ms/step - loss: 31.5850 - accuracy: 0.5798 - val_loss: 21.3605 - val_accuracy: 0.5789\n",
      "Epoch 2/20\n",
      "36/36 [==============================] - 1s 36ms/step - loss: 14.2482 - accuracy: 0.5859 - val_loss: 7.8044 - val_accuracy: 0.5789\n",
      "Epoch 3/20\n",
      "36/36 [==============================] - 1s 37ms/step - loss: 4.2546 - accuracy: 0.5859 - val_loss: 1.7410 - val_accuracy: 0.5789\n",
      "Epoch 4/20\n",
      "36/36 [==============================] - 1s 35ms/step - loss: 1.2295 - accuracy: 0.5859 - val_loss: 1.0663 - val_accuracy: 0.5789\n",
      "Epoch 5/20\n",
      "36/36 [==============================] - 1s 33ms/step - loss: 0.9417 - accuracy: 0.6289 - val_loss: 0.9805 - val_accuracy: 0.6698\n",
      "Epoch 6/20\n",
      "36/36 [==============================] - 1s 35ms/step - loss: 0.8734 - accuracy: 0.7325 - val_loss: 0.9488 - val_accuracy: 0.6682\n",
      "Epoch 7/20\n",
      "36/36 [==============================] - 1s 36ms/step - loss: 0.8466 - accuracy: 0.7469 - val_loss: 0.9957 - val_accuracy: 0.6677\n",
      "Epoch 8/20\n",
      "36/36 [==============================] - 1s 36ms/step - loss: 0.8253 - accuracy: 0.7549 - val_loss: 0.9493 - val_accuracy: 0.6725\n",
      "Epoch 9/20\n",
      "36/36 [==============================] - 1s 33ms/step - loss: 0.8040 - accuracy: 0.7601 - val_loss: 0.9521 - val_accuracy: 0.6646\n",
      "Epoch 10/20\n",
      "36/36 [==============================] - 1s 32ms/step - loss: 0.7818 - accuracy: 0.7667 - val_loss: 0.9612 - val_accuracy: 0.6614\n",
      "Epoch 11/20\n",
      "36/36 [==============================] - 1s 34ms/step - loss: 0.7674 - accuracy: 0.7692 - val_loss: 0.9804 - val_accuracy: 0.6667\n",
      "Epoch 12/20\n",
      "36/36 [==============================] - 1s 33ms/step - loss: 0.7547 - accuracy: 0.7727 - val_loss: 0.9815 - val_accuracy: 0.6604\n",
      "Epoch 13/20\n",
      "36/36 [==============================] - 1s 35ms/step - loss: 0.7336 - accuracy: 0.7774 - val_loss: 0.9724 - val_accuracy: 0.6635\n",
      "Epoch 14/20\n",
      "36/36 [==============================] - 1s 34ms/step - loss: 0.7224 - accuracy: 0.7768 - val_loss: 0.9787 - val_accuracy: 0.6540\n",
      "Epoch 15/20\n",
      "36/36 [==============================] - 1s 34ms/step - loss: 0.7048 - accuracy: 0.7804 - val_loss: 1.0817 - val_accuracy: 0.6609\n",
      "Epoch 16/20\n",
      "36/36 [==============================] - 1s 32ms/step - loss: 0.7084 - accuracy: 0.7773 - val_loss: 1.0132 - val_accuracy: 0.6467\n",
      "Epoch 17/20\n",
      "36/36 [==============================] - 1s 33ms/step - loss: 0.7028 - accuracy: 0.7771 - val_loss: 1.0403 - val_accuracy: 0.6393\n",
      "Epoch 18/20\n",
      "36/36 [==============================] - 1s 33ms/step - loss: 0.7008 - accuracy: 0.7767 - val_loss: 1.0810 - val_accuracy: 0.6519\n",
      "Epoch 19/20\n",
      "36/36 [==============================] - 1s 32ms/step - loss: 0.6982 - accuracy: 0.7788 - val_loss: 1.0857 - val_accuracy: 0.6456\n",
      "Epoch 20/20\n",
      "36/36 [==============================] - 1s 33ms/step - loss: 0.6902 - accuracy: 0.7803 - val_loss: 1.1053 - val_accuracy: 0.6509\n"
     ]
    }
   ],
   "source": [
    "history5 = model5.fit(\n",
    "    train_padded,\n",
    "    Ytrain,\n",
    "    epochs=num_epochs,\n",
    "    batch_size=250,\n",
    "    validation_data=(valid_padded, Yval),\n",
    "    callbacks=callbacks_list\n",
    ")"
   ]
  },
  {
   "cell_type": "code",
   "execution_count": 89,
   "id": "7134a870",
   "metadata": {},
   "outputs": [
    {
     "name": "stderr",
     "output_type": "stream",
     "text": [
      "WARNING:absl:Found untraced functions such as lstm_cell_1_layer_call_fn, lstm_cell_1_layer_call_and_return_conditional_losses, lstm_cell_2_layer_call_fn, lstm_cell_2_layer_call_and_return_conditional_losses while saving (showing 4 of 4). These functions will not be directly callable after loading.\n"
     ]
    },
    {
     "name": "stdout",
     "output_type": "stream",
     "text": [
      "INFO:tensorflow:Assets written to: modelo5_tarea4\\assets\n"
     ]
    },
    {
     "name": "stderr",
     "output_type": "stream",
     "text": [
      "INFO:tensorflow:Assets written to: modelo5_tarea4\\assets\n"
     ]
    }
   ],
   "source": [
    "shutil.rmtree(\"modelo5_tarea4\", ignore_errors=True)\n",
    "model5.save(\"modelo5_tarea4\", save_format=\"tf\")"
   ]
  },
  {
   "cell_type": "markdown",
   "id": "376645cb",
   "metadata": {},
   "source": [
    "Nuevamente nos quedamos por debajo del 70%. Por lo que vamos a regresar a entrenar con los conjuntos completos pero con 15 épocas. La única modificación será ahora que usaremos la penalización L2 pero con 0.005"
   ]
  },
  {
   "cell_type": "code",
   "execution_count": 90,
   "id": "fa1ecb3a",
   "metadata": {},
   "outputs": [
    {
     "name": "stdout",
     "output_type": "stream",
     "text": [
      "Model: \"sequential_13\"\n",
      "_________________________________________________________________\n",
      " Layer (type)                Output Shape              Param #   \n",
      "=================================================================\n",
      " embedding_13 (Embedding)    (None, 20, 15)            165000    \n",
      "                                                                 \n",
      " bidirectional_14 (Bidirecti  (None, 128)              40960     \n",
      " onal)                                                           \n",
      "                                                                 \n",
      " dense_39 (Dense)            (None, 300)               38700     \n",
      "                                                                 \n",
      " dropout_19 (Dropout)        (None, 300)               0         \n",
      "                                                                 \n",
      " dense_40 (Dense)            (None, 100)               30100     \n",
      "                                                                 \n",
      " dropout_20 (Dropout)        (None, 100)               0         \n",
      "                                                                 \n",
      " dense_41 (Dense)            (None, 3)                 303       \n",
      "                                                                 \n",
      "=================================================================\n",
      "Total params: 275,063\n",
      "Trainable params: 275,063\n",
      "Non-trainable params: 0\n",
      "_________________________________________________________________\n"
     ]
    }
   ],
   "source": [
    "num_epochs -= 5\n",
    "model6 = keras.Sequential([\n",
    "    keras.layers.Embedding(vocab_size, embedding_dim, input_length=max_length),\n",
    "    keras.layers.Bidirectional(keras.layers.LSTM(64)),\n",
    "    keras.layers.Dense(300, kernel_regularizer=keras.regularizers.l2(0.005), activation='relu'),\n",
    "    keras.layers.Dropout(0.5),\n",
    "    keras.layers.Dense(100, kernel_regularizer=keras.regularizers.l2(0.005), activation='relu'),\n",
    "    keras.layers.Dropout(0.5),\n",
    "    keras.layers.Dense(3, activation='softmax')                         \n",
    "])\n",
    "\n",
    "model6.compile(loss=\"sparse_categorical_crossentropy\", optimizer='adam', metrics=['accuracy'])\n",
    "model6.summary()"
   ]
  },
  {
   "cell_type": "code",
   "execution_count": 91,
   "id": "839fe9dc",
   "metadata": {},
   "outputs": [
    {
     "name": "stdout",
     "output_type": "stream",
     "text": [
      "Epoch 1/15\n",
      "278/278 [==============================] - 16s 40ms/step - loss: 1.0509 - accuracy: 0.6430 - val_loss: 0.6782 - val_accuracy: 0.7108\n",
      "Epoch 2/15\n",
      "278/278 [==============================] - 9s 31ms/step - loss: 0.5716 - accuracy: 0.7702 - val_loss: 0.6737 - val_accuracy: 0.7466\n",
      "Epoch 3/15\n",
      "278/278 [==============================] - 8s 29ms/step - loss: 0.4542 - accuracy: 0.8394 - val_loss: 0.7465 - val_accuracy: 0.7366\n",
      "Epoch 4/15\n",
      "278/278 [==============================] - 8s 31ms/step - loss: 0.3774 - accuracy: 0.8795 - val_loss: 0.7747 - val_accuracy: 0.7413\n",
      "Epoch 5/15\n",
      "278/278 [==============================] - 8s 29ms/step - loss: 0.3179 - accuracy: 0.9066 - val_loss: 0.7834 - val_accuracy: 0.7261\n",
      "Epoch 6/15\n",
      "278/278 [==============================] - 8s 29ms/step - loss: 0.2792 - accuracy: 0.9213 - val_loss: 0.8505 - val_accuracy: 0.7408\n",
      "Epoch 7/15\n",
      "278/278 [==============================] - 8s 29ms/step - loss: 0.2397 - accuracy: 0.9384 - val_loss: 0.8798 - val_accuracy: 0.7434\n",
      "Epoch 8/15\n",
      "278/278 [==============================] - 8s 29ms/step - loss: 0.2094 - accuracy: 0.9483 - val_loss: 0.8321 - val_accuracy: 0.7555\n",
      "Epoch 9/15\n",
      "278/278 [==============================] - 8s 29ms/step - loss: 0.1821 - accuracy: 0.9565 - val_loss: 0.9532 - val_accuracy: 0.7560\n",
      "Epoch 10/15\n",
      "278/278 [==============================] - 8s 29ms/step - loss: 0.1609 - accuracy: 0.9615 - val_loss: 1.0408 - val_accuracy: 0.7529\n",
      "Epoch 11/15\n",
      "278/278 [==============================] - 8s 29ms/step - loss: 0.1568 - accuracy: 0.9661 - val_loss: 1.1168 - val_accuracy: 0.7476\n",
      "Epoch 12/15\n",
      "278/278 [==============================] - 8s 29ms/step - loss: 0.1438 - accuracy: 0.9674 - val_loss: 1.1876 - val_accuracy: 0.7434\n",
      "Epoch 13/15\n",
      "278/278 [==============================] - 8s 29ms/step - loss: 0.1231 - accuracy: 0.9740 - val_loss: 1.2719 - val_accuracy: 0.7387\n",
      "Epoch 14/15\n",
      "278/278 [==============================] - 8s 29ms/step - loss: 0.1230 - accuracy: 0.9731 - val_loss: 1.2660 - val_accuracy: 0.7466\n",
      "Epoch 15/15\n",
      "278/278 [==============================] - 8s 29ms/step - loss: 0.1124 - accuracy: 0.9752 - val_loss: 1.2106 - val_accuracy: 0.7408\n"
     ]
    }
   ],
   "source": [
    "history6 = model6.fit(\n",
    "    train_padded,\n",
    "    Ytrain,\n",
    "    epochs = num_epochs,\n",
    "    validation_data=(valid_padded, Yval),\n",
    "    callbacks=callbacks_list\n",
    ")"
   ]
  },
  {
   "cell_type": "code",
   "execution_count": 92,
   "id": "ce526189",
   "metadata": {},
   "outputs": [
    {
     "name": "stderr",
     "output_type": "stream",
     "text": [
      "WARNING:absl:Found untraced functions such as lstm_cell_4_layer_call_fn, lstm_cell_4_layer_call_and_return_conditional_losses, lstm_cell_5_layer_call_fn, lstm_cell_5_layer_call_and_return_conditional_losses while saving (showing 4 of 4). These functions will not be directly callable after loading.\n"
     ]
    },
    {
     "name": "stdout",
     "output_type": "stream",
     "text": [
      "INFO:tensorflow:Assets written to: model6_tarea4\\assets\n"
     ]
    },
    {
     "name": "stderr",
     "output_type": "stream",
     "text": [
      "INFO:tensorflow:Assets written to: model6_tarea4\\assets\n"
     ]
    }
   ],
   "source": [
    "shutil.rmtree(\"modelo6_tarea4\", ignore_errors=True)\n",
    "model6.save(\"model6_tarea4\", save_format=\"tf\")"
   ]
  },
  {
   "cell_type": "markdown",
   "id": "aa8419bc",
   "metadata": {},
   "source": [
    "Aquí podemos ver que con la nueva regularización logramos llegar al 75%. Por lo que la siguiente propuesta es aumentar las neuronas en las capas, tanto la recurrente como la densa. Sobre todo hacer más robusta la parte densa."
   ]
  },
  {
   "cell_type": "code",
   "execution_count": 94,
   "id": "2050c7ea",
   "metadata": {},
   "outputs": [
    {
     "name": "stdout",
     "output_type": "stream",
     "text": [
      "Model: \"sequential_15\"\n",
      "_________________________________________________________________\n",
      " Layer (type)                Output Shape              Param #   \n",
      "=================================================================\n",
      " embedding_15 (Embedding)    (None, 20, 15)            165000    \n",
      "                                                                 \n",
      " bidirectional_16 (Bidirecti  (None, 256)              147456    \n",
      " onal)                                                           \n",
      "                                                                 \n",
      " dense_47 (Dense)            (None, 1000)              257000    \n",
      "                                                                 \n",
      " dropout_25 (Dropout)        (None, 1000)              0         \n",
      "                                                                 \n",
      " dense_48 (Dense)            (None, 1000)              1001000   \n",
      "                                                                 \n",
      " dropout_26 (Dropout)        (None, 1000)              0         \n",
      "                                                                 \n",
      " dense_49 (Dense)            (None, 420)               420420    \n",
      "                                                                 \n",
      " dropout_27 (Dropout)        (None, 420)               0         \n",
      "                                                                 \n",
      " dense_50 (Dense)            (None, 150)               63150     \n",
      "                                                                 \n",
      " dropout_28 (Dropout)        (None, 150)               0         \n",
      "                                                                 \n",
      " dense_51 (Dense)            (None, 3)                 453       \n",
      "                                                                 \n",
      "=================================================================\n",
      "Total params: 2,054,479\n",
      "Trainable params: 2,054,479\n",
      "Non-trainable params: 0\n",
      "_________________________________________________________________\n"
     ]
    }
   ],
   "source": [
    "model7 = keras.Sequential([\n",
    "    keras.layers.Embedding(vocab_size, embedding_dim, input_length=max_length),\n",
    "    keras.layers.Bidirectional(keras.layers.LSTM(128)),\n",
    "    keras.layers.Dense(1000, kernel_regularizer=keras.regularizers.l2(0.005), activation='relu'),\n",
    "    keras.layers.Dropout(0.5),\n",
    "    keras.layers.Dense(1000, kernel_regularizer=keras.regularizers.l2(0.005), activation='relu'),\n",
    "    keras.layers.Dropout(0.5),\n",
    "    keras.layers.Dense(420, kernel_regularizer=keras.regularizers.l2(0.005), activation='relu'),\n",
    "    keras.layers.Dropout(0.5),\n",
    "    keras.layers.Dense(150, kernel_regularizer=keras.regularizers.l2(0.005), activation='relu'),\n",
    "    keras.layers.Dropout(0.5),\n",
    "    keras.layers.Dense(3, activation='softmax')                         \n",
    "])\n",
    "\n",
    "model7.compile(loss=\"sparse_categorical_crossentropy\", optimizer='adam', metrics=['accuracy'])\n",
    "model7.summary()"
   ]
  },
  {
   "cell_type": "markdown",
   "id": "ec6ddca5",
   "metadata": {},
   "source": [
    "Nótese que los parámetros casi se multiplicaron por 10"
   ]
  },
  {
   "cell_type": "code",
   "execution_count": 95,
   "id": "1f3d9971",
   "metadata": {},
   "outputs": [
    {
     "name": "stdout",
     "output_type": "stream",
     "text": [
      "Epoch 1/15\n",
      "278/278 [==============================] - 16s 39ms/step - loss: 1.6438 - accuracy: 0.6152 - val_loss: 0.7578 - val_accuracy: 0.6604\n",
      "Epoch 2/15\n",
      "278/278 [==============================] - 9s 32ms/step - loss: 0.6784 - accuracy: 0.7014 - val_loss: 0.7348 - val_accuracy: 0.6630\n",
      "Epoch 3/15\n",
      "278/278 [==============================] - 9s 31ms/step - loss: 0.5866 - accuracy: 0.7406 - val_loss: 0.7402 - val_accuracy: 0.7245\n",
      "Epoch 4/15\n",
      "278/278 [==============================] - 9s 31ms/step - loss: 0.5192 - accuracy: 0.7915 - val_loss: 0.7819 - val_accuracy: 0.6972\n",
      "Epoch 5/15\n",
      "278/278 [==============================] - 9s 31ms/step - loss: 0.4826 - accuracy: 0.8185 - val_loss: 0.8609 - val_accuracy: 0.7087\n",
      "Epoch 6/15\n",
      "278/278 [==============================] - 9s 31ms/step - loss: 0.4450 - accuracy: 0.8411 - val_loss: 1.1592 - val_accuracy: 0.7245\n",
      "Epoch 7/15\n",
      "278/278 [==============================] - 9s 32ms/step - loss: 0.3997 - accuracy: 0.8742 - val_loss: 1.1675 - val_accuracy: 0.7087\n",
      "Epoch 8/15\n",
      "278/278 [==============================] - 9s 31ms/step - loss: 0.3759 - accuracy: 0.8899 - val_loss: 1.2599 - val_accuracy: 0.7182\n",
      "Epoch 9/15\n",
      "278/278 [==============================] - 9s 31ms/step - loss: 0.3425 - accuracy: 0.9089 - val_loss: 1.3296 - val_accuracy: 0.7003\n",
      "Epoch 10/15\n",
      "278/278 [==============================] - 9s 32ms/step - loss: 0.3110 - accuracy: 0.9195 - val_loss: 1.3865 - val_accuracy: 0.7077\n",
      "Epoch 11/15\n",
      "278/278 [==============================] - 9s 31ms/step - loss: 0.2835 - accuracy: 0.9308 - val_loss: 1.9349 - val_accuracy: 0.7219\n",
      "Epoch 12/15\n",
      "278/278 [==============================] - 9s 31ms/step - loss: 0.2616 - accuracy: 0.9406 - val_loss: 1.9592 - val_accuracy: 0.7213\n",
      "Epoch 13/15\n",
      "278/278 [==============================] - 9s 31ms/step - loss: 0.2375 - accuracy: 0.9478 - val_loss: 2.0664 - val_accuracy: 0.7145\n",
      "Epoch 14/15\n",
      "278/278 [==============================] - 9s 31ms/step - loss: 0.2319 - accuracy: 0.9484 - val_loss: 2.2909 - val_accuracy: 0.7213\n",
      "Epoch 15/15\n",
      "278/278 [==============================] - 9s 31ms/step - loss: 0.2202 - accuracy: 0.9520 - val_loss: 2.0644 - val_accuracy: 0.7208\n"
     ]
    }
   ],
   "source": [
    "history7 = model7.fit(\n",
    "    train_padded,\n",
    "    Ytrain,\n",
    "    epochs = num_epochs,\n",
    "    validation_data=(valid_padded, Yval),\n",
    "    callbacks=callbacks_list    \n",
    ")"
   ]
  },
  {
   "cell_type": "code",
   "execution_count": 96,
   "id": "a10ae377",
   "metadata": {},
   "outputs": [
    {
     "name": "stderr",
     "output_type": "stream",
     "text": [
      "WARNING:absl:Found untraced functions such as lstm_cell_10_layer_call_fn, lstm_cell_10_layer_call_and_return_conditional_losses, lstm_cell_11_layer_call_fn, lstm_cell_11_layer_call_and_return_conditional_losses while saving (showing 4 of 4). These functions will not be directly callable after loading.\n"
     ]
    },
    {
     "name": "stdout",
     "output_type": "stream",
     "text": [
      "INFO:tensorflow:Assets written to: modelo7_tarea4\\assets\n"
     ]
    },
    {
     "name": "stderr",
     "output_type": "stream",
     "text": [
      "INFO:tensorflow:Assets written to: modelo7_tarea4\\assets\n"
     ]
    }
   ],
   "source": [
    "shutil.rmtree(\"modelo7_tarea4\", ignore_errors=True)\n",
    "model7.save(\"modelo7_tarea4\", save_format=\"tf\")"
   ]
  },
  {
   "cell_type": "markdown",
   "id": "4849cc11",
   "metadata": {},
   "source": [
    "Como vemos, aumentar la complejidad del modelo no es garantía de un mejor desempeño. Por lo tanto, para contrarrestar este sobreajuste, vamos a subir la regularización"
   ]
  },
  {
   "cell_type": "code",
   "execution_count": 124,
   "id": "3fb45e9e",
   "metadata": {},
   "outputs": [
    {
     "name": "stdout",
     "output_type": "stream",
     "text": [
      "Model: \"sequential_17\"\n",
      "_________________________________________________________________\n",
      " Layer (type)                Output Shape              Param #   \n",
      "=================================================================\n",
      " embedding_17 (Embedding)    (None, 20, 15)            165000    \n",
      "                                                                 \n",
      " bidirectional_18 (Bidirecti  (None, 256)              147456    \n",
      " onal)                                                           \n",
      "                                                                 \n",
      " dense_57 (Dense)            (None, 1000)              257000    \n",
      "                                                                 \n",
      " dropout_33 (Dropout)        (None, 1000)              0         \n",
      "                                                                 \n",
      " dense_58 (Dense)            (None, 1000)              1001000   \n",
      "                                                                 \n",
      " dropout_34 (Dropout)        (None, 1000)              0         \n",
      "                                                                 \n",
      " dense_59 (Dense)            (None, 420)               420420    \n",
      "                                                                 \n",
      " dropout_35 (Dropout)        (None, 420)               0         \n",
      "                                                                 \n",
      " dense_60 (Dense)            (None, 150)               63150     \n",
      "                                                                 \n",
      " dropout_36 (Dropout)        (None, 150)               0         \n",
      "                                                                 \n",
      " dense_61 (Dense)            (None, 3)                 453       \n",
      "                                                                 \n",
      "=================================================================\n",
      "Total params: 2,054,479\n",
      "Trainable params: 2,054,479\n",
      "Non-trainable params: 0\n",
      "_________________________________________________________________\n"
     ]
    }
   ],
   "source": [
    "model8 = keras.Sequential([\n",
    "    keras.layers.Embedding(vocab_size, embedding_dim, input_length=max_length),\n",
    "    keras.layers.Bidirectional(keras.layers.LSTM(128)),\n",
    "    keras.layers.Dense(1000, kernel_regularizer=keras.regularizers.l2(0.01), activation='relu'),\n",
    "    keras.layers.Dropout(0.5),\n",
    "    keras.layers.Dense(1000, kernel_regularizer=keras.regularizers.l2(0.01), activation='relu'),\n",
    "    keras.layers.Dropout(0.5),\n",
    "    keras.layers.Dense(420, kernel_regularizer=keras.regularizers.l2(0.01), activation='relu'),\n",
    "    keras.layers.Dropout(0.5),\n",
    "    keras.layers.Dense(150, kernel_regularizer=keras.regularizers.l2(0.01), activation='relu'),\n",
    "    keras.layers.Dropout(0.5),\n",
    "    keras.layers.Dense(3, activation='softmax')                         \n",
    "])\n",
    "\n",
    "model8.compile(loss=\"sparse_categorical_crossentropy\", optimizer='adam', metrics=['accuracy'])\n",
    "model8.summary()"
   ]
  },
  {
   "cell_type": "code",
   "execution_count": 125,
   "id": "52436554",
   "metadata": {},
   "outputs": [
    {
     "name": "stdout",
     "output_type": "stream",
     "text": [
      "Epoch 1/15\n"
     ]
    },
    {
     "name": "stdout",
     "output_type": "stream",
     "text": [
      "278/278 [==============================] - 16s 38ms/step - loss: 2.3799 - accuracy: 0.6004 - val_loss: 0.8204 - val_accuracy: 0.6682\n",
      "Epoch 2/15\n",
      "278/278 [==============================] - 9s 32ms/step - loss: 0.6956 - accuracy: 0.7064 - val_loss: 0.7532 - val_accuracy: 0.6540\n",
      "Epoch 3/15\n",
      "278/278 [==============================] - 10s 36ms/step - loss: 0.5986 - accuracy: 0.7398 - val_loss: 0.8892 - val_accuracy: 0.6598\n",
      "Epoch 4/15\n",
      "278/278 [==============================] - 9s 31ms/step - loss: 0.5444 - accuracy: 0.7599 - val_loss: 0.7678 - val_accuracy: 0.6951\n",
      "Epoch 5/15\n",
      "278/278 [==============================] - 9s 31ms/step - loss: 0.5079 - accuracy: 0.7874 - val_loss: 1.0188 - val_accuracy: 0.7145\n",
      "Epoch 6/15\n",
      "278/278 [==============================] - 8s 30ms/step - loss: 0.4825 - accuracy: 0.8230 - val_loss: 0.9334 - val_accuracy: 0.7045\n",
      "Epoch 7/15\n",
      "278/278 [==============================] - 8s 30ms/step - loss: 0.4694 - accuracy: 0.8414 - val_loss: 0.8851 - val_accuracy: 0.6882\n",
      "Epoch 8/15\n",
      "278/278 [==============================] - 9s 31ms/step - loss: 0.4291 - accuracy: 0.8679 - val_loss: 1.1056 - val_accuracy: 0.7072\n",
      "Epoch 9/15\n",
      "278/278 [==============================] - 9s 31ms/step - loss: 0.4058 - accuracy: 0.8819 - val_loss: 1.0944 - val_accuracy: 0.7171\n",
      "Epoch 10/15\n",
      "278/278 [==============================] - 8s 30ms/step - loss: 0.3766 - accuracy: 0.8947 - val_loss: 1.3080 - val_accuracy: 0.7077\n",
      "Epoch 11/15\n",
      "278/278 [==============================] - 9s 31ms/step - loss: 0.3948 - accuracy: 0.9011 - val_loss: 1.3582 - val_accuracy: 0.6982\n",
      "Epoch 12/15\n",
      "278/278 [==============================] - 9s 31ms/step - loss: 0.3431 - accuracy: 0.9154 - val_loss: 1.3028 - val_accuracy: 0.7219\n",
      "Epoch 13/15\n",
      "278/278 [==============================] - 9s 31ms/step - loss: 0.3293 - accuracy: 0.9256 - val_loss: 1.3536 - val_accuracy: 0.7397\n",
      "Epoch 14/15\n",
      "278/278 [==============================] - 8s 30ms/step - loss: 0.3444 - accuracy: 0.9176 - val_loss: 1.1690 - val_accuracy: 0.7219\n",
      "Epoch 15/15\n",
      "278/278 [==============================] - 8s 30ms/step - loss: 0.2926 - accuracy: 0.9386 - val_loss: 1.7916 - val_accuracy: 0.7340\n"
     ]
    }
   ],
   "source": [
    "history8 = model8.fit(\n",
    "    train_padded,\n",
    "    Ytrain,\n",
    "    epochs = num_epochs,\n",
    "    validation_data=(valid_padded, Yval),\n",
    "    callbacks=callbacks_list    \n",
    ")"
   ]
  },
  {
   "cell_type": "code",
   "execution_count": 157,
   "id": "b29f8e5c",
   "metadata": {},
   "outputs": [
    {
     "name": "stderr",
     "output_type": "stream",
     "text": [
      "WARNING:absl:Found untraced functions such as lstm_cell_19_layer_call_fn, lstm_cell_19_layer_call_and_return_conditional_losses, lstm_cell_20_layer_call_fn, lstm_cell_20_layer_call_and_return_conditional_losses while saving (showing 4 of 4). These functions will not be directly callable after loading.\n"
     ]
    },
    {
     "name": "stdout",
     "output_type": "stream",
     "text": [
      "INFO:tensorflow:Assets written to: modelo8_tarea4\\assets\n"
     ]
    },
    {
     "name": "stderr",
     "output_type": "stream",
     "text": [
      "INFO:tensorflow:Assets written to: modelo8_tarea4\\assets\n"
     ]
    }
   ],
   "source": [
    "shutil.rmtree(\"modelo8_tarea4\", ignore_errors=True)\n",
    "model8.save(\"modelo8_tarea4\", save_format=\"tf\")"
   ]
  },
  {
   "cell_type": "markdown",
   "id": "215c2a01",
   "metadata": {},
   "source": [
    "Con este modelo nos acercamos más al 75% que obtuvimos modelos atrás en una de las épocas. Sin embargo, este modelo se mostró más estable en su entrenamiento (apesar del sobreajuste)."
   ]
  },
  {
   "cell_type": "markdown",
   "id": "30067770-a7c3-4793-b131-9a60641c7653",
   "metadata": {},
   "source": [
    "## 3. Ejemplos de ejecución"
   ]
  },
  {
   "cell_type": "markdown",
   "id": "4ad3abae",
   "metadata": {},
   "source": [
    "Tomaremos este último modelo por mostrar estabilidad y el modelo que se haya quedado como el mejor guardado en los checkpoints."
   ]
  },
  {
   "cell_type": "code",
   "execution_count": 126,
   "id": "b38b6203",
   "metadata": {},
   "outputs": [],
   "source": [
    "best_model = keras.models.load_model(filepath)"
   ]
  },
  {
   "cell_type": "markdown",
   "id": "cff511e4",
   "metadata": {},
   "source": [
    "Probemos con un ejemplo de frase positiva, otra negativa y otra neutral."
   ]
  },
  {
   "cell_type": "code",
   "execution_count": 127,
   "id": "f07322d4",
   "metadata": {},
   "outputs": [],
   "source": [
    "positiva = \"I had a great experience flying with United. I was a fast, cheap, and comfortable fly\"\n",
    "negativa = \"I will never travel again with Virgin America. Awful experience!\"\n",
    "neutral = \"New fly schedules are available in Delta\""
   ]
  },
  {
   "cell_type": "code",
   "execution_count": 131,
   "id": "6dd16647",
   "metadata": {},
   "outputs": [],
   "source": [
    "test = [positiva, negativa, neutral]\n",
    "test = np.array([cleaning(t) for t in test])"
   ]
  },
  {
   "cell_type": "code",
   "execution_count": 132,
   "id": "4b3940a2",
   "metadata": {},
   "outputs": [
    {
     "data": {
      "text/plain": [
       "array(['great experience flying united fast cheap comfortable fly',\n",
       "       'never travel virgin america awful experience',\n",
       "       'new fly schedule available delta'], dtype='<U57')"
      ]
     },
     "execution_count": 132,
     "metadata": {},
     "output_type": "execute_result"
    }
   ],
   "source": [
    "test"
   ]
  },
  {
   "cell_type": "code",
   "execution_count": 133,
   "id": "c218c5f1",
   "metadata": {},
   "outputs": [
    {
     "data": {
      "text/plain": [
       "array([[   0,    0,    0,    0,    0,    0,    0,    0,    0,    0,    0,\n",
       "           0,   55,  126,   72,    2,  878, 1074, 1577,   50],\n",
       "       [   0,    0,    0,    0,    0,    0,    0,    0,    0,    0,    0,\n",
       "           0,    0,    0,   71,   89,  661, 1168,  390,  126],\n",
       "       [   0,    0,    0,    0,    0,    0,    0,    0,    0,    0,    0,\n",
       "           0,    0,    0,    0,   78,   50,  739,  310,  253]])"
      ]
     },
     "execution_count": 133,
     "metadata": {},
     "output_type": "execute_result"
    }
   ],
   "source": [
    "test_sequences = tokenizer.texts_to_sequences(test)\n",
    "test_padded = pad_sequences(test_sequences, maxlen=max_length, truncating=trunc_type)\n",
    "test_padded"
   ]
  },
  {
   "cell_type": "code",
   "execution_count": 137,
   "id": "eb34486e",
   "metadata": {},
   "outputs": [
    {
     "name": "stdout",
     "output_type": "stream",
     "text": [
      "1/1 [==============================] - 0s 46ms/step\n"
     ]
    },
    {
     "data": {
      "text/plain": [
       "array([2, 0, 1], dtype=int64)"
      ]
     },
     "execution_count": 137,
     "metadata": {},
     "output_type": "execute_result"
    }
   ],
   "source": [
    "predicciones = model8.predict(test_padded)\n",
    "clases = np.argmax(predicciones, axis=1)\n",
    "clases"
   ]
  },
  {
   "cell_type": "code",
   "execution_count": 151,
   "id": "fcc6efb9",
   "metadata": {},
   "outputs": [
    {
     "data": {
      "text/plain": [
       "array(['positive', 'negative', 'neutral'], dtype=object)"
      ]
     },
     "execution_count": 151,
     "metadata": {},
     "output_type": "execute_result"
    }
   ],
   "source": [
    "encoder.inverse_transform(clases)"
   ]
  },
  {
   "cell_type": "markdown",
   "id": "d0ab9d7a",
   "metadata": {},
   "source": [
    "El último modelo sí hizo las predicciones correctas!"
   ]
  },
  {
   "cell_type": "code",
   "execution_count": 152,
   "id": "a3dc0525",
   "metadata": {},
   "outputs": [
    {
     "name": "stdout",
     "output_type": "stream",
     "text": [
      "1/1 [==============================] - 1s 1s/step\n"
     ]
    },
    {
     "data": {
      "text/plain": [
       "array(['positive', 'negative', 'neutral'], dtype=object)"
      ]
     },
     "execution_count": 152,
     "metadata": {},
     "output_type": "execute_result"
    }
   ],
   "source": [
    "predicciones = best_model.predict(test_padded)\n",
    "clases = np.argmax(predicciones, axis=1)\n",
    "encoder.inverse_transform(clases)"
   ]
  },
  {
   "cell_type": "markdown",
   "id": "2208cf6b",
   "metadata": {},
   "source": [
    "De igual manera nuestro mejor modelo."
   ]
  },
  {
   "cell_type": "markdown",
   "id": "58a25422",
   "metadata": {},
   "source": [
    "Busquemos un par de frases confusas con las que se confundan los modelos."
   ]
  },
  {
   "cell_type": "code",
   "execution_count": 155,
   "id": "ef9ebed0",
   "metadata": {},
   "outputs": [
    {
     "name": "stdout",
     "output_type": "stream",
     "text": [
      "1/1 [==============================] - 0s 48ms/step\n",
      "1/1 [==============================] - 0s 25ms/step\n",
      "['negative'] ['neutral']\n"
     ]
    }
   ],
   "source": [
    "test2 = \"due to turbulence I was scared, but it was a great experience\"\n",
    "test2 = np.array([cleaning(test2)])\n",
    "test2_sequence = tokenizer.texts_to_sequences(test2)\n",
    "test2_padded = pad_sequences(test2_sequence, maxlen=max_length, truncating=trunc_type)\n",
    "pred1 = model8.predict(test2_padded)\n",
    "pred2 = best_model.predict(test2_padded)\n",
    "class1 = np.argmax(pred1, axis=1)\n",
    "class2 = np.argmax(pred2, axis=1)\n",
    "\n",
    "print(encoder.inverse_transform(class1), encoder.inverse_transform(class2))"
   ]
  },
  {
   "cell_type": "markdown",
   "id": "55b96a7b",
   "metadata": {},
   "source": [
    "Aquí podemos ver que con una frase medianamente negativa, o mejor dicho, una frase negativa \"adornada\" con frases que pueden disminuir la crítica, los modelos dan diferente respuesta. El último modelo sí se arriesga en decir que es negativa, mientras que el modelo con el accuracy más alto la deja como neutral: no se atreve a ponerla como negativa. \n",
    "\n",
    "Veamos otro ejemplo:"
   ]
  },
  {
   "cell_type": "code",
   "execution_count": 156,
   "id": "31aa0073",
   "metadata": {},
   "outputs": [
    {
     "name": "stdout",
     "output_type": "stream",
     "text": [
      "1/1 [==============================] - 0s 26ms/step\n",
      "1/1 [==============================] - 0s 27ms/step\n",
      "['neutral'] ['neutral']\n"
     ]
    }
   ],
   "source": [
    "test3 = \"Fast service, amazing treatment, and delicious food, but too expensive! I don't know if I will travel again with Virgin America\"\n",
    "test3 = np.array([cleaning(test3)])\n",
    "test3_sequence = tokenizer.texts_to_sequences(test3)\n",
    "test3_padded = pad_sequences(test3_sequence, maxlen=max_length, truncating=trunc_type)\n",
    "pred1 = model8.predict(test3_padded)\n",
    "pred2 = best_model.predict(test3_padded)\n",
    "class1 = np.argmax(pred1, axis=1)\n",
    "class2 = np.argmax(pred2, axis=1)\n",
    "\n",
    "print(encoder.inverse_transform(class1), encoder.inverse_transform(class2))"
   ]
  },
  {
   "cell_type": "markdown",
   "id": "693b6954",
   "metadata": {},
   "source": [
    "Ante otra frase confusa que habla muy bien al inicio, pero termina con un aspecto negativo, los modelos se confunden y lo mandan a neutral.\n",
    "\n",
    "Estos resultados son muy interesantes: parece que las redes neuronales que hicimos funcionan muy bien para frases comunes y claras. Sin embargo, comienzan a fallar a partir de que las frases se vuelven confusas. Mostrando así que las RNN fallan al momento de procesar lenguaje natural con un contexto o gramática complicada."
   ]
  },
  {
   "cell_type": "markdown",
   "id": "7b2f9ef0-dc8e-4aea-830c-2c880769dd3c",
   "metadata": {},
   "source": [
    "## 4. Conclusiones"
   ]
  },
  {
   "cell_type": "markdown",
   "id": "cb9e2493",
   "metadata": {},
   "source": [
    "Esta práctica sin duda ha sido de las más extensas durante el diplomado: hicimos limpieza y exploración de los datos, el despliegue de muchos modelos de aprendizaje profundo y valoramos los modelos con métricas que aprendimos durante el módulo 1 de machine learning.\n",
    "\n",
    "Algo que podemos ver con este trabajo es lo sensibles que son las redes neuronales recurrentes a sobre ajustarse. Por eso es necesario tener todos los recursos de regularización que se puedan: capas de normalización, dropout, regularizaciones L1 y L2. Porque realmente los modelos con se sobreajustan a partir de las 5 primeras épocas.\n",
    "\n",
    "Además, es importante ver lo complejo que es el procesamiento del lenguaje natural por todo el trabajo que hay detrás. Es muy largo y complejo el proceso de tranformar simples frases en vectores que puedan entrar a una red neuronal. Incluso, para trabajo futuro sería buena idea probar todos estas arquitecturas de red con diferentes tamaños de vectores (cambiar los parámetros de preprocesamiento).\n",
    "\n",
    "Finalmente, si bien tenemos que reconocer el trabajo que hay detrás de las redes recurrentes, es necesario admitir lo lejos que estamos (al menos con este tipo de unidades de procesamiento) de procesar contextos y gramáticas complejas. Incluso pensar en otros lenguajes con gramáticas más complejas al inglés puede constituir un reto interesante para trabajar con estos modelos."
   ]
  },
  {
   "cell_type": "markdown",
   "id": "0e95c597-eb05-4ec3-92b5-092e50c1ab16",
   "metadata": {},
   "source": [
    "## 5. Referencias"
   ]
  },
  {
   "cell_type": "markdown",
   "id": "f162b12d",
   "metadata": {},
   "source": [
    "Además del material de la clase se tomó referencia de este sitio para retomar la regularización L1 y L2:\n",
    "- Nagpal, A. Towards Data Science. L1 and L2 Regularization Methods. 2017. https://towardsdatascience.com/l1-and-l2-regularization-methods-ce25e7fc831c"
   ]
  }
 ],
 "metadata": {
  "kernelspec": {
   "display_name": "Python 3 (ipykernel)",
   "language": "python",
   "name": "python3"
  },
  "language_info": {
   "codemirror_mode": {
    "name": "ipython",
    "version": 3
   },
   "file_extension": ".py",
   "mimetype": "text/x-python",
   "name": "python",
   "nbconvert_exporter": "python",
   "pygments_lexer": "ipython3",
   "version": "3.10.14"
  }
 },
 "nbformat": 4,
 "nbformat_minor": 5
}
