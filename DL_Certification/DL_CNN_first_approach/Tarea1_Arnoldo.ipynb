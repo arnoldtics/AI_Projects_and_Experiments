{
 "cells": [
  {
   "cell_type": "markdown",
   "id": "832c2653-cdfc-4a67-9b63-37807d2c2c2c",
   "metadata": {},
   "source": [
    "# Escuela de ML y DL Módulo 2\n",
    "# Tarea 1. Ejercicio con una CNN\n",
    "# Arnoldo Fernando Chue Sánchez\n",
    "# arnoldwork20@gmail.com\n",
    "# Agosto de 2024"
   ]
  },
  {
   "cell_type": "markdown",
   "id": "d272c802-6eb6-4bb6-9acf-eb06ae79f2ce",
   "metadata": {},
   "source": [
    "## Contenido\n",
    "1. Planteamiento del problema\n",
    "2. Planteamiento de la solución\n",
    "3. Ejemplo de ejecución\n",
    "4. Conclusiones\n",
    "5. Referencias"
   ]
  },
  {
   "cell_type": "markdown",
   "id": "e216c9ae-7230-4395-a134-018008c26a6f",
   "metadata": {},
   "source": [
    "## Planteamiento del problema\n",
    "Para esta actividad tenemos las siguientes indicaciones:\n",
    "* Utilizando el dataset de Fashion MNIST de Keras, construir un mejor modelo de predicción utilizando una CNN.\n",
    "* Debe mostrarse el entrenamiento por épocas, la pérdida y el nivel de precisión del modelo (mejorado)\n",
    "* Para determinar la generalización del modelo propuesto, utilizar imágenes del conjunto de prueba\n",
    "* Entregar el reporte de acuerdo a la rúbri\n",
    "\n",
    "Específicamente vamos a tratar de alcanzar un accuracy del 90%."
   ]
  },
  {
   "cell_type": "markdown",
   "id": "8407a50a-9007-4813-a1b5-eb74e984bfb4",
   "metadata": {},
   "source": [
    "## Planteamiento de la solución\n",
    "Vamos a comenzar importando las librerías con las que vamos a trabajar."
   ]
  },
  {
   "cell_type": "code",
   "execution_count": 1,
   "id": "554c7652-7696-4e83-94ac-9d6d8e8c2027",
   "metadata": {},
   "outputs": [
    {
     "name": "stderr",
     "output_type": "stream",
     "text": [
      "2024-08-12 06:53:31.969836: I tensorflow/stream_executor/platform/default/dso_loader.cc:49] Successfully opened dynamic library libcudart.so.10.1\n"
     ]
    }
   ],
   "source": [
    "import numpy as np\n",
    "import matplotlib.pyplot as plt\n",
    "import tensorflow as tf"
   ]
  },
  {
   "cell_type": "markdown",
   "id": "1900abf8-5d26-4650-9803-87822ac2c071",
   "metadata": {},
   "source": [
    "Vamos a verificar que estemos trabajando con la GPU"
   ]
  },
  {
   "cell_type": "code",
   "execution_count": 2,
   "id": "5f6eac42-dd25-476b-bfe9-9a1ebb8d5c4f",
   "metadata": {},
   "outputs": [
    {
     "name": "stderr",
     "output_type": "stream",
     "text": [
      "2024-08-12 06:53:34.102990: I tensorflow/compiler/jit/xla_cpu_device.cc:41] Not creating XLA devices, tf_xla_enable_xla_devices not set\n",
      "2024-08-12 06:53:34.104462: I tensorflow/stream_executor/platform/default/dso_loader.cc:49] Successfully opened dynamic library libcuda.so.1\n",
      "2024-08-12 06:53:34.147679: I tensorflow/stream_executor/cuda/cuda_gpu_executor.cc:941] successful NUMA node read from SysFS had negative value (-1), but there must be at least one NUMA node, so returning NUMA node zero\n",
      "2024-08-12 06:53:34.147939: I tensorflow/core/common_runtime/gpu/gpu_device.cc:1720] Found device 0 with properties: \n",
      "pciBusID: 0000:00:08.0 name: NVIDIA GeForce GTX 1050 Ti computeCapability: 6.1\n",
      "coreClock: 1.455GHz coreCount: 6 deviceMemorySize: 3.94GiB deviceMemoryBandwidth: 104.43GiB/s\n",
      "2024-08-12 06:53:34.147982: I tensorflow/stream_executor/platform/default/dso_loader.cc:49] Successfully opened dynamic library libcudart.so.10.1\n",
      "2024-08-12 06:53:34.151051: I tensorflow/stream_executor/platform/default/dso_loader.cc:49] Successfully opened dynamic library libcublas.so.10\n",
      "2024-08-12 06:53:34.151130: I tensorflow/stream_executor/p"
     ]
    },
    {
     "data": {
      "text/plain": [
       "[PhysicalDevice(name='/physical_device:GPU:0', device_type='GPU')]"
      ]
     },
     "execution_count": 2,
     "metadata": {},
     "output_type": "execute_result"
    },
    {
     "name": "stderr",
     "output_type": "stream",
     "text": [
      "latform/default/dso_loader.cc:49] Successfully opened dynamic library libcublasLt.so.10\n",
      "2024-08-12 06:53:34.153345: I tensorflow/stream_executor/platform/default/dso_loader.cc:49] Successfully opened dynamic library libcufft.so.10\n",
      "2024-08-12 06:53:34.153835: I tensorflow/stream_executor/platform/default/dso_loader.cc:49] Successfully opened dynamic library libcurand.so.10\n",
      "2024-08-12 06:53:34.156845: I tensorflow/stream_executor/platform/default/dso_loader.cc:49] Successfully opened dynamic library libcusolver.so.10\n",
      "2024-08-12 06:53:34.158364: I tensorflow/stream_executor/platform/default/dso_loader.cc:49] Successfully opened dynamic library libcusparse.so.10\n",
      "2024-08-12 06:53:34.164573: I tensorflow/stream_executor/platform/default/dso_loader.cc:49] Successfully opened dynamic library libcudnn.so.7\n",
      "2024-08-12 06:53:34.164854: I tensorflow/stream_executor/cuda/cuda_gpu_executor.cc:941] successful NUMA node read from SysFS had negative value (-1), but there must be at least one NUMA node, so returning NUMA node zero\n",
      "2024-08-12 06:53:34.165211: I tensorflow/stream_executor/cuda/cuda_gpu_executor.cc:941] successful NUMA node read from SysFS had negative value (-1), but there must be at least one NUMA node, so returning NUMA node zero\n",
      "2024-08-12 06:53:34.165381: I tensorflow/core/common_runtime/gpu/gpu_device.cc:1862] Adding visible gpu devices: 0\n"
     ]
    }
   ],
   "source": [
    "tf.config.list_physical_devices('GPU')"
   ]
  },
  {
   "cell_type": "markdown",
   "id": "14cd3e0c-dfe2-41f7-87f5-966e48afb195",
   "metadata": {},
   "source": [
    "Todo parece en orden, sólo que vamos a evitar que nos salgan estas advertencias "
   ]
  },
  {
   "cell_type": "code",
   "execution_count": 3,
   "id": "c9e13693-c426-4bff-9a62-9a6cbe44c8a9",
   "metadata": {},
   "outputs": [],
   "source": [
    "import warnings\n",
    "warnings.filterwarnings('ignore')"
   ]
  },
  {
   "cell_type": "markdown",
   "id": "737086b8-790f-4801-a29b-cf79ba29bcef",
   "metadata": {},
   "source": [
    "Ahora pasemos con el primer paso: preprocesar los datos. Dado que vamos a usar el dataset MNIST de moda comenzemos con la descarga"
   ]
  },
  {
   "cell_type": "code",
   "execution_count": 4,
   "id": "d80eb9ba-10f7-4366-b9b7-906003ce63de",
   "metadata": {},
   "outputs": [],
   "source": [
    "fashion_mnist = tf.keras.datasets.fashion_mnist"
   ]
  },
  {
   "cell_type": "markdown",
   "id": "d21f384a-b8de-4785-b741-080312d77da0",
   "metadata": {},
   "source": [
    "Dividamos el conjunto de entrenamiento del de prueba"
   ]
  },
  {
   "cell_type": "code",
   "execution_count": 5,
   "id": "7d47f980-d710-455e-8841-2a525586f9f2",
   "metadata": {},
   "outputs": [],
   "source": [
    "(trainX, trainY), (test_images, test_labels) = fashion_mnist.load_data()"
   ]
  },
  {
   "cell_type": "code",
   "execution_count": 6,
   "id": "2baf6ab1-1612-4189-b6f4-14155bcdaa2d",
   "metadata": {},
   "outputs": [
    {
     "data": {
      "text/plain": [
       "(60000, 28, 28)"
      ]
     },
     "execution_count": 6,
     "metadata": {},
     "output_type": "execute_result"
    }
   ],
   "source": [
    "trainX.shape"
   ]
  },
  {
   "cell_type": "code",
   "execution_count": 7,
   "id": "5624a856-bb0a-4832-b770-e263cf377223",
   "metadata": {},
   "outputs": [
    {
     "data": {
      "text/plain": [
       "(60000,)"
      ]
     },
     "execution_count": 7,
     "metadata": {},
     "output_type": "execute_result"
    }
   ],
   "source": [
    "trainY.shape"
   ]
  },
  {
   "cell_type": "markdown",
   "id": "c34e911a-dfc6-40c7-a33f-c193dac83e26",
   "metadata": {},
   "source": [
    "Vamos a crear también el conjunto de validación para el momento del entrenamiento de nuestra red neuronal durante sus épocas"
   ]
  },
  {
   "cell_type": "code",
   "execution_count": 8,
   "id": "86710f8c-c931-449b-b776-33e38bcc1419",
   "metadata": {},
   "outputs": [],
   "source": [
    "train_images, validation_images = trainX[:55000,:,:], trainX[55000:,:,:]\n",
    "train_labels, validation_labes = trainY[:55000], trainY[55000:]"
   ]
  },
  {
   "cell_type": "code",
   "execution_count": 9,
   "id": "62134dae-80e6-4a86-aeea-430f4d26fdfa",
   "metadata": {},
   "outputs": [
    {
     "data": {
      "text/plain": [
       "(55000, 28, 28)"
      ]
     },
     "execution_count": 9,
     "metadata": {},
     "output_type": "execute_result"
    }
   ],
   "source": [
    "train_images.shape"
   ]
  },
  {
   "cell_type": "code",
   "execution_count": 10,
   "id": "8e825c45-7289-44eb-aa22-34299c8a0449",
   "metadata": {},
   "outputs": [
    {
     "data": {
      "text/plain": [
       "(5000, 28, 28)"
      ]
     },
     "execution_count": 10,
     "metadata": {},
     "output_type": "execute_result"
    }
   ],
   "source": [
    "validation_images.shape"
   ]
  },
  {
   "cell_type": "code",
   "execution_count": 11,
   "id": "9e2bbd7a-3993-47f4-9ed9-f552148dc2fb",
   "metadata": {},
   "outputs": [
    {
     "data": {
      "text/plain": [
       "(55000,)"
      ]
     },
     "execution_count": 11,
     "metadata": {},
     "output_type": "execute_result"
    }
   ],
   "source": [
    "train_labels.shape"
   ]
  },
  {
   "cell_type": "code",
   "execution_count": 12,
   "id": "a3803a41-c3d6-46ce-b2b9-b906223cf9e4",
   "metadata": {},
   "outputs": [
    {
     "data": {
      "text/plain": [
       "(5000,)"
      ]
     },
     "execution_count": 12,
     "metadata": {},
     "output_type": "execute_result"
    }
   ],
   "source": [
    "validation_labes.shape"
   ]
  },
  {
   "cell_type": "markdown",
   "id": "beda96c0-6121-4d8f-802f-fdbf7f7a565b",
   "metadata": {},
   "source": [
    "Ahora podemos guardar el nombre de las clases"
   ]
  },
  {
   "cell_type": "code",
   "execution_count": 13,
   "id": "f4a44528-1c84-4a6a-b467-9c31403e7e37",
   "metadata": {},
   "outputs": [],
   "source": [
    "class_names = ['T-shirt/top', 'Trouser', 'Pullover', 'Dress', 'Coat', 'Sandal', 'Shirt', 'Sneaker', 'Bag', 'Ankle boot']"
   ]
  },
  {
   "cell_type": "code",
   "execution_count": 14,
   "id": "74cf9d4b-01db-4b27-8bc0-f0940430ad42",
   "metadata": {},
   "outputs": [
    {
     "data": {
      "text/plain": [
       "array([9, 0, 0, ..., 9, 0, 2], dtype=uint8)"
      ]
     },
     "execution_count": 14,
     "metadata": {},
     "output_type": "execute_result"
    }
   ],
   "source": [
    "train_labels"
   ]
  },
  {
   "cell_type": "markdown",
   "id": "196f8315-03f8-4c27-bbe0-7e0e9ae3d716",
   "metadata": {},
   "source": [
    "Aquí podemos observar que las etiquetas están con un número diferente. No están como una matriz en formato OHE. Por lo que tendremos que tomarlo en cuenta al momento de definir nuestro modelo"
   ]
  },
  {
   "cell_type": "markdown",
   "id": "3fda6e3d-92a0-41ca-bfa8-15a66aa52b44",
   "metadata": {},
   "source": [
    "Ahora bien, en cuanto a preprocesamiento de los datos, vamos a dejar las imágenes en blanco y negro dejando sus pixeles en un rango del 0 al 1. Esto se consigue dividiéndolas entre 255"
   ]
  },
  {
   "cell_type": "code",
   "execution_count": 15,
   "id": "8bb7f9cc-5a5b-4fd9-9dec-127e1ba387fc",
   "metadata": {},
   "outputs": [],
   "source": [
    "train_images, validation_images, test_images = train_images/255, validation_images/255, test_images/255"
   ]
  },
  {
   "cell_type": "markdown",
   "id": "9eb45c9b-6b19-4dcd-8bf1-760cf91428ea",
   "metadata": {},
   "source": [
    "Veamos si lo tenemos en el formato correcto"
   ]
  },
  {
   "cell_type": "code",
   "execution_count": 16,
   "id": "6ca5654e-a4f8-4816-b143-47c35f6fdb8b",
   "metadata": {},
   "outputs": [
    {
     "data": {
      "image/png": "[encoded data removed]",
      "text/plain": [
       "<Figure size 1000x1000 with 25 Axes>"
      ]
     },
     "metadata": {},
     "output_type": "display_data"
    }
   ],
   "source": [
    "plt.figure(figsize=(10,10))\n",
    "for i in range(25):\n",
    "    plt.subplot(5,5,i+1)\n",
    "    plt.xticks([])\n",
    "    plt.yticks([])\n",
    "    plt.grid(False)\n",
    "    plt.imshow(test_images[i], cmap=plt.cm.binary)\n",
    "    plt.xlabel(class_names[test_labels[i]])\n",
    "plt.suptitle(\"Imágenes del test\")\n",
    "plt.show()"
   ]
  },
  {
   "cell_type": "markdown",
   "id": "19048fa0-82c6-4a86-9020-7fa3fd783125",
   "metadata": {},
   "source": [
    "Con esto podemos pasar a la actividad principal de esta actividad: contruir un modelo de una red neuronal convolucional"
   ]
  },
  {
   "cell_type": "markdown",
   "id": "79c04389-bc1d-4e0b-8206-3b2da75e947e",
   "metadata": {},
   "source": [
    "Vamos a comenzar con la siguiente propuesta sencilla de arquitectura:\n",
    "* Una capa convolucional de entrada con 128 mapas de 3x3, función de activación y adaptación para leer las imágenes de 28x28 en escala de grises\n",
    "* Una capa convolucional de 64 mapas de 3x3 y función de activación relu\n",
    "* Una capa de max pooling con kernel y stride de 2x2\n",
    "* Una capa convolucional de 32 mapas de 3x3 y función de activación relu\n",
    "* Una capa de max pooling con kernel y stride de 2x2\n",
    "* Una capa convolucional de 16 mapas de 3x3 y función de activación relu\n",
    "* Una capa de max pooling con kernel y stride de 2x2\n",
    "* Una capa de flatten para pasar a las capas densas\n",
    "* Una capa densa de 300 neuronas con función de activación relu\n",
    "* Una capa densa de 120 neuronas con función de activación relu\n",
    "* Finalmente, una capa de 10 neuronas con la función de activación softmax para la clasificación"
   ]
  },
  {
   "cell_type": "code",
   "execution_count": 18,
   "id": "aa12f8cf-e49d-4abc-a5b1-a84e4d49ea7a",
   "metadata": {},
   "outputs": [
    {
     "name": "stderr",
     "output_type": "stream",
     "text": [
      "2024-08-12 06:54:06.625242: I tensorflow/core/platform/cpu_feature_guard.cc:142] This TensorFlow binary is optimized with oneAPI Deep Neural Network Library (oneDNN) to use the following CPU instructions in performance-critical operations:  SSE4.1 SSE4.2\n",
      "To enable them in other operations, rebuild TensorFlow with the appropriate compiler flags.\n",
      "2024-08-12 06:54:06.625959: I tensorflow/compiler/jit/xla_gpu_device.cc:99] Not creating XLA devices, tf_xla_enable_xla_devices not set\n",
      "2024-08-12 06:54:06.626238: I tensorflow/stream_executor/cuda/cuda_gpu_executor.cc:941] successful NUMA node read from SysFS had negative value (-1), but there must be at least one NUMA node, so returning NUMA node zero\n",
      "2024-08-12 06:54:06.626479: I tensorflow/core/common_runtime/gpu/gpu_device.cc:1720] Found device 0 with properties: \n",
      "pciBusID: 0000:00:08.0 name: NVIDIA GeForce GTX 1050 Ti computeCapability: 6.1\n",
      "coreClock: 1.455GHz coreCount: 6 deviceMemorySize: 3.94GiB deviceMemoryBandwidth: 104.43GiB/s\n",
      "2024-08-12 06:54:06.626542: I tensorflow/stream_executor/platform/default/dso_loader.cc:49] Successfully opened dynamic library libcudart.so.10.1\n",
      "2024-08-12 06:54:06.626609: I tensorflow/stream_executor/platform/default/dso_loader.cc:49] Successfully opened dynamic library libcublas.so.10\n",
      "2024-08-12 06:54:06.626660: I tensorflow/stream_executor/platform/default/dso_loader.cc:49] Successfully opened dynamic library libcublasLt.so.10\n",
      "2024-08-12 06:54:06.626711: I tensorflow/stream_executor/platform/default/dso_loader.cc:49] Successfully opened dynamic library libcufft.so.10\n",
      "2024-08-12 06:54:06.626770: I tensorflow/stream_executor/platform/default/dso_loader.cc:49] Successfully opened dynamic library libcurand.so.10\n",
      "2024-08-12 06:54:06.626822: I tensorflow/stream_executor/platform/default/dso_loader.cc:49] Successfully opened dynamic library libcusolver.so.10\n",
      "2024-08-12 06:54:06.626873: I tensorflow/stream_executor/platform/default/dso_loader.cc:49] Successfully opened dynamic library libcusparse.so.10\n",
      "2024-08-12 06:54:06.626924: I tensorflow/stream_executor/platform/default/dso_loader.cc:49] Successfully opened dynamic library libcudnn.so.7\n",
      "2024-08-12 06:54:06.627072: I tensorflow/stream_executor/cuda/cuda_gpu_executor.cc:941] successful NUMA node read from SysFS had negative value (-1), but there must be at least one NUMA node, so returning NUMA node zero\n",
      "2024-08-12 06:54:06.627340: I tensorflow/stream_executor/cuda/cuda_gpu_executor.cc:941] successful NUMA node read from SysFS had negative value (-1), but there must be at least one NUMA node, so returning NUMA node zero\n",
      "2024-08-12 06:54:06.627508: I tensorflow/core/common_runtime/gpu/gpu_device.cc:1862] Adding visible gpu devices: 0\n",
      "2024-08-12 06:54:06.627575: I tensorflow/stream_executor/platform/default/dso_loader.cc:49] Successfully opened dynamic library libcudart.so.10.1\n",
      "2024-08-12 06:54:07.536579: I tensorflow/core/common_runtime/gpu/gpu_device.cc:1261] Device interconnect StreamExecutor with strength 1 edge matrix:\n",
      "2024-08-12 06:54:07.536626: I tensorflow/core/common_runtime/gpu/gpu_device.cc:1267]      0 \n",
      "2024-08-12 06:54:07.536639: I tensorflow/core/common_runtime/gpu/gpu_device.cc:1280] 0:   N \n",
      "2024-08-12 06:54:07.536996: I tensorflow/stream_executor/cuda/cuda_gpu_executor.cc:941] successful NUMA node read from SysFS had negative value (-1), but there must be at least one NUMA node, so returning NUMA node zero\n",
      "2024-08-12 06:54:07.537310: I tensorflow/stream_executor/cuda/cuda_gpu_executor.cc:941] successful NUMA node read from SysFS had negative value (-1), but there must be at least one NUMA node, so returning NUMA node zero\n",
      "2024-08-12 06:54:07.537591: I tensorflow/stream_executor/cuda/cuda_gpu_executor.cc:941] successful NUMA node read from SysFS had negative value (-1), but there must be at least one NUMA node, so returning NUMA node zero\n",
      "2024-08-12 06:54:07.537797: I tensorflow/core/common_runtime/gpu/gpu_device.cc:1406] Created TensorFlow device (/job:localhost/replica:0/task:0/device:GPU:0 with 3582 MB memory) -> physical GPU (device: 0, name: NVIDIA GeForce GTX 1050 Ti, pci bus id: 0000:00:08.0, compute capability: 6.1)\n"
     ]
    }
   ],
   "source": [
    "tf.keras.backend.clear_session()\n",
    "tf.random.set_seed(20062002)\n",
    "\n",
    "model1 = tf.keras.Sequential([\n",
    "    tf.keras.layers.Conv2D(128, (3,3), activation='relu', input_shape=[28,28,1]),\n",
    "    tf.keras.layers.Conv2D(64, (3,3), activation='relu'),\n",
    "    tf.keras.layers.MaxPooling2D(2,2),\n",
    "    tf.keras.layers.Conv2D(32, (3,3), activation='relu'),\n",
    "    tf.keras.layers.MaxPooling2D(2,2),\n",
    "    tf.keras.layers.Conv2D(16, (3,3), activation='relu'),\n",
    "    tf.keras.layers.MaxPooling2D(2,2),\n",
    "    tf.keras.layers.Flatten(),\n",
    "    tf.keras.layers.Dense(300, activation='relu'),\n",
    "    tf.keras.layers.Dense(120, activation='relu'),\n",
    "    tf.keras.layers.Dense(10, activation='softmax')\n",
    "])"
   ]
  },
  {
   "cell_type": "code",
   "execution_count": 19,
   "id": "df4e944c-47a6-4581-a46a-bc2679e2e2af",
   "metadata": {},
   "outputs": [
    {
     "name": "stdout",
     "output_type": "stream",
     "text": [
      "Model: \"sequential\"\n",
      "_________________________________________________________________\n",
      "Layer (type)                 Output Shape              Param #   \n",
      "=================================================================\n",
      "conv2d (Conv2D)              (None, 26, 26, 128)       1280      \n",
      "_________________________________________________________________\n",
      "conv2d_1 (Conv2D)            (None, 24, 24, 64)        73792     \n",
      "_________________________________________________________________\n",
      "max_pooling2d (MaxPooling2D) (None, 12, 12, 64)        0         \n",
      "_________________________________________________________________\n",
      "conv2d_2 (Conv2D)            (None, 10, 10, 32)        18464     \n",
      "_________________________________________________________________\n",
      "max_pooling2d_1 (MaxPooling2 (None, 5, 5, 32)          0         \n",
      "_________________________________________________________________\n",
      "conv2d_3 (Conv2D)            (None, 3, 3, 16)          4624      \n",
      "_________________________________________________________________\n",
      "max_pooling2d_2 (MaxPooling2 (None, 1, 1, 16)          0         \n",
      "_________________________________________________________________\n",
      "flatten (Flatten)            (None, 16)                0         \n",
      "_________________________________________________________________\n",
      "dense (Dense)                (None, 300)               5100      \n",
      "_________________________________________________________________\n",
      "dense_1 (Dense)              (None, 120)               36120     \n",
      "_________________________________________________________________\n",
      "dense_2 (Dense)              (None, 10)                1210      \n",
      "=================================================================\n",
      "Total params: 140,590\n",
      "Trainable params: 140,590\n",
      "Non-trainable params: 0\n",
      "_________________________________________________________________\n"
     ]
    }
   ],
   "source": [
    "model1.summary()"
   ]
  },
  {
   "cell_type": "markdown",
   "id": "1f9d7813-3e5b-476b-83fc-c714d2e9165f",
   "metadata": {},
   "source": [
    "Vamos a realizar la compilación del modelo. En este caso nuestra función de pérdida será la entropía cruzada categórica y específicamente la sparse porque nuestras etiquetas no están en formato OHE. Sobre el optimizador usaremos adam para nuestra métrica de efectividad (accuracy)."
   ]
  },
  {
   "cell_type": "code",
   "execution_count": 20,
   "id": "f375ff86-f55b-4706-9be1-95c5e0008742",
   "metadata": {},
   "outputs": [],
   "source": [
    "model1.compile(loss=\"sparse_categorical_crossentropy\",\n",
    "              optimizer=\"adam\",\n",
    "              metrics=[\"accuracy\"])"
   ]
  },
  {
   "cell_type": "markdown",
   "id": "9dfb77dd-9bfa-46b5-9f14-fec30dc4043a",
   "metadata": {},
   "source": [
    "Comenzemos el entrenamiento con 30 épocas e iremos analizando con nuestro conjunto de validación. Sin embargo, por un error que ya nos generó el modelo al entrenar, necesitamos ajustar la dimensión de las imágenes"
   ]
  },
  {
   "cell_type": "code",
   "execution_count": 17,
   "id": "7fcbec68-ae36-40f7-80ef-758e4fe34e99",
   "metadata": {},
   "outputs": [],
   "source": [
    "train_images = np.expand_dims(train_images, axis=-1)\n",
    "validation_images = np.expand_dims(validation_images, axis=-1)\n",
    "test_images = np.expand_dims(test_images, axis=-1)"
   ]
  },
  {
   "cell_type": "code",
   "execution_count": 21,
   "id": "430a1204-0ad4-444b-86a9-6115c24f009b",
   "metadata": {},
   "outputs": [
    {
     "name": "stderr",
     "output_type": "stream",
     "text": [
      "2024-08-12 06:54:23.449875: I tensorflow/compiler/mlir/mlir_graph_optimization_pass.cc:116] None of the MLIR optimization passes are enabled (registered 2)\n",
      "2024-08-12 06:54:23.450514: I tensorflow/core/platform/profile_utils/cpu_utils.cc:112] CPU Frequency: 2261055000 Hz\n"
     ]
    },
    {
     "name": "stdout",
     "output_type": "stream",
     "text": [
      "Epoch 1/30\n"
     ]
    },
    {
     "name": "stderr",
     "output_type": "stream",
     "text": [
      "2024-08-12 06:54:24.189628: I tensorflow/stream_executor/platform/default/dso_loader.cc:49] Successfully opened dynamic library libcublas.so.10\n",
      "2024-08-12 06:54:24.443873: I tensorflow/stream_executor/platform/default/dso_loader.cc:49] Successfully opened dynamic library libcudnn.so.7\n"
     ]
    },
    {
     "name": "stdout",
     "output_type": "stream",
     "text": [
      "1719/1719 [==============================] - 18s 9ms/step - loss: 0.8129 - accuracy: 0.6895 - val_loss: 0.4404 - val_accuracy: 0.8372\n",
      "Epoch 2/30\n",
      "1719/1719 [==============================] - 15s 9ms/step - loss: 0.4167 - accuracy: 0.8447 - val_loss: 0.3981 - val_accuracy: 0.8530\n",
      "Epoch 3/30\n",
      "1719/1719 [==============================] - 15s 9ms/step - loss: 0.3493 - accuracy: 0.8713 - val_loss: 0.3266 - val_accuracy: 0.8792\n",
      "Epoch 4/30\n",
      "1719/1719 [==============================] - 15s 9ms/step - loss: 0.3185 - accuracy: 0.8821 - val_loss: 0.3482 - val_accuracy: 0.8730\n",
      "Epoch 5/30\n",
      "1719/1719 [==============================] - 15s 9ms/step - loss: 0.2894 - accuracy: 0.8935 - val_loss: 0.3013 - val_accuracy: 0.8846\n",
      "Epoch 6/30\n",
      "1719/1719 [==============================] - 15s 9ms/step - loss: 0.2698 - accuracy: 0.8994 - val_loss: 0.3043 - val_accuracy: 0.8924\n",
      "Epoch 7/30\n",
      "1719/1719 [==============================] - 15s 9ms/step - loss: 0.2566 - accuracy: 0.9050 - val_loss: 0.3148 - val_accuracy: 0.8858\n",
      "Epoch 8/30\n",
      "1719/1719 [==============================] - 15s 9ms/step - loss: 0.2433 - accuracy: 0.9083 - val_loss: 0.2803 - val_accuracy: 0.8972\n",
      "Epoch 9/30\n",
      "1719/1719 [==============================] - 15s 9ms/step - loss: 0.2308 - accuracy: 0.9144 - val_loss: 0.2836 - val_accuracy: 0.8932\n",
      "Epoch 10/30\n",
      "1719/1719 [==============================] - 15s 9ms/step - loss: 0.2208 - accuracy: 0.9174 - val_loss: 0.2856 - val_accuracy: 0.8936\n",
      "Epoch 11/30\n",
      "1719/1719 [==============================] - 15s 9ms/step - loss: 0.2105 - accuracy: 0.9224 - val_loss: 0.2713 - val_accuracy: 0.9002\n",
      "Epoch 12/30\n",
      "1719/1719 [==============================] - 15s 9ms/step - loss: 0.2053 - accuracy: 0.9241 - val_loss: 0.2841 - val_accuracy: 0.8974\n",
      "Epoch 13/30\n",
      "1719/1719 [==============================] - 15s 9ms/step - loss: 0.1912 - accuracy: 0.9270 - val_loss: 0.2809 - val_accuracy: 0.9020\n",
      "Epoch 14/30\n",
      "1719/1719 [==============================] - 15s 9ms/step - loss: 0.1840 - accuracy: 0.9312 - val_loss: 0.2888 - val_accuracy: 0.8996\n",
      "Epoch 15/30\n",
      "1719/1719 [==============================] - 15s 9ms/step - loss: 0.1834 - accuracy: 0.9306 - val_loss: 0.2745 - val_accuracy: 0.9096\n",
      "Epoch 16/30\n",
      "1719/1719 [==============================] - 15s 9ms/step - loss: 0.1671 - accuracy: 0.9375 - val_loss: 0.2844 - val_accuracy: 0.9038\n",
      "Epoch 17/30\n",
      "1719/1719 [==============================] - 15s 9ms/step - loss: 0.1640 - accuracy: 0.9395 - val_loss: 0.2679 - val_accuracy: 0.9116\n",
      "Epoch 18/30\n",
      "1719/1719 [==============================] - 15s 9ms/step - loss: 0.1590 - accuracy: 0.9401 - val_loss: 0.2962 - val_accuracy: 0.9044\n",
      "Epoch 19/30\n",
      "1719/1719 [==============================] - 15s 9ms/step - loss: 0.1570 - accuracy: 0.9417 - val_loss: 0.2995 - val_accuracy: 0.9080\n",
      "Epoch 20/30\n",
      "1719/1719 [==============================] - 15s 9ms/step - loss: 0.1518 - accuracy: 0.9433 - val_loss: 0.3181 - val_accuracy: 0.9004\n",
      "Epoch 21/30\n",
      "1719/1719 [==============================] - 15s 9ms/step - loss: 0.1503 - accuracy: 0.9452 - val_loss: 0.3058 - val_accuracy: 0.8978\n",
      "Epoch 22/30\n",
      "1719/1719 [==============================] - 15s 9ms/step - loss: 0.1449 - accuracy: 0.9458 - val_loss: 0.3159 - val_accuracy: 0.9024\n",
      "Epoch 23/30\n",
      "1719/1719 [==============================] - 15s 9ms/step - loss: 0.1354 - accuracy: 0.9494 - val_loss: 0.3405 - val_accuracy: 0.8888\n",
      "Epoch 24/30\n",
      "1719/1719 [==============================] - 15s 9ms/step - loss: 0.1386 - accuracy: 0.9491 - val_loss: 0.3024 - val_accuracy: 0.9056\n",
      "Epoch 25/30\n",
      "1719/1719 [==============================] - 15s 9ms/step - loss: 0.1321 - accuracy: 0.9508 - val_loss: 0.3229 - val_accuracy: 0.9012\n",
      "Epoch 26/30\n",
      "1719/1719 [==============================] - 15s 9ms/step - loss: 0.1315 - accuracy: 0.9523 - val_loss: 0.3136 - val_accuracy: 0.9084\n",
      "Epoch 27/30\n",
      "1719/1719 [==============================] - 15s 9ms/step - loss: 0.1212 - accuracy: 0.9553 - val_loss: 0.3168 - val_accuracy: 0.9040\n",
      "Epoch 28/30\n",
      "1719/1719 [==============================] - 15s 9ms/step - loss: 0.1224 - accuracy: 0.9538 - val_loss: 0.3703 - val_accuracy: 0.9064\n",
      "Epoch 29/30\n",
      "1719/1719 [==============================] - 15s 9ms/step - loss: 0.1174 - accuracy: 0.9562 - val_loss: 0.3530 - val_accuracy: 0.9036\n",
      "Epoch 30/30\n",
      "1719/1719 [==============================] - 15s 9ms/step - loss: 0.1115 - accuracy: 0.9581 - val_loss: 0.3279 - val_accuracy: 0.9056\n"
     ]
    }
   ],
   "source": [
    "history1 = model1.fit(train_images, train_labels, \n",
    "                     epochs=30, \n",
    "                     validation_data=(validation_images, validation_labes))"
   ]
  },
  {
   "cell_type": "markdown",
   "id": "406f7153-3939-4a76-ad5d-1d5c407cdd4a",
   "metadata": {},
   "source": [
    "Aquí tenemos dos resultados interesantes. El primero es que con esta arquitectura logramos alcanzar el 90% de accuracy que nos habíamos propuesto al inicio de la práctica. Sin embargo, también notamos que a partir de la época 18 podemos ver que el modelo está sobreajustando: sube al accuracy en los datos de entrenamiento pero no lo sube en los de validación. Esto lo podemos justificar con lo mencionado en clase sobre el optimizador adam: en la práctica este modelo converge aproximadamente en la época 20. Por lo que podemos repetir el entrenamiento, pero con el número de épocas adecuadas: 17"
   ]
  },
  {
   "cell_type": "code",
   "execution_count": 26,
   "id": "fda4ff81-44cc-41d2-9251-f656f76992f5",
   "metadata": {},
   "outputs": [],
   "source": [
    "tf.keras.backend.clear_session()\n",
    "tf.random.set_seed(20062002)\n",
    "\n",
    "model2 = tf.keras.Sequential([\n",
    "    tf.keras.layers.Conv2D(128, (3,3), activation='relu', input_shape=[28,28,1]),\n",
    "    tf.keras.layers.Conv2D(64, (3,3), activation='relu'),\n",
    "    tf.keras.layers.MaxPooling2D(2,2),\n",
    "    tf.keras.layers.Conv2D(32, (3,3), activation='relu'),\n",
    "    tf.keras.layers.MaxPooling2D(2,2),\n",
    "    tf.keras.layers.Conv2D(16, (3,3), activation='relu'),\n",
    "    tf.keras.layers.MaxPooling2D(2,2),\n",
    "    tf.keras.layers.Flatten(),\n",
    "    tf.keras.layers.Dense(300, activation='relu'),\n",
    "    tf.keras.layers.Dense(120, activation='relu'),\n",
    "    tf.keras.layers.Dense(10, activation='softmax')\n",
    "])"
   ]
  },
  {
   "cell_type": "code",
   "execution_count": 27,
   "id": "64179c49-e250-445a-87dc-a5a7dd4ee4f4",
   "metadata": {},
   "outputs": [],
   "source": [
    "model2.compile(loss=\"sparse_categorical_crossentropy\",\n",
    "              optimizer=\"adam\",\n",
    "              metrics=[\"accuracy\"])"
   ]
  },
  {
   "cell_type": "code",
   "execution_count": 28,
   "id": "5b8379f9-a671-43ac-906c-cf417276fe60",
   "metadata": {},
   "outputs": [
    {
     "name": "stdout",
     "output_type": "stream",
     "text": [
      "Epoch 1/17\n",
      "1719/1719 [==============================] - 16s 9ms/step - loss: 0.8100 - accuracy: 0.6923 - val_loss: 0.4571 - val_accuracy: 0.8294\n",
      "Epoch 2/17\n",
      "1719/1719 [==============================] - 15s 9ms/step - loss: 0.4091 - accuracy: 0.8484 - val_loss: 0.3711 - val_accuracy: 0.8640\n",
      "Epoch 3/17\n",
      "1719/1719 [==============================] - 15s 9ms/step - loss: 0.3463 - accuracy: 0.8727 - val_loss: 0.3212 - val_accuracy: 0.8784\n",
      "Epoch 4/17\n",
      "1719/1719 [==============================] - 15s 9ms/step - loss: 0.3165 - accuracy: 0.8849 - val_loss: 0.3183 - val_accuracy: 0.8790\n",
      "Epoch 5/17\n",
      "1719/1719 [==============================] - 15s 9ms/step - loss: 0.2834 - accuracy: 0.8954 - val_loss: 0.3001 - val_accuracy: 0.8872\n",
      "Epoch 6/17\n",
      "1719/1719 [==============================] - 15s 9ms/step - loss: 0.2640 - accuracy: 0.9029 - val_loss: 0.3022 - val_accuracy: 0.8900\n",
      "Epoch 7/17\n",
      "1719/1719 [==============================] - 15s 9ms/step - loss: 0.2503 - accuracy: 0.9086 - val_loss: 0.3034 - val_accuracy: 0.8904\n",
      "Epoch 8/17\n",
      "1719/1719 [==============================] - 15s 9ms/step - loss: 0.2354 - accuracy: 0.9129 - val_loss: 0.2765 - val_accuracy: 0.8986\n",
      "Epoch 9/17\n",
      "1719/1719 [==============================] - 15s 9ms/step - loss: 0.2233 - accuracy: 0.9185 - val_loss: 0.2873 - val_accuracy: 0.8968\n",
      "Epoch 10/17\n",
      "1719/1719 [==============================] - 15s 9ms/step - loss: 0.2131 - accuracy: 0.9214 - val_loss: 0.2900 - val_accuracy: 0.8960\n",
      "Epoch 11/17\n",
      "1719/1719 [==============================] - 15s 9ms/step - loss: 0.2026 - accuracy: 0.9249 - val_loss: 0.2707 - val_accuracy: 0.9010\n",
      "Epoch 12/17\n",
      "1719/1719 [==============================] - 15s 9ms/step - loss: 0.1964 - accuracy: 0.9275 - val_loss: 0.2635 - val_accuracy: 0.9062\n",
      "Epoch 13/17\n",
      "1719/1719 [==============================] - 15s 9ms/step - loss: 0.1894 - accuracy: 0.9299 - val_loss: 0.2761 - val_accuracy: 0.9004\n",
      "Epoch 14/17\n",
      "1719/1719 [==============================] - 15s 9ms/step - loss: 0.1797 - accuracy: 0.9340 - val_loss: 0.2872 - val_accuracy: 0.9040\n",
      "Epoch 15/17\n",
      "1719/1719 [==============================] - 15s 9ms/step - loss: 0.1756 - accuracy: 0.9351 - val_loss: 0.3129 - val_accuracy: 0.8924\n",
      "Epoch 16/17\n",
      "1719/1719 [==============================] - 15s 9ms/step - loss: 0.1663 - accuracy: 0.9387 - val_loss: 0.2824 - val_accuracy: 0.9016\n",
      "Epoch 17/17\n",
      "1719/1719 [==============================] - 15s 9ms/step - loss: 0.1630 - accuracy: 0.9389 - val_loss: 0.3046 - val_accuracy: 0.9030\n"
     ]
    }
   ],
   "source": [
    "history2 = model2.fit(train_images, train_labels, \n",
    "                     epochs=17, \n",
    "                     validation_data=(validation_images, validation_labes))"
   ]
  },
  {
   "cell_type": "markdown",
   "id": "9f9595b2-f719-4754-a30c-cea6c41c3deb",
   "metadata": {},
   "source": [
    "Ya que tenemos un modelo sobreajustado y uno que se supone que no lo está, podemos proponer otra arquitectura para ver si logramos superar el 90% de accuracy:\n",
    "* Vamos a invertir el número de mapas por capa convolucional: de 16 a 128 en orden de menor a mayor\n",
    "* El tamaño de los mapas tanto en las capas de convolución, como en las de max pooling será de 2x2\n",
    "* Agregaremos una capa más en la sección de capas densas: una de 545 neuronas previa a la de 300"
   ]
  },
  {
   "cell_type": "code",
   "execution_count": 29,
   "id": "fc84018c-fa56-4c51-8d45-b53f7c82f5c5",
   "metadata": {},
   "outputs": [],
   "source": [
    "tf.keras.backend.clear_session()\n",
    "tf.random.set_seed(20062002)\n",
    "\n",
    "model3 = tf.keras.Sequential([\n",
    "    tf.keras.layers.Conv2D(16, (2,2), activation='relu', input_shape=[28,28,1]),\n",
    "    tf.keras.layers.Conv2D(32, (2,2), activation='relu'),\n",
    "    tf.keras.layers.MaxPooling2D(2,2),\n",
    "    tf.keras.layers.Conv2D(64, (2,2), activation='relu'),\n",
    "    tf.keras.layers.MaxPooling2D(2,2),\n",
    "    tf.keras.layers.Conv2D(128, (2,2), activation='relu'),\n",
    "    tf.keras.layers.MaxPooling2D(2,2),\n",
    "    tf.keras.layers.Flatten(),\n",
    "    tf.keras.layers.Dense(545, activation='relu'),\n",
    "    tf.keras.layers.Dense(300, activation='relu'),\n",
    "    tf.keras.layers.Dense(120, activation='relu'),\n",
    "    tf.keras.layers.Dense(10, activation='softmax')\n",
    "])"
   ]
  },
  {
   "cell_type": "code",
   "execution_count": 30,
   "id": "50e646eb-c804-444e-b976-ae3a92a384c9",
   "metadata": {},
   "outputs": [],
   "source": [
    "model3.compile(loss=\"sparse_categorical_crossentropy\",\n",
    "              optimizer=\"adam\",\n",
    "              metrics=[\"accuracy\"])"
   ]
  },
  {
   "cell_type": "markdown",
   "id": "12278f9c-1198-478f-94a9-d7e8f338204b",
   "metadata": {},
   "source": [
    "En este caso vamos a usar las 20 épocas exactas en las que aproximadamente converge el optimizador adam"
   ]
  },
  {
   "cell_type": "code",
   "execution_count": 31,
   "id": "5c4616e4-1bec-41e7-b508-03c879240152",
   "metadata": {},
   "outputs": [
    {
     "name": "stdout",
     "output_type": "stream",
     "text": [
      "Epoch 1/20\n",
      "1719/1719 [==============================] - 10s 5ms/step - loss: 0.7443 - accuracy: 0.7242 - val_loss: 0.3874 - val_accuracy: 0.8546\n",
      "Epoch 2/20\n",
      "1719/1719 [==============================] - 9s 5ms/step - loss: 0.3568 - accuracy: 0.8660 - val_loss: 0.2998 - val_accuracy: 0.8862\n",
      "Epoch 3/20\n",
      "1719/1719 [==============================] - 9s 5ms/step - loss: 0.2953 - accuracy: 0.8900 - val_loss: 0.2788 - val_accuracy: 0.8920\n",
      "Epoch 4/20\n",
      "1719/1719 [==============================] - 9s 5ms/step - loss: 0.2645 - accuracy: 0.9024 - val_loss: 0.2733 - val_accuracy: 0.8954\n",
      "Epoch 5/20\n",
      "1719/1719 [==============================] - 9s 5ms/step - loss: 0.2334 - accuracy: 0.9141 - val_loss: 0.2564 - val_accuracy: 0.9088\n",
      "Epoch 6/20\n",
      "1719/1719 [==============================] - 9s 5ms/step - loss: 0.2136 - accuracy: 0.9203 - val_loss: 0.2794 - val_accuracy: 0.9024\n",
      "Epoch 7/20\n",
      "1719/1719 [==============================] - 9s 5ms/step - loss: 0.1985 - accuracy: 0.9265 - val_loss: 0.2922 - val_accuracy: 0.8932\n",
      "Epoch 8/20\n",
      "1719/1719 [==============================] - 9s 5ms/step - loss: 0.1782 - accuracy: 0.9320 - val_loss: 0.2765 - val_accuracy: 0.9052\n",
      "Epoch 9/20\n",
      "1719/1719 [==============================] - 9s 5ms/step - loss: 0.1585 - accuracy: 0.9386 - val_loss: 0.2632 - val_accuracy: 0.9054\n",
      "Epoch 10/20\n",
      "1719/1719 [==============================] - 9s 5ms/step - loss: 0.1490 - accuracy: 0.9441 - val_loss: 0.2644 - val_accuracy: 0.9070\n",
      "Epoch 11/20\n",
      "1719/1719 [==============================] - 9s 5ms/step - loss: 0.1384 - accuracy: 0.9469 - val_loss: 0.2769 - val_accuracy: 0.9106\n",
      "Epoch 12/20\n",
      "1719/1719 [==============================] - 9s 5ms/step - loss: 0.1253 - accuracy: 0.9523 - val_loss: 0.2766 - val_accuracy: 0.9100\n",
      "Epoch 13/20\n",
      "1719/1719 [==============================] - 9s 5ms/step - loss: 0.1187 - accuracy: 0.9553 - val_loss: 0.2966 - val_accuracy: 0.9058\n",
      "Epoch 14/20\n",
      "1719/1719 [==============================] - 9s 5ms/step - loss: 0.1037 - accuracy: 0.9598 - val_loss: 0.3566 - val_accuracy: 0.9084\n",
      "Epoch 15/20\n",
      "1719/1719 [==============================] - 9s 5ms/step - loss: 0.1006 - accuracy: 0.9612 - val_loss: 0.3754 - val_accuracy: 0.9000\n",
      "Epoch 16/20\n",
      "1719/1719 [==============================] - 9s 5ms/step - loss: 0.0910 - accuracy: 0.9663 - val_loss: 0.3243 - val_accuracy: 0.9080\n",
      "Epoch 17/20\n",
      "1719/1719 [==============================] - 9s 5ms/step - loss: 0.0803 - accuracy: 0.9694 - val_loss: 0.4013 - val_accuracy: 0.9046\n",
      "Epoch 18/20\n",
      "1719/1719 [==============================] - 9s 5ms/step - loss: 0.0874 - accuracy: 0.9690 - val_loss: 0.4091 - val_accuracy: 0.9076\n",
      "Epoch 19/20\n",
      "1719/1719 [==============================] - 9s 5ms/step - loss: 0.0764 - accuracy: 0.9709 - val_loss: 0.3633 - val_accuracy: 0.9086\n",
      "Epoch 20/20\n",
      "1719/1719 [==============================] - 9s 5ms/step - loss: 0.0657 - accuracy: 0.9760 - val_loss: 0.3722 - val_accuracy: 0.9082\n"
     ]
    }
   ],
   "source": [
    "history3 = model3.fit(train_images, train_labels, \n",
    "                     epochs=20, \n",
    "                     validation_data=(validation_images, validation_labes))"
   ]
  },
  {
   "cell_type": "markdown",
   "id": "08aaa01d-91b0-4449-bfc8-9281f379cc50",
   "metadata": {},
   "source": [
    "Parece que este nuevo modelo también converge en el 90% de accuracy en el conjunto de validación. Por lo que haremos un último intento con otra arquitectura:\n",
    "* Usaremos el mismo número de filtros por capa convolucional: 128\n"
   ]
  },
  {
   "cell_type": "code",
   "execution_count": 33,
   "id": "fbff730e-b0b7-4c66-b21b-05d761b6c6e0",
   "metadata": {},
   "outputs": [],
   "source": [
    "tf.keras.backend.clear_session()\n",
    "tf.random.set_seed(20062002)\n",
    "\n",
    "model4 = tf.keras.Sequential([\n",
    "    tf.keras.layers.Conv2D(128, (2,2), activation='relu', input_shape=[28,28,1]),\n",
    "    tf.keras.layers.Conv2D(128, (2,2), activation='relu'),\n",
    "    tf.keras.layers.MaxPooling2D(2,2),\n",
    "    tf.keras.layers.Conv2D(128, (2,2), activation='relu'),\n",
    "    tf.keras.layers.MaxPooling2D(2,2),\n",
    "    tf.keras.layers.Conv2D(128, (2,2), activation='relu'),\n",
    "    tf.keras.layers.MaxPooling2D(2,2),\n",
    "    tf.keras.layers.Flatten(),\n",
    "    tf.keras.layers.Dense(545, activation='relu'),\n",
    "    tf.keras.layers.Dense(300, activation='relu'),\n",
    "    tf.keras.layers.Dense(120, activation='relu'),\n",
    "    tf.keras.layers.Dense(10, activation='softmax')\n",
    "])"
   ]
  },
  {
   "cell_type": "code",
   "execution_count": 34,
   "id": "da3c4c2a-f4fc-43d1-ab45-4d01cbd22a84",
   "metadata": {},
   "outputs": [],
   "source": [
    "model4.compile(loss=\"sparse_categorical_crossentropy\",\n",
    "              optimizer=\"adam\",\n",
    "              metrics=[\"accuracy\"])"
   ]
  },
  {
   "cell_type": "code",
   "execution_count": 35,
   "id": "d22d5db5-518a-4d9f-afe3-cd25fa42142e",
   "metadata": {},
   "outputs": [
    {
     "name": "stdout",
     "output_type": "stream",
     "text": [
      "Epoch 1/20\n",
      "1719/1719 [==============================] - 22s 12ms/step - loss: 0.7118 - accuracy: 0.7355 - val_loss: 0.3547 - val_accuracy: 0.8660\n",
      "Epoch 2/20\n",
      "1719/1719 [==============================] - 20s 12ms/step - loss: 0.3305 - accuracy: 0.8784 - val_loss: 0.2817 - val_accuracy: 0.8974\n",
      "Epoch 3/20\n",
      "1719/1719 [==============================] - 20s 12ms/step - loss: 0.2716 - accuracy: 0.8999 - val_loss: 0.2508 - val_accuracy: 0.9000\n",
      "Epoch 4/20\n",
      "1719/1719 [==============================] - 20s 12ms/step - loss: 0.2461 - accuracy: 0.9105 - val_loss: 0.2716 - val_accuracy: 0.8988\n",
      "Epoch 5/20\n",
      "1719/1719 [==============================] - 20s 12ms/step - loss: 0.2145 - accuracy: 0.9210 - val_loss: 0.2699 - val_accuracy: 0.9056\n",
      "Epoch 6/20\n",
      "1719/1719 [==============================] - 20s 12ms/step - loss: 0.1954 - accuracy: 0.9268 - val_loss: 0.2702 - val_accuracy: 0.9104\n",
      "Epoch 7/20\n",
      "1719/1719 [==============================] - 20s 12ms/step - loss: 0.1775 - accuracy: 0.9333 - val_loss: 0.2806 - val_accuracy: 0.9034\n",
      "Epoch 8/20\n",
      "1719/1719 [==============================] - 20s 12ms/step - loss: 0.1626 - accuracy: 0.9401 - val_loss: 0.2522 - val_accuracy: 0.9126\n",
      "Epoch 9/20\n",
      "1719/1719 [==============================] - 20s 12ms/step - loss: 0.1403 - accuracy: 0.9469 - val_loss: 0.2506 - val_accuracy: 0.9134\n",
      "Epoch 10/20\n",
      "1719/1719 [==============================] - 21s 12ms/step - loss: 0.1309 - accuracy: 0.9503 - val_loss: 0.2855 - val_accuracy: 0.9126\n",
      "Epoch 11/20\n",
      "1719/1719 [==============================] - 21s 12ms/step - loss: 0.1212 - accuracy: 0.9546 - val_loss: 0.2601 - val_accuracy: 0.9206\n",
      "Epoch 12/20\n",
      "1719/1719 [==============================] - 20s 12ms/step - loss: 0.1062 - accuracy: 0.9595 - val_loss: 0.2622 - val_accuracy: 0.9164\n",
      "Epoch 13/20\n",
      "1719/1719 [==============================] - 21s 12ms/step - loss: 0.0963 - accuracy: 0.9643 - val_loss: 0.2802 - val_accuracy: 0.9160\n",
      "Epoch 14/20\n",
      "1719/1719 [==============================] - 21s 12ms/step - loss: 0.0902 - accuracy: 0.9663 - val_loss: 0.3694 - val_accuracy: 0.9150\n",
      "Epoch 15/20\n",
      "1719/1719 [==============================] - 20s 12ms/step - loss: 0.0892 - accuracy: 0.9665 - val_loss: 0.3304 - val_accuracy: 0.9046\n",
      "Epoch 16/20\n",
      "1719/1719 [==============================] - 20s 12ms/step - loss: 0.0803 - accuracy: 0.9704 - val_loss: 0.3400 - val_accuracy: 0.9098\n",
      "Epoch 17/20\n",
      "1719/1719 [==============================] - 20s 12ms/step - loss: 0.0720 - accuracy: 0.9724 - val_loss: 0.3664 - val_accuracy: 0.9116\n",
      "Epoch 18/20\n",
      "1719/1719 [==============================] - 20s 12ms/step - loss: 0.0695 - accuracy: 0.9746 - val_loss: 0.3893 - val_accuracy: 0.9132\n",
      "Epoch 19/20\n",
      "1719/1719 [==============================] - 20s 12ms/step - loss: 0.0662 - accuracy: 0.9759 - val_loss: 0.4176 - val_accuracy: 0.9084\n",
      "Epoch 20/20\n",
      "1719/1719 [==============================] - 20s 12ms/step - loss: 0.0593 - accuracy: 0.9799 - val_loss: 0.3751 - val_accuracy: 0.9036\n"
     ]
    }
   ],
   "source": [
    "history4 = model4.fit(train_images, train_labels, \n",
    "                     epochs=20, \n",
    "                     validation_data=(validation_images, validation_labes))"
   ]
  },
  {
   "cell_type": "markdown",
   "id": "943a4b9b-21ef-49dc-9454-b066867fca8e",
   "metadata": {},
   "source": [
    "Este modelo parece ser que es el mejor hasta ahora porque en la mayoría de las épocas se mantuvo en el 91% de accuracy en el conjunto de validación. De hecho, en la época 11 alcanzó el 92% de efectividad. Sin embargo, parece que esta convergencia se alcanza aproximadamente en la época 15, ya que posteriormente tiende a sobreajustar."
   ]
  },
  {
   "cell_type": "markdown",
   "id": "25dd36f4-3882-4c6e-9828-b8f2994f9271",
   "metadata": {},
   "source": [
    "## Ejemplos de ejecución"
   ]
  },
  {
   "cell_type": "markdown",
   "id": "a768cfad-a75e-4780-8bef-0f4e4f8f7b3a",
   "metadata": {},
   "source": [
    "Veamos entonces cuál de nuestros modelos es el ganador al momento de predecir con los conjuntos de prueba"
   ]
  },
  {
   "cell_type": "markdown",
   "id": "a9d271cb-e305-4c84-b7ce-32bfb1102a03",
   "metadata": {},
   "source": [
    "**Modelo 1. Arquitectura convolucional de mayor a menor sobreajustado con 2 capas en la parte densa**"
   ]
  },
  {
   "cell_type": "code",
   "execution_count": 37,
   "id": "fe579a2d-366c-4847-a1c6-321f8584b0fa",
   "metadata": {},
   "outputs": [
    {
     "name": "stdout",
     "output_type": "stream",
     "text": [
      "313/313 [==============================] - 1s 4ms/step - loss: 0.3813 - accuracy: 0.8965\n"
     ]
    },
    {
     "data": {
      "text/plain": [
       "[0.3812725841999054, 0.8964999914169312]"
      ]
     },
     "execution_count": 37,
     "metadata": {},
     "output_type": "execute_result"
    }
   ],
   "source": [
    "model1.evaluate(test_images, test_labels)"
   ]
  },
  {
   "cell_type": "markdown",
   "id": "e2c1beb7-adab-4ad1-aca4-afadbbe62b71",
   "metadata": {},
   "source": [
    "Vemos que no alcanza el 90% de accuracy y la entropía cruzada categórica queda relativamente alta: 38%"
   ]
  },
  {
   "cell_type": "markdown",
   "id": "f6f10828-5c75-486f-a42b-f914ae732a22",
   "metadata": {},
   "source": [
    "**Modelo 2. Arquitectura convolucional de mayor a menor no sobreajustado con 2 capas densas**"
   ]
  },
  {
   "cell_type": "code",
   "execution_count": 38,
   "id": "05458d2f-587c-4e0d-9c92-30d0bf9c2984",
   "metadata": {},
   "outputs": [
    {
     "name": "stdout",
     "output_type": "stream",
     "text": [
      "313/313 [==============================] - 1s 4ms/step - loss: 0.3505 - accuracy: 0.8981\n"
     ]
    },
    {
     "data": {
      "text/plain": [
       "[0.3505280017852783, 0.8981000185012817]"
      ]
     },
     "execution_count": 38,
     "metadata": {},
     "output_type": "execute_result"
    }
   ],
   "source": [
    "model2.evaluate(test_images, test_labels)"
   ]
  },
  {
   "cell_type": "markdown",
   "id": "d7258b54-dcbd-42e6-acff-84ac048ddcaf",
   "metadata": {},
   "source": [
    "Sorprendentemente da el mismo resultado que su contraparte con la misma arquitectura, pero menor número de épocas"
   ]
  },
  {
   "cell_type": "markdown",
   "id": "d590a5b8-d922-4078-8880-909b6a21abd4",
   "metadata": {},
   "source": [
    "**Modelo 3. Arquitectura convolucional de menor a mayor con 3 capas densas**"
   ]
  },
  {
   "cell_type": "code",
   "execution_count": 39,
   "id": "90a5e05b-e37c-4adf-9b81-5bd5eafbfbf9",
   "metadata": {},
   "outputs": [
    {
     "name": "stdout",
     "output_type": "stream",
     "text": [
      "313/313 [==============================] - 1s 3ms/step - loss: 0.4391 - accuracy: 0.9046\n"
     ]
    },
    {
     "data": {
      "text/plain": [
       "[0.43909358978271484, 0.9046000242233276]"
      ]
     },
     "execution_count": 39,
     "metadata": {},
     "output_type": "execute_result"
    }
   ],
   "source": [
    "model3.evaluate(test_images, test_labels)"
   ]
  },
  {
   "cell_type": "markdown",
   "id": "79f5574b-145a-4d52-a6f7-72eefaa828af",
   "metadata": {},
   "source": [
    "Este modelo sí consigue llegar al 90% de accuracy (90.46%)"
   ]
  },
  {
   "cell_type": "markdown",
   "id": "131f5e97-cde8-4303-b405-929248f38aff",
   "metadata": {},
   "source": [
    "**Modelo 4. Arquitectura convolucional con todas sus capas con el mismo número de filtros y con 3 capas en la parte densa**"
   ]
  },
  {
   "cell_type": "code",
   "execution_count": 40,
   "id": "4fd17e5d-5115-4dbd-9182-1b05a70134ad",
   "metadata": {},
   "outputs": [
    {
     "name": "stdout",
     "output_type": "stream",
     "text": [
      "313/313 [==============================] - 2s 5ms/step - loss: 0.4055 - accuracy: 0.8987\n"
     ]
    },
    {
     "data": {
      "text/plain": [
       "[0.40552425384521484, 0.8986999988555908]"
      ]
     },
     "execution_count": 40,
     "metadata": {},
     "output_type": "execute_result"
    }
   ],
   "source": [
    "model4.evaluate(test_images, test_labels)"
   ]
  },
  {
   "cell_type": "markdown",
   "id": "de32dd7b-130d-4bba-bdcc-7a8ddb1a728b",
   "metadata": {},
   "source": [
    "Este modelo que parecía más prometedor tampoco llegó al 90% de accuracy."
   ]
  },
  {
   "cell_type": "markdown",
   "id": "6bf2ebe1-957e-42a7-81a0-737e81467d76",
   "metadata": {},
   "source": [
    "Antes de pasar al análisis y conclusiones es importante guardar los modelos."
   ]
  },
  {
   "cell_type": "code",
   "execution_count": 41,
   "id": "dd8121c2-d48b-4c2a-97cf-d89e90427a9b",
   "metadata": {},
   "outputs": [],
   "source": [
    "import shutil\n",
    "shutil.rmtree(\"modelo1_tarea1\", ignore_errors=True)\n",
    "shutil.rmtree(\"modelo2_tarea1\", ignore_errors=True)\n",
    "shutil.rmtree(\"modelo3_tarea1\", ignore_errors=True)\n",
    "shutil.rmtree(\"modelo4_tarea1\", ignore_errors=True)"
   ]
  },
  {
   "cell_type": "code",
   "execution_count": 42,
   "id": "24dd904b-4389-4a76-9754-0baec44ff0ba",
   "metadata": {},
   "outputs": [
    {
     "name": "stderr",
     "output_type": "stream",
     "text": [
      "2024-08-12 07:42:16.132006: W tensorflow/python/util/util.cc:348] Sets are not currently considered sequences, but this may change in the future, so consider avoiding using them.\n"
     ]
    },
    {
     "name": "stdout",
     "output_type": "stream",
     "text": [
      "INFO:tensorflow:Assets written to: modelo1_tarea1/assets\n",
      "INFO:tensorflow:Assets written to: modelo2_tarea1/assets\n",
      "INFO:tensorflow:Assets written to: modelo3_tarea1/assets\n",
      "INFO:tensorflow:Assets written to: modelo4_tarea1/assets\n"
     ]
    }
   ],
   "source": [
    "model1.save(\"modelo1_tarea1\", save_format=\"tf\")\n",
    "model2.save(\"modelo2_tarea1\", save_format=\"tf\")\n",
    "model3.save(\"modelo3_tarea1\", save_format=\"tf\")\n",
    "model4.save(\"modelo4_tarea1\", save_format=\"tf\")"
   ]
  },
  {
   "cell_type": "markdown",
   "id": "d016fad4-d352-4fe2-9be6-2865f050429f",
   "metadata": {},
   "source": [
    "De una vez guardemos los pesos de cada modelo"
   ]
  },
  {
   "cell_type": "code",
   "execution_count": 43,
   "id": "8bcb4ecb-d31a-4af9-9899-94144fcffd40",
   "metadata": {},
   "outputs": [],
   "source": [
    "model1.save_weights(\"weights1\")\n",
    "model2.save_weights(\"weights2\")\n",
    "model3.save_weights(\"weights3\")\n",
    "model4.save_weights(\"weights4\")"
   ]
  },
  {
   "cell_type": "markdown",
   "id": "6b6c1c42-c3ac-4aa4-b834-7a5c2feea746",
   "metadata": {},
   "source": [
    "## Conclusiones"
   ]
  },
  {
   "cell_type": "markdown",
   "id": "03f32c45-a947-4ac3-b2ac-4c121b3640d2",
   "metadata": {},
   "source": [
    "Si pensamos únicamente en los objetivos iniciales de la práctica: alcanzar el 90% de accuracy con un modelo y practicar lo visto sobre redes neuronales convolucionales, entonces esta tarea cumplió con lo necesario. Sin embargo, personalmente no quedo tan contento con el desempeño de los modelos. Entiendo que llegar más allá del 90% de efectividad es sumamente complicado aun con redes neuronales, pero igualmente uno desea alcanzar cada vez mejores resultados con sus modelos.\n",
    "\n",
    "En cuanto a aprendizaje útil que logramos obtener de las observaciones de esta práctica tenemos lo siguiente:\n",
    "* Las redes neuronales son igual o un poco más suceptibles de sobreajustarse que los algoritmos tradicionales de machine learning. Por lo que hay que poner particular atención al número de épocas que le demos para entrenar a los modelos.\n",
    "* En las redes neuronales convolucionales, parece que es importante y efectivo poner un número grande de filtros en las últimas capas (las previas a pasar a la parte densa de la red). Esto lo podemos explicar porque en esas capas es donde se abstraen los features más complejos de los objetos, por lo que con más filtros podemos conseguir más información en una etapa importante de la visión computacional.\n",
    "\n",
    "Para futuros trabajos valdría la pena usar otros optimizadores sobre estas mismas arquitecturas. Al menos para averiguar si el sobreajuste afectó fuertemente nuestros modelos. Además, también sería útil comparar otras métricas como el tamaño del stripe, otras reducciones en el pooling o el mismo tamaño de los filtros.\n",
    "\n",
    "Con esto podemos ver por qué es de los tipos de redes neuronales con los que más se está experimentando actualmente: dan buenos resultados y hay mucho trabajo para experimentar hasta conseguir los mejores resultados"
   ]
  },
  {
   "cell_type": "markdown",
   "id": "47741a53-eebe-4940-ba4d-ede655e021b9",
   "metadata": {},
   "source": [
    "## Referencias"
   ]
  },
  {
   "cell_type": "markdown",
   "id": "13963e1e-0ed8-4ed1-a066-0915c0b69d59",
   "metadata": {},
   "source": [
    "En esta ocasión no fue necesario consultar fuentes externas al material visto en las sesiones del diplomado."
   ]
  }
 ],
 "metadata": {
  "kernelspec": {
   "display_name": "Python 3 (ipykernel)",
   "language": "python",
   "name": "python3"
  },
  "language_info": {
   "codemirror_mode": {
    "name": "ipython",
    "version": 3
   },
   "file_extension": ".py",
   "mimetype": "text/x-python",
   "name": "python",
   "nbconvert_exporter": "python",
   "pygments_lexer": "ipython3",
   "version": "3.9.19"
  }
 },
 "nbformat": 4,
 "nbformat_minor": 5
}
