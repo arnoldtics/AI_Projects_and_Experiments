{
 "cells": [
  {
   "cell_type": "markdown",
   "metadata": {},
   "source": [
    "# <center> Escuela de ML y DL Módulo 1 </center> \n",
    "##  <center> Tarea 2. Regresión logística </center>\n",
    "##  <center> Arnoldo Fernando Chue Sánchez </center>\n",
    "##  <center> arnoldwork20@gmail.com </center>\n",
    "##  <center> Marzo de 2024 </center>\n",
    "\n",
    "## Contenido \n",
    "1. Planteamiento del problema\n",
    "2. Planteamiento de la solución\n",
    "    * Preparar los datos\n",
    "    * Análisis Exploratorio de Datos (EDA)\n",
    "    * Preprocesamiento de los datos\n",
    "        * Manejo de datos nulos\n",
    "        * Manejo de datos categóricos\n",
    "    * Dividir los datos en la matriz X y el vector de etiquetas Y\n",
    "        * Estandarización y normalización\n",
    "    * Creación del modelo \n",
    "3. Ejemplo de ejecución con la solución\n",
    "    * Realizar predicciones\n",
    "    * Analizar los resultados con diferentes métricas\n",
    "4. Conclusiones \n",
    "5. Referencias"
   ]
  },
  {
   "cell_type": "markdown",
   "metadata": {},
   "source": [
    "# 1. Planteamiento del problema"
   ]
  },
  {
   "cell_type": "markdown",
   "metadata": {},
   "source": [
    "*Usando el conjunto de datos siguiente: https://www.kaggle.com/brllrb/uber-and-lyft-dataset-boston-ma y la libreta de JupyterLab P2-Regresion-lineal construyan un modelo de regresión logística binario. El objetivo es encontrar patrones entre las solicitudes realizadas a Uber y Lyft. También deben hacer un análisis de los resultados usando como métricas: la exactitud (accuracy), la sensibilidad (recall) y la métrica F1 (Score F1). Recuerden hacer el análisis de los datos y anotar sus conclusiones.*"
   ]
  },
  {
   "cell_type": "markdown",
   "metadata": {},
   "source": [
    "# 2. Planteamiento de la solución"
   ]
  },
  {
   "cell_type": "markdown",
   "metadata": {},
   "source": [
    "Sabemos por las instrucciones que vamos a construir un clasificador binario con regresión logística para las clases de Uber y Lift"
   ]
  },
  {
   "cell_type": "markdown",
   "metadata": {},
   "source": [
    "En primer lugar vamos a importar todos los módulos y funciones que vamos a utilizar"
   ]
  },
  {
   "cell_type": "code",
   "execution_count": 1,
   "metadata": {},
   "outputs": [],
   "source": [
    "import numpy as np\n",
    "import matplotlib.pyplot as plt\n",
    "import pandas as pd\n",
    "import seaborn as sns\n",
    "\n",
    "from sklearn.preprocessing import StandardScaler, MinMaxScaler, LabelEncoder, OneHotEncoder\n",
    "from sklearn.model_selection import train_test_split\n",
    "from sklearn.linear_model import LogisticRegression\n",
    "from sklearn.metrics import accuracy_score, recall_score, precision_score, f1_score, confusion_matrix, ConfusionMatrixDisplay"
   ]
  },
  {
   "cell_type": "markdown",
   "metadata": {},
   "source": [
    "Fijamos el directorio del dataset que descargamos de Kaggle para la actividad"
   ]
  },
  {
   "cell_type": "code",
   "execution_count": 2,
   "metadata": {},
   "outputs": [],
   "source": [
    "PATH = \"./datasets/\""
   ]
  },
  {
   "cell_type": "markdown",
   "metadata": {},
   "source": [
    "## Preparar los datos"
   ]
  },
  {
   "cell_type": "code",
   "execution_count": 3,
   "metadata": {},
   "outputs": [],
   "source": [
    "df1 = pd.read_csv(PATH + \"rideshare_kaggle.csv\")"
   ]
  },
  {
   "cell_type": "markdown",
   "metadata": {},
   "source": [
    "Por el tiempo que tardó en cargar el dataset sabemos que tenemos un gran conjunto de datos."
   ]
  },
  {
   "cell_type": "markdown",
   "metadata": {},
   "source": [
    "## Análisis exploratorio de datos"
   ]
  },
  {
   "cell_type": "code",
   "execution_count": 4,
   "metadata": {},
   "outputs": [
    {
     "data": {
      "text/html": [
       "<div>\n",
       "<style scoped>\n",
       "    .dataframe tbody tr th:only-of-type {\n",
       "        vertical-align: middle;\n",
       "    }\n",
       "\n",
       "    .dataframe tbody tr th {\n",
       "        vertical-align: top;\n",
       "    }\n",
       "\n",
       "    .dataframe thead th {\n",
       "        text-align: right;\n",
       "    }\n",
       "</style>\n",
       "<table border=\"1\" class=\"dataframe\">\n",
       "  <thead>\n",
       "    <tr style=\"text-align: right;\">\n",
       "      <th></th>\n",
       "      <th>id</th>\n",
       "      <th>timestamp</th>\n",
       "      <th>hour</th>\n",
       "      <th>day</th>\n",
       "      <th>month</th>\n",
       "      <th>datetime</th>\n",
       "      <th>timezone</th>\n",
       "      <th>source</th>\n",
       "      <th>destination</th>\n",
       "      <th>cab_type</th>\n",
       "      <th>...</th>\n",
       "      <th>precipIntensityMax</th>\n",
       "      <th>uvIndexTime</th>\n",
       "      <th>temperatureMin</th>\n",
       "      <th>temperatureMinTime</th>\n",
       "      <th>temperatureMax</th>\n",
       "      <th>temperatureMaxTime</th>\n",
       "      <th>apparentTemperatureMin</th>\n",
       "      <th>apparentTemperatureMinTime</th>\n",
       "      <th>apparentTemperatureMax</th>\n",
       "      <th>apparentTemperatureMaxTime</th>\n",
       "    </tr>\n",
       "  </thead>\n",
       "  <tbody>\n",
       "    <tr>\n",
       "      <th>0</th>\n",
       "      <td>424553bb-7174-41ea-aeb4-fe06d4f4b9d7</td>\n",
       "      <td>1.544953e+09</td>\n",
       "      <td>9</td>\n",
       "      <td>16</td>\n",
       "      <td>12</td>\n",
       "      <td>2018-12-16 09:30:07</td>\n",
       "      <td>America/New_York</td>\n",
       "      <td>Haymarket Square</td>\n",
       "      <td>North Station</td>\n",
       "      <td>Lyft</td>\n",
       "      <td>...</td>\n",
       "      <td>0.1276</td>\n",
       "      <td>1544979600</td>\n",
       "      <td>39.89</td>\n",
       "      <td>1545012000</td>\n",
       "      <td>43.68</td>\n",
       "      <td>1544968800</td>\n",
       "      <td>33.73</td>\n",
       "      <td>1545012000</td>\n",
       "      <td>38.07</td>\n",
       "      <td>1544958000</td>\n",
       "    </tr>\n",
       "    <tr>\n",
       "      <th>1</th>\n",
       "      <td>4bd23055-6827-41c6-b23b-3c491f24e74d</td>\n",
       "      <td>1.543284e+09</td>\n",
       "      <td>2</td>\n",
       "      <td>27</td>\n",
       "      <td>11</td>\n",
       "      <td>2018-11-27 02:00:23</td>\n",
       "      <td>America/New_York</td>\n",
       "      <td>Haymarket Square</td>\n",
       "      <td>North Station</td>\n",
       "      <td>Lyft</td>\n",
       "      <td>...</td>\n",
       "      <td>0.1300</td>\n",
       "      <td>1543251600</td>\n",
       "      <td>40.49</td>\n",
       "      <td>1543233600</td>\n",
       "      <td>47.30</td>\n",
       "      <td>1543251600</td>\n",
       "      <td>36.20</td>\n",
       "      <td>1543291200</td>\n",
       "      <td>43.92</td>\n",
       "      <td>1543251600</td>\n",
       "    </tr>\n",
       "    <tr>\n",
       "      <th>2</th>\n",
       "      <td>981a3613-77af-4620-a42a-0c0866077d1e</td>\n",
       "      <td>1.543367e+09</td>\n",
       "      <td>1</td>\n",
       "      <td>28</td>\n",
       "      <td>11</td>\n",
       "      <td>2018-11-28 01:00:22</td>\n",
       "      <td>America/New_York</td>\n",
       "      <td>Haymarket Square</td>\n",
       "      <td>North Station</td>\n",
       "      <td>Lyft</td>\n",
       "      <td>...</td>\n",
       "      <td>0.1064</td>\n",
       "      <td>1543338000</td>\n",
       "      <td>35.36</td>\n",
       "      <td>1543377600</td>\n",
       "      <td>47.55</td>\n",
       "      <td>1543320000</td>\n",
       "      <td>31.04</td>\n",
       "      <td>1543377600</td>\n",
       "      <td>44.12</td>\n",
       "      <td>1543320000</td>\n",
       "    </tr>\n",
       "    <tr>\n",
       "      <th>3</th>\n",
       "      <td>c2d88af2-d278-4bfd-a8d0-29ca77cc5512</td>\n",
       "      <td>1.543554e+09</td>\n",
       "      <td>4</td>\n",
       "      <td>30</td>\n",
       "      <td>11</td>\n",
       "      <td>2018-11-30 04:53:02</td>\n",
       "      <td>America/New_York</td>\n",
       "      <td>Haymarket Square</td>\n",
       "      <td>North Station</td>\n",
       "      <td>Lyft</td>\n",
       "      <td>...</td>\n",
       "      <td>0.0000</td>\n",
       "      <td>1543507200</td>\n",
       "      <td>34.67</td>\n",
       "      <td>1543550400</td>\n",
       "      <td>45.03</td>\n",
       "      <td>1543510800</td>\n",
       "      <td>30.30</td>\n",
       "      <td>1543550400</td>\n",
       "      <td>38.53</td>\n",
       "      <td>1543510800</td>\n",
       "    </tr>\n",
       "    <tr>\n",
       "      <th>4</th>\n",
       "      <td>e0126e1f-8ca9-4f2e-82b3-50505a09db9a</td>\n",
       "      <td>1.543463e+09</td>\n",
       "      <td>3</td>\n",
       "      <td>29</td>\n",
       "      <td>11</td>\n",
       "      <td>2018-11-29 03:49:20</td>\n",
       "      <td>America/New_York</td>\n",
       "      <td>Haymarket Square</td>\n",
       "      <td>North Station</td>\n",
       "      <td>Lyft</td>\n",
       "      <td>...</td>\n",
       "      <td>0.0001</td>\n",
       "      <td>1543420800</td>\n",
       "      <td>33.10</td>\n",
       "      <td>1543402800</td>\n",
       "      <td>42.18</td>\n",
       "      <td>1543420800</td>\n",
       "      <td>29.11</td>\n",
       "      <td>1543392000</td>\n",
       "      <td>35.75</td>\n",
       "      <td>1543420800</td>\n",
       "    </tr>\n",
       "  </tbody>\n",
       "</table>\n",
       "<p>5 rows × 57 columns</p>\n",
       "</div>"
      ],
      "text/plain": [
       "                                     id     timestamp  hour  day  month  \\\n",
       "0  424553bb-7174-41ea-aeb4-fe06d4f4b9d7  1.544953e+09     9   16     12   \n",
       "1  4bd23055-6827-41c6-b23b-3c491f24e74d  1.543284e+09     2   27     11   \n",
       "2  981a3613-77af-4620-a42a-0c0866077d1e  1.543367e+09     1   28     11   \n",
       "3  c2d88af2-d278-4bfd-a8d0-29ca77cc5512  1.543554e+09     4   30     11   \n",
       "4  e0126e1f-8ca9-4f2e-82b3-50505a09db9a  1.543463e+09     3   29     11   \n",
       "\n",
       "              datetime          timezone            source    destination  \\\n",
       "0  2018-12-16 09:30:07  America/New_York  Haymarket Square  North Station   \n",
       "1  2018-11-27 02:00:23  America/New_York  Haymarket Square  North Station   \n",
       "2  2018-11-28 01:00:22  America/New_York  Haymarket Square  North Station   \n",
       "3  2018-11-30 04:53:02  America/New_York  Haymarket Square  North Station   \n",
       "4  2018-11-29 03:49:20  America/New_York  Haymarket Square  North Station   \n",
       "\n",
       "  cab_type  ... precipIntensityMax uvIndexTime  temperatureMin  \\\n",
       "0     Lyft  ...             0.1276  1544979600           39.89   \n",
       "1     Lyft  ...             0.1300  1543251600           40.49   \n",
       "2     Lyft  ...             0.1064  1543338000           35.36   \n",
       "3     Lyft  ...             0.0000  1543507200           34.67   \n",
       "4     Lyft  ...             0.0001  1543420800           33.10   \n",
       "\n",
       "   temperatureMinTime  temperatureMax  temperatureMaxTime  \\\n",
       "0          1545012000           43.68          1544968800   \n",
       "1          1543233600           47.30          1543251600   \n",
       "2          1543377600           47.55          1543320000   \n",
       "3          1543550400           45.03          1543510800   \n",
       "4          1543402800           42.18          1543420800   \n",
       "\n",
       "   apparentTemperatureMin  apparentTemperatureMinTime  apparentTemperatureMax  \\\n",
       "0                   33.73                  1545012000                   38.07   \n",
       "1                   36.20                  1543291200                   43.92   \n",
       "2                   31.04                  1543377600                   44.12   \n",
       "3                   30.30                  1543550400                   38.53   \n",
       "4                   29.11                  1543392000                   35.75   \n",
       "\n",
       "  apparentTemperatureMaxTime  \n",
       "0                 1544958000  \n",
       "1                 1543251600  \n",
       "2                 1543320000  \n",
       "3                 1543510800  \n",
       "4                 1543420800  \n",
       "\n",
       "[5 rows x 57 columns]"
      ]
     },
     "execution_count": 4,
     "metadata": {},
     "output_type": "execute_result"
    }
   ],
   "source": [
    "df1.head()"
   ]
  },
  {
   "cell_type": "markdown",
   "metadata": {},
   "source": [
    "Aquí por lo menos ya logramos ubicar la columna que tiene nuestras clases: \"cab_type\"."
   ]
  },
  {
   "cell_type": "code",
   "execution_count": 6,
   "metadata": {},
   "outputs": [
    {
     "data": {
      "text/plain": [
       "cab_type\n",
       "Uber    385663\n",
       "Lyft    307408\n",
       "Name: count, dtype: int64"
      ]
     },
     "execution_count": 6,
     "metadata": {},
     "output_type": "execute_result"
    }
   ],
   "source": [
    "df1[\"cab_type\"].value_counts()"
   ]
  },
  {
   "cell_type": "code",
   "execution_count": 7,
   "metadata": {},
   "outputs": [
    {
     "name": "stdout",
     "output_type": "stream",
     "text": [
      "Porcentajes de cada clase:\n",
      "55.65%\n",
      "44.35%\n"
     ]
    }
   ],
   "source": [
    "print(\"Porcentajes de cada clase:\")\n",
    "print(f\"{round(df1[df1[\"cab_type\"] == \"Uber\"].shape[0] * 100 / df1.shape[0], 2)}%\")\n",
    "print(f\"{round(df1[df1[\"cab_type\"] == \"Lyft\"].shape[0] * 100 / df1.shape[0], 2)}%\")"
   ]
  },
  {
   "cell_type": "markdown",
   "metadata": {},
   "source": [
    "Parece que tenemos bien balanceadas las clases del modelo. Su diferencia no debería ser tan significativa"
   ]
  },
  {
   "cell_type": "markdown",
   "metadata": {},
   "source": [
    "Veamos el resto de los datos"
   ]
  },
  {
   "cell_type": "code",
   "execution_count": 8,
   "metadata": {},
   "outputs": [
    {
     "data": {
      "text/plain": [
       "(693071, 57)"
      ]
     },
     "execution_count": 8,
     "metadata": {},
     "output_type": "execute_result"
    }
   ],
   "source": [
    "df1.shape"
   ]
  },
  {
   "cell_type": "markdown",
   "metadata": {},
   "source": [
    "693,071 instancias y 57 atributos."
   ]
  },
  {
   "cell_type": "code",
   "execution_count": 9,
   "metadata": {},
   "outputs": [
    {
     "name": "stdout",
     "output_type": "stream",
     "text": [
      "<class 'pandas.core.frame.DataFrame'>\n",
      "RangeIndex: 693071 entries, 0 to 693070\n",
      "Data columns (total 57 columns):\n",
      " #   Column                       Non-Null Count   Dtype  \n",
      "---  ------                       --------------   -----  \n",
      " 0   id                           693071 non-null  object \n",
      " 1   timestamp                    693071 non-null  float64\n",
      " 2   hour                         693071 non-null  int64  \n",
      " 3   day                          693071 non-null  int64  \n",
      " 4   month                        693071 non-null  int64  \n",
      " 5   datetime                     693071 non-null  object \n",
      " 6   timezone                     693071 non-null  object \n",
      " 7   source                       693071 non-null  object \n",
      " 8   destination                  693071 non-null  object \n",
      " 9   cab_type                     693071 non-null  object \n",
      " 10  product_id                   693071 non-null  object \n",
      " 11  name                         693071 non-null  object \n",
      " 12  price                        637976 non-null  float64\n",
      " 13  distance                     693071 non-null  float64\n",
      " 14  surge_multiplier             693071 non-null  float64\n",
      " 15  latitude                     693071 non-null  float64\n",
      " 16  longitude                    693071 non-null  float64\n",
      " 17  temperature                  693071 non-null  float64\n",
      " 18  apparentTemperature          693071 non-null  float64\n",
      " 19  short_summary                693071 non-null  object \n",
      " 20  long_summary                 693071 non-null  object \n",
      " 21  precipIntensity              693071 non-null  float64\n",
      " 22  precipProbability            693071 non-null  float64\n",
      " 23  humidity                     693071 non-null  float64\n",
      " 24  windSpeed                    693071 non-null  float64\n",
      " 25  windGust                     693071 non-null  float64\n",
      " 26  windGustTime                 693071 non-null  int64  \n",
      " 27  visibility                   693071 non-null  float64\n",
      " 28  temperatureHigh              693071 non-null  float64\n",
      " 29  temperatureHighTime          693071 non-null  int64  \n",
      " 30  temperatureLow               693071 non-null  float64\n",
      " 31  temperatureLowTime           693071 non-null  int64  \n",
      " 32  apparentTemperatureHigh      693071 non-null  float64\n",
      " 33  apparentTemperatureHighTime  693071 non-null  int64  \n",
      " 34  apparentTemperatureLow       693071 non-null  float64\n",
      " 35  apparentTemperatureLowTime   693071 non-null  int64  \n",
      " 36  icon                         693071 non-null  object \n",
      " 37  dewPoint                     693071 non-null  float64\n",
      " 38  pressure                     693071 non-null  float64\n",
      " 39  windBearing                  693071 non-null  int64  \n",
      " 40  cloudCover                   693071 non-null  float64\n",
      " 41  uvIndex                      693071 non-null  int64  \n",
      " 42  visibility.1                 693071 non-null  float64\n",
      " 43  ozone                        693071 non-null  float64\n",
      " 44  sunriseTime                  693071 non-null  int64  \n",
      " 45  sunsetTime                   693071 non-null  int64  \n",
      " 46  moonPhase                    693071 non-null  float64\n",
      " 47  precipIntensityMax           693071 non-null  float64\n",
      " 48  uvIndexTime                  693071 non-null  int64  \n",
      " 49  temperatureMin               693071 non-null  float64\n",
      " 50  temperatureMinTime           693071 non-null  int64  \n",
      " 51  temperatureMax               693071 non-null  float64\n",
      " 52  temperatureMaxTime           693071 non-null  int64  \n",
      " 53  apparentTemperatureMin       693071 non-null  float64\n",
      " 54  apparentTemperatureMinTime   693071 non-null  int64  \n",
      " 55  apparentTemperatureMax       693071 non-null  float64\n",
      " 56  apparentTemperatureMaxTime   693071 non-null  int64  \n",
      "dtypes: float64(29), int64(17), object(11)\n",
      "memory usage: 301.4+ MB\n"
     ]
    }
   ],
   "source": [
    "df1.info()"
   ]
  },
  {
   "cell_type": "markdown",
   "metadata": {},
   "source": [
    "Aquí podemos hacer varias observaciones\n",
    "- Sólo tenemos datos nulos en el precio del viaje. Compararemos si será mejor rellenar los datos faltantes con la media o con la mediana.\n",
    "- La primer columna id es un identificador que podemos eliminar porque ya tenemos el índice del dataframe en pandas\n",
    "- Las columnas de información numérica de clima no tendremos que modificarlas por ahora. Solamente hasta que estandarizemos/normalizemos\n",
    "- Las columnas de información de texto del clima hay que cambiarlas de tipo objeto a tipo string\n",
    "- Las columnas de los lugares de salida y destino también hay que convertirlas en tipo string\n",
    "- Las columnas relacionadas al servicio (Uber o Lift) que no son la de las etiquetas son controversiales sobre el tema de eliminarlas o no. Por un lado, yo las eliminaría porque no le encuentro caso hacer un modelo en cuyos datos de entrenamiento ya vengan las etiquetas (aunque sea en otro formato). Sin embargo, puede que al eliminarlas del dataframe generen una pérdida de información muy grande en el modelo y nos bajen las métricas. Por lo tanto, voy a hacer un conjunto sin ellas y en otro lo voy a dejar.\n",
    "- Sobre las columnas de información relacionada al tiempo, hora y fecha del servicio (que no están relacionadas con el clima). Hay que ver con cuáles nos quedamos porque no sólo generan redundancia. También algunas pueden afectar nuestro modelo."
   ]
  },
  {
   "cell_type": "markdown",
   "metadata": {},
   "source": [
    "Comenzamos con la limpieza"
   ]
  },
  {
   "cell_type": "markdown",
   "metadata": {},
   "source": [
    "Eliminamos la columna del id"
   ]
  },
  {
   "cell_type": "code",
   "execution_count": 4,
   "metadata": {},
   "outputs": [],
   "source": [
    "df1.drop(\"id\", axis=1, inplace=True)"
   ]
  },
  {
   "cell_type": "markdown",
   "metadata": {},
   "source": [
    "Cambiamos las columnas de información de texto del clima para tratarlas como string: icon, short_summary y long_summary."
   ]
  },
  {
   "cell_type": "code",
   "execution_count": 5,
   "metadata": {},
   "outputs": [],
   "source": [
    "df1[\"icon\"] = df1[\"icon\"].astype(\"string\")\n",
    "df1[\"short_summary\"] = df1[\"short_summary\"].astype(\"string\")\n",
    "df1[\"long_summary\"] = df1[\"long_summary\"].astype(\"string\")"
   ]
  },
  {
   "cell_type": "markdown",
   "metadata": {},
   "source": [
    "Hacemos lo mismo para las columnas de los lugares de salida y llegada: source y destination"
   ]
  },
  {
   "cell_type": "code",
   "execution_count": 6,
   "metadata": {},
   "outputs": [],
   "source": [
    "df1[\"source\"] = df1[\"source\"].astype(\"string\")\n",
    "df1[\"destination\"] = df1[\"destination\"].astype(\"string\")"
   ]
  },
  {
   "cell_type": "markdown",
   "metadata": {},
   "source": [
    "Verificamos lo que llevamos hecho."
   ]
  },
  {
   "cell_type": "code",
   "execution_count": 7,
   "metadata": {},
   "outputs": [
    {
     "name": "stdout",
     "output_type": "stream",
     "text": [
      "<class 'pandas.core.frame.DataFrame'>\n",
      "RangeIndex: 693071 entries, 0 to 693070\n",
      "Data columns (total 56 columns):\n",
      " #   Column                       Non-Null Count   Dtype  \n",
      "---  ------                       --------------   -----  \n",
      " 0   timestamp                    693071 non-null  float64\n",
      " 1   hour                         693071 non-null  int64  \n",
      " 2   day                          693071 non-null  int64  \n",
      " 3   month                        693071 non-null  int64  \n",
      " 4   datetime                     693071 non-null  object \n",
      " 5   timezone                     693071 non-null  object \n",
      " 6   source                       693071 non-null  string \n",
      " 7   destination                  693071 non-null  string \n",
      " 8   cab_type                     693071 non-null  object \n",
      " 9   product_id                   693071 non-null  object \n",
      " 10  name                         693071 non-null  object \n",
      " 11  price                        637976 non-null  float64\n",
      " 12  distance                     693071 non-null  float64\n",
      " 13  surge_multiplier             693071 non-null  float64\n",
      " 14  latitude                     693071 non-null  float64\n",
      " 15  longitude                    693071 non-null  float64\n",
      " 16  temperature                  693071 non-null  float64\n",
      " 17  apparentTemperature          693071 non-null  float64\n",
      " 18  short_summary                693071 non-null  string \n",
      " 19  long_summary                 693071 non-null  string \n",
      " 20  precipIntensity              693071 non-null  float64\n",
      " 21  precipProbability            693071 non-null  float64\n",
      " 22  humidity                     693071 non-null  float64\n",
      " 23  windSpeed                    693071 non-null  float64\n",
      " 24  windGust                     693071 non-null  float64\n",
      " 25  windGustTime                 693071 non-null  int64  \n",
      " 26  visibility                   693071 non-null  float64\n",
      " 27  temperatureHigh              693071 non-null  float64\n",
      " 28  temperatureHighTime          693071 non-null  int64  \n",
      " 29  temperatureLow               693071 non-null  float64\n",
      " 30  temperatureLowTime           693071 non-null  int64  \n",
      " 31  apparentTemperatureHigh      693071 non-null  float64\n",
      " 32  apparentTemperatureHighTime  693071 non-null  int64  \n",
      " 33  apparentTemperatureLow       693071 non-null  float64\n",
      " 34  apparentTemperatureLowTime   693071 non-null  int64  \n",
      " 35  icon                         693071 non-null  string \n",
      " 36  dewPoint                     693071 non-null  float64\n",
      " 37  pressure                     693071 non-null  float64\n",
      " 38  windBearing                  693071 non-null  int64  \n",
      " 39  cloudCover                   693071 non-null  float64\n",
      " 40  uvIndex                      693071 non-null  int64  \n",
      " 41  visibility.1                 693071 non-null  float64\n",
      " 42  ozone                        693071 non-null  float64\n",
      " 43  sunriseTime                  693071 non-null  int64  \n",
      " 44  sunsetTime                   693071 non-null  int64  \n",
      " 45  moonPhase                    693071 non-null  float64\n",
      " 46  precipIntensityMax           693071 non-null  float64\n",
      " 47  uvIndexTime                  693071 non-null  int64  \n",
      " 48  temperatureMin               693071 non-null  float64\n",
      " 49  temperatureMinTime           693071 non-null  int64  \n",
      " 50  temperatureMax               693071 non-null  float64\n",
      " 51  temperatureMaxTime           693071 non-null  int64  \n",
      " 52  apparentTemperatureMin       693071 non-null  float64\n",
      " 53  apparentTemperatureMinTime   693071 non-null  int64  \n",
      " 54  apparentTemperatureMax       693071 non-null  float64\n",
      " 55  apparentTemperatureMaxTime   693071 non-null  int64  \n",
      "dtypes: float64(29), int64(17), object(5), string(5)\n",
      "memory usage: 296.1+ MB\n"
     ]
    }
   ],
   "source": [
    "df1.info()"
   ]
  },
  {
   "cell_type": "markdown",
   "metadata": {},
   "source": [
    "Sobre las fechas..."
   ]
  },
  {
   "cell_type": "markdown",
   "metadata": {},
   "source": [
    "En primer lugar podemos comprobar si lo que nos indican en Kaggle es cierto sobre la columna timezone: tiene un único valor. Si esto es cierto entonces podemos eliminar la columna porque no aporta información útil."
   ]
  },
  {
   "cell_type": "code",
   "execution_count": 8,
   "metadata": {},
   "outputs": [
    {
     "data": {
      "text/plain": [
       "timezone\n",
       "America/New_York    693071\n",
       "Name: count, dtype: int64"
      ]
     },
     "execution_count": 8,
     "metadata": {},
     "output_type": "execute_result"
    }
   ],
   "source": [
    "df1[\"timezone\"].value_counts()"
   ]
  },
  {
   "cell_type": "markdown",
   "metadata": {},
   "source": [
    "Confirmamos que es un único valor así que vamos a eliminarlo."
   ]
  },
  {
   "cell_type": "code",
   "execution_count": 7,
   "metadata": {},
   "outputs": [],
   "source": [
    "df1.drop(\"timezone\", axis=1, inplace=True)"
   ]
  },
  {
   "cell_type": "markdown",
   "metadata": {},
   "source": [
    "Para la columna datetime. Para empezar el año es el mismo para todos los registros: 2018. Por lo que el año no vale la pena guardarlo. El mes, día y hora ya los tenemos, por lo que tampoco vale la pena guardarlos. Sin embargo, no tenemos los minutos ni segundos. Por lo tanto, vamos a crear dos columnas nuevas para sustituir la de datetime: minutes y seconds."
   ]
  },
  {
   "cell_type": "code",
   "execution_count": 8,
   "metadata": {},
   "outputs": [
    {
     "data": {
      "text/html": [
       "<div>\n",
       "<style scoped>\n",
       "    .dataframe tbody tr th:only-of-type {\n",
       "        vertical-align: middle;\n",
       "    }\n",
       "\n",
       "    .dataframe tbody tr th {\n",
       "        vertical-align: top;\n",
       "    }\n",
       "\n",
       "    .dataframe thead th {\n",
       "        text-align: right;\n",
       "    }\n",
       "</style>\n",
       "<table border=\"1\" class=\"dataframe\">\n",
       "  <thead>\n",
       "    <tr style=\"text-align: right;\">\n",
       "      <th></th>\n",
       "      <th>datetime</th>\n",
       "      <th>minutes</th>\n",
       "      <th>seconds</th>\n",
       "    </tr>\n",
       "  </thead>\n",
       "  <tbody>\n",
       "    <tr>\n",
       "      <th>0</th>\n",
       "      <td>2018-12-16 09:30:07</td>\n",
       "      <td>30</td>\n",
       "      <td>07</td>\n",
       "    </tr>\n",
       "    <tr>\n",
       "      <th>1</th>\n",
       "      <td>2018-11-27 02:00:23</td>\n",
       "      <td>00</td>\n",
       "      <td>23</td>\n",
       "    </tr>\n",
       "    <tr>\n",
       "      <th>2</th>\n",
       "      <td>2018-11-28 01:00:22</td>\n",
       "      <td>00</td>\n",
       "      <td>22</td>\n",
       "    </tr>\n",
       "    <tr>\n",
       "      <th>3</th>\n",
       "      <td>2018-11-30 04:53:02</td>\n",
       "      <td>53</td>\n",
       "      <td>02</td>\n",
       "    </tr>\n",
       "    <tr>\n",
       "      <th>4</th>\n",
       "      <td>2018-11-29 03:49:20</td>\n",
       "      <td>49</td>\n",
       "      <td>20</td>\n",
       "    </tr>\n",
       "  </tbody>\n",
       "</table>\n",
       "</div>"
      ],
      "text/plain": [
       "              datetime minutes seconds\n",
       "0  2018-12-16 09:30:07      30      07\n",
       "1  2018-11-27 02:00:23      00      23\n",
       "2  2018-11-28 01:00:22      00      22\n",
       "3  2018-11-30 04:53:02      53      02\n",
       "4  2018-11-29 03:49:20      49      20"
      ]
     },
     "execution_count": 8,
     "metadata": {},
     "output_type": "execute_result"
    }
   ],
   "source": [
    "df1[\"minutes\"] = df1[\"datetime\"].apply(lambda x: x[-5:-3])\n",
    "df1[\"seconds\"] = df1[\"datetime\"].apply(lambda x: x[-2:])\n",
    "df1[[\"datetime\", \"minutes\", \"seconds\"]].head()"
   ]
  },
  {
   "cell_type": "code",
   "execution_count": 9,
   "metadata": {},
   "outputs": [],
   "source": [
    "df1[\"minutes\"] = df1[\"minutes\"].astype(\"int\")\n",
    "df1[\"seconds\"] = df1[\"seconds\"].astype(\"int\")"
   ]
  },
  {
   "cell_type": "markdown",
   "metadata": {},
   "source": [
    "Ahora sí podemos eliminar la columna datetime."
   ]
  },
  {
   "cell_type": "code",
   "execution_count": 10,
   "metadata": {},
   "outputs": [],
   "source": [
    "df1.drop(\"datetime\", axis=1, inplace=True)"
   ]
  },
  {
   "cell_type": "markdown",
   "metadata": {},
   "source": [
    "Por último modificamos el tipo de dato a strings para las columnas relacionadas con la etiqueta: cab_type, product_id y name"
   ]
  },
  {
   "cell_type": "code",
   "execution_count": 11,
   "metadata": {},
   "outputs": [],
   "source": [
    "df1[\"cab_type\"] = df1[\"cab_type\"].astype(\"string\")\n",
    "df1[\"product_id\"] = df1[\"product_id\"].astype(\"string\")\n",
    "df1[\"name\"] = df1[\"name\"].astype(\"string\")"
   ]
  },
  {
   "cell_type": "markdown",
   "metadata": {},
   "source": [
    "Verificamos los cambios"
   ]
  },
  {
   "cell_type": "code",
   "execution_count": 18,
   "metadata": {},
   "outputs": [
    {
     "name": "stdout",
     "output_type": "stream",
     "text": [
      "<class 'pandas.core.frame.DataFrame'>\n",
      "RangeIndex: 693071 entries, 0 to 693070\n",
      "Data columns (total 56 columns):\n",
      " #   Column                       Non-Null Count   Dtype  \n",
      "---  ------                       --------------   -----  \n",
      " 0   timestamp                    693071 non-null  float64\n",
      " 1   hour                         693071 non-null  int64  \n",
      " 2   day                          693071 non-null  int64  \n",
      " 3   month                        693071 non-null  int64  \n",
      " 4   source                       693071 non-null  string \n",
      " 5   destination                  693071 non-null  string \n",
      " 6   cab_type                     693071 non-null  string \n",
      " 7   product_id                   693071 non-null  string \n",
      " 8   name                         693071 non-null  string \n",
      " 9   price                        637976 non-null  float64\n",
      " 10  distance                     693071 non-null  float64\n",
      " 11  surge_multiplier             693071 non-null  float64\n",
      " 12  latitude                     693071 non-null  float64\n",
      " 13  longitude                    693071 non-null  float64\n",
      " 14  temperature                  693071 non-null  float64\n",
      " 15  apparentTemperature          693071 non-null  float64\n",
      " 16  short_summary                693071 non-null  string \n",
      " 17  long_summary                 693071 non-null  string \n",
      " 18  precipIntensity              693071 non-null  float64\n",
      " 19  precipProbability            693071 non-null  float64\n",
      " 20  humidity                     693071 non-null  float64\n",
      " 21  windSpeed                    693071 non-null  float64\n",
      " 22  windGust                     693071 non-null  float64\n",
      " 23  windGustTime                 693071 non-null  int64  \n",
      " 24  visibility                   693071 non-null  float64\n",
      " 25  temperatureHigh              693071 non-null  float64\n",
      " 26  temperatureHighTime          693071 non-null  int64  \n",
      " 27  temperatureLow               693071 non-null  float64\n",
      " 28  temperatureLowTime           693071 non-null  int64  \n",
      " 29  apparentTemperatureHigh      693071 non-null  float64\n",
      " 30  apparentTemperatureHighTime  693071 non-null  int64  \n",
      " 31  apparentTemperatureLow       693071 non-null  float64\n",
      " 32  apparentTemperatureLowTime   693071 non-null  int64  \n",
      " 33  icon                         693071 non-null  string \n",
      " 34  dewPoint                     693071 non-null  float64\n",
      " 35  pressure                     693071 non-null  float64\n",
      " 36  windBearing                  693071 non-null  int64  \n",
      " 37  cloudCover                   693071 non-null  float64\n",
      " 38  uvIndex                      693071 non-null  int64  \n",
      " 39  visibility.1                 693071 non-null  float64\n",
      " 40  ozone                        693071 non-null  float64\n",
      " 41  sunriseTime                  693071 non-null  int64  \n",
      " 42  sunsetTime                   693071 non-null  int64  \n",
      " 43  moonPhase                    693071 non-null  float64\n",
      " 44  precipIntensityMax           693071 non-null  float64\n",
      " 45  uvIndexTime                  693071 non-null  int64  \n",
      " 46  temperatureMin               693071 non-null  float64\n",
      " 47  temperatureMinTime           693071 non-null  int64  \n",
      " 48  temperatureMax               693071 non-null  float64\n",
      " 49  temperatureMaxTime           693071 non-null  int64  \n",
      " 50  apparentTemperatureMin       693071 non-null  float64\n",
      " 51  apparentTemperatureMinTime   693071 non-null  int64  \n",
      " 52  apparentTemperatureMax       693071 non-null  float64\n",
      " 53  apparentTemperatureMaxTime   693071 non-null  int64  \n",
      " 54  minutes                      693071 non-null  int32  \n",
      " 55  seconds                      693071 non-null  int32  \n",
      "dtypes: float64(29), int32(2), int64(17), string(8)\n",
      "memory usage: 290.8 MB\n"
     ]
    }
   ],
   "source": [
    "df1.info()"
   ]
  },
  {
   "cell_type": "markdown",
   "metadata": {},
   "source": [
    "Hasta aquí podemos utilizar este conjunto como un dataset más robusto. Sin embargo, adicionalmente quiero hacer un segundo conjunto algo más reducido: sin las clases product_id y name para no relacionarlas directamente con la etiqueta. Y sin las fechas que están en formato de timestamp, es decir, sin la columna timestamp y sin las columnas de variables climáticas que involucran fechas. Esto porque ya tenemos las columnas que nos indican la fecha y hora del viaje. Por lo que quiero ver el desempeño del modelo con y sin esa información repetitiva sobre fechas."
   ]
  },
  {
   "cell_type": "markdown",
   "metadata": {},
   "source": [
    "Guardamos entonces el dataset más robusto"
   ]
  },
  {
   "cell_type": "code",
   "execution_count": 12,
   "metadata": {},
   "outputs": [],
   "source": [
    "dfRobusto = df1.iloc[:,:]"
   ]
  },
  {
   "cell_type": "markdown",
   "metadata": {},
   "source": [
    "Generamos el dataset eliminando todas las columnas descritas."
   ]
  },
  {
   "cell_type": "code",
   "execution_count": 13,
   "metadata": {},
   "outputs": [],
   "source": [
    "eliminadas = [\"timestamp\", \"product_id\", \"name\", \"windGustTime\", \"temperatureHighTime\", \"temperatureLowTime\", \"apparentTemperatureHighTime\", \"apparentTemperatureLowTime\", \"sunriseTime\", \"sunsetTime\", \"uvIndexTime\", \"temperatureMinTime\", \"temperatureMaxTime\", \"apparentTemperatureMinTime\", \"apparentTemperatureMaxTime\"]"
   ]
  },
  {
   "cell_type": "code",
   "execution_count": 14,
   "metadata": {},
   "outputs": [],
   "source": [
    "dfLigero = df1.drop(eliminadas, axis=1)"
   ]
  },
  {
   "cell_type": "code",
   "execution_count": 22,
   "metadata": {},
   "outputs": [
    {
     "data": {
      "text/html": [
       "<div>\n",
       "<style scoped>\n",
       "    .dataframe tbody tr th:only-of-type {\n",
       "        vertical-align: middle;\n",
       "    }\n",
       "\n",
       "    .dataframe tbody tr th {\n",
       "        vertical-align: top;\n",
       "    }\n",
       "\n",
       "    .dataframe thead th {\n",
       "        text-align: right;\n",
       "    }\n",
       "</style>\n",
       "<table border=\"1\" class=\"dataframe\">\n",
       "  <thead>\n",
       "    <tr style=\"text-align: right;\">\n",
       "      <th></th>\n",
       "      <th>hour</th>\n",
       "      <th>day</th>\n",
       "      <th>month</th>\n",
       "      <th>source</th>\n",
       "      <th>destination</th>\n",
       "      <th>cab_type</th>\n",
       "      <th>price</th>\n",
       "      <th>distance</th>\n",
       "      <th>surge_multiplier</th>\n",
       "      <th>latitude</th>\n",
       "      <th>...</th>\n",
       "      <th>visibility.1</th>\n",
       "      <th>ozone</th>\n",
       "      <th>moonPhase</th>\n",
       "      <th>precipIntensityMax</th>\n",
       "      <th>temperatureMin</th>\n",
       "      <th>temperatureMax</th>\n",
       "      <th>apparentTemperatureMin</th>\n",
       "      <th>apparentTemperatureMax</th>\n",
       "      <th>minutes</th>\n",
       "      <th>seconds</th>\n",
       "    </tr>\n",
       "  </thead>\n",
       "  <tbody>\n",
       "    <tr>\n",
       "      <th>0</th>\n",
       "      <td>9</td>\n",
       "      <td>16</td>\n",
       "      <td>12</td>\n",
       "      <td>Haymarket Square</td>\n",
       "      <td>North Station</td>\n",
       "      <td>Lyft</td>\n",
       "      <td>5.0</td>\n",
       "      <td>0.44</td>\n",
       "      <td>1.0</td>\n",
       "      <td>42.2148</td>\n",
       "      <td>...</td>\n",
       "      <td>10.000</td>\n",
       "      <td>303.8</td>\n",
       "      <td>0.30</td>\n",
       "      <td>0.1276</td>\n",
       "      <td>39.89</td>\n",
       "      <td>43.68</td>\n",
       "      <td>33.73</td>\n",
       "      <td>38.07</td>\n",
       "      <td>30</td>\n",
       "      <td>7</td>\n",
       "    </tr>\n",
       "    <tr>\n",
       "      <th>1</th>\n",
       "      <td>2</td>\n",
       "      <td>27</td>\n",
       "      <td>11</td>\n",
       "      <td>Haymarket Square</td>\n",
       "      <td>North Station</td>\n",
       "      <td>Lyft</td>\n",
       "      <td>11.0</td>\n",
       "      <td>0.44</td>\n",
       "      <td>1.0</td>\n",
       "      <td>42.2148</td>\n",
       "      <td>...</td>\n",
       "      <td>4.786</td>\n",
       "      <td>291.1</td>\n",
       "      <td>0.64</td>\n",
       "      <td>0.1300</td>\n",
       "      <td>40.49</td>\n",
       "      <td>47.30</td>\n",
       "      <td>36.20</td>\n",
       "      <td>43.92</td>\n",
       "      <td>0</td>\n",
       "      <td>23</td>\n",
       "    </tr>\n",
       "    <tr>\n",
       "      <th>2</th>\n",
       "      <td>1</td>\n",
       "      <td>28</td>\n",
       "      <td>11</td>\n",
       "      <td>Haymarket Square</td>\n",
       "      <td>North Station</td>\n",
       "      <td>Lyft</td>\n",
       "      <td>7.0</td>\n",
       "      <td>0.44</td>\n",
       "      <td>1.0</td>\n",
       "      <td>42.2148</td>\n",
       "      <td>...</td>\n",
       "      <td>10.000</td>\n",
       "      <td>315.7</td>\n",
       "      <td>0.68</td>\n",
       "      <td>0.1064</td>\n",
       "      <td>35.36</td>\n",
       "      <td>47.55</td>\n",
       "      <td>31.04</td>\n",
       "      <td>44.12</td>\n",
       "      <td>0</td>\n",
       "      <td>22</td>\n",
       "    </tr>\n",
       "    <tr>\n",
       "      <th>3</th>\n",
       "      <td>4</td>\n",
       "      <td>30</td>\n",
       "      <td>11</td>\n",
       "      <td>Haymarket Square</td>\n",
       "      <td>North Station</td>\n",
       "      <td>Lyft</td>\n",
       "      <td>26.0</td>\n",
       "      <td>0.44</td>\n",
       "      <td>1.0</td>\n",
       "      <td>42.2148</td>\n",
       "      <td>...</td>\n",
       "      <td>10.000</td>\n",
       "      <td>291.1</td>\n",
       "      <td>0.75</td>\n",
       "      <td>0.0000</td>\n",
       "      <td>34.67</td>\n",
       "      <td>45.03</td>\n",
       "      <td>30.30</td>\n",
       "      <td>38.53</td>\n",
       "      <td>53</td>\n",
       "      <td>2</td>\n",
       "    </tr>\n",
       "    <tr>\n",
       "      <th>4</th>\n",
       "      <td>3</td>\n",
       "      <td>29</td>\n",
       "      <td>11</td>\n",
       "      <td>Haymarket Square</td>\n",
       "      <td>North Station</td>\n",
       "      <td>Lyft</td>\n",
       "      <td>9.0</td>\n",
       "      <td>0.44</td>\n",
       "      <td>1.0</td>\n",
       "      <td>42.2148</td>\n",
       "      <td>...</td>\n",
       "      <td>10.000</td>\n",
       "      <td>347.7</td>\n",
       "      <td>0.72</td>\n",
       "      <td>0.0001</td>\n",
       "      <td>33.10</td>\n",
       "      <td>42.18</td>\n",
       "      <td>29.11</td>\n",
       "      <td>35.75</td>\n",
       "      <td>49</td>\n",
       "      <td>20</td>\n",
       "    </tr>\n",
       "  </tbody>\n",
       "</table>\n",
       "<p>5 rows × 41 columns</p>\n",
       "</div>"
      ],
      "text/plain": [
       "   hour  day  month            source    destination cab_type  price  \\\n",
       "0     9   16     12  Haymarket Square  North Station     Lyft    5.0   \n",
       "1     2   27     11  Haymarket Square  North Station     Lyft   11.0   \n",
       "2     1   28     11  Haymarket Square  North Station     Lyft    7.0   \n",
       "3     4   30     11  Haymarket Square  North Station     Lyft   26.0   \n",
       "4     3   29     11  Haymarket Square  North Station     Lyft    9.0   \n",
       "\n",
       "   distance  surge_multiplier  latitude  ...  visibility.1  ozone  moonPhase  \\\n",
       "0      0.44               1.0   42.2148  ...        10.000  303.8       0.30   \n",
       "1      0.44               1.0   42.2148  ...         4.786  291.1       0.64   \n",
       "2      0.44               1.0   42.2148  ...        10.000  315.7       0.68   \n",
       "3      0.44               1.0   42.2148  ...        10.000  291.1       0.75   \n",
       "4      0.44               1.0   42.2148  ...        10.000  347.7       0.72   \n",
       "\n",
       "  precipIntensityMax temperatureMin  temperatureMax  apparentTemperatureMin  \\\n",
       "0             0.1276          39.89           43.68                   33.73   \n",
       "1             0.1300          40.49           47.30                   36.20   \n",
       "2             0.1064          35.36           47.55                   31.04   \n",
       "3             0.0000          34.67           45.03                   30.30   \n",
       "4             0.0001          33.10           42.18                   29.11   \n",
       "\n",
       "   apparentTemperatureMax  minutes  seconds  \n",
       "0                   38.07       30        7  \n",
       "1                   43.92        0       23  \n",
       "2                   44.12        0       22  \n",
       "3                   38.53       53        2  \n",
       "4                   35.75       49       20  \n",
       "\n",
       "[5 rows x 41 columns]"
      ]
     },
     "execution_count": 22,
     "metadata": {},
     "output_type": "execute_result"
    }
   ],
   "source": [
    "dfLigero.head()"
   ]
  },
  {
   "cell_type": "markdown",
   "metadata": {},
   "source": [
    "Con nuestros dos dataframes podemos seguir a la siguiente fase"
   ]
  },
  {
   "cell_type": "markdown",
   "metadata": {},
   "source": [
    "## Preprocesamiento de datos"
   ]
  },
  {
   "cell_type": "markdown",
   "metadata": {},
   "source": [
    "### Manejo de datos nulos"
   ]
  },
  {
   "cell_type": "markdown",
   "metadata": {},
   "source": [
    "Comenzamos comparando la media con la mediana."
   ]
  },
  {
   "cell_type": "code",
   "execution_count": 15,
   "metadata": {},
   "outputs": [
    {
     "name": "stdout",
     "output_type": "stream",
     "text": [
      "Media: 16.545125490614065\n",
      "Mediana: 13.5\n"
     ]
    }
   ],
   "source": [
    "media, mediana = dfLigero[\"price\"].mean(), dfLigero[\"price\"].median()\n",
    "print(f\"Media: {media}\\nMediana: {mediana}\")"
   ]
  },
  {
   "cell_type": "code",
   "execution_count": 16,
   "metadata": {},
   "outputs": [
    {
     "data": {
      "text/plain": [
       "count    637976.000000\n",
       "mean         16.545125\n",
       "std           9.324359\n",
       "min           2.500000\n",
       "25%           9.000000\n",
       "50%          13.500000\n",
       "75%          22.500000\n",
       "max          97.500000\n",
       "Name: price, dtype: float64"
      ]
     },
     "execution_count": 16,
     "metadata": {},
     "output_type": "execute_result"
    }
   ],
   "source": [
    "dfLigero[\"price\"].describe()"
   ]
  },
  {
   "cell_type": "code",
   "execution_count": 18,
   "metadata": {},
   "outputs": [
    {
     "data": {
      "image/png": "[encoded data removed]",
      "text/plain": [
       "<Figure size 640x480 with 1 Axes>"
      ]
     },
     "metadata": {},
     "output_type": "display_data"
    }
   ],
   "source": [
    "sns.boxplot(data=dfLigero[\"price\"])\n",
    "plt.show()"
   ]
  },
  {
   "cell_type": "markdown",
   "metadata": {},
   "source": [
    "Con esto podemos ver que tenemos tarifas de viajes muy altas, pero son casos fuera de lo común. Por esa razón la media es mayor que la mediana. Ahora bien, para rellenar los datos nulos lo haremos con la mediana para mantener la distribución de los datos y por el tema de evitar los posibles sesgos que la media pueda tener."
   ]
  },
  {
   "cell_type": "code",
   "execution_count": 16,
   "metadata": {},
   "outputs": [],
   "source": [
    "dfRobusto[\"price\"] = dfRobusto[\"price\"].fillna(mediana)\n",
    "dfLigero[\"price\"] = dfLigero[\"price\"].fillna(mediana)"
   ]
  },
  {
   "cell_type": "code",
   "execution_count": 20,
   "metadata": {},
   "outputs": [
    {
     "name": "stdout",
     "output_type": "stream",
     "text": [
      "<class 'pandas.core.series.Series'>\n",
      "RangeIndex: 693071 entries, 0 to 693070\n",
      "Series name: price\n",
      "Non-Null Count   Dtype  \n",
      "--------------   -----  \n",
      "693071 non-null  float64\n",
      "dtypes: float64(1)\n",
      "memory usage: 5.3 MB\n"
     ]
    }
   ],
   "source": [
    "dfRobusto[\"price\"].info()"
   ]
  },
  {
   "cell_type": "code",
   "execution_count": 21,
   "metadata": {},
   "outputs": [
    {
     "name": "stdout",
     "output_type": "stream",
     "text": [
      "<class 'pandas.core.series.Series'>\n",
      "RangeIndex: 693071 entries, 0 to 693070\n",
      "Series name: price\n",
      "Non-Null Count   Dtype  \n",
      "--------------   -----  \n",
      "693071 non-null  float64\n",
      "dtypes: float64(1)\n",
      "memory usage: 5.3 MB\n"
     ]
    }
   ],
   "source": [
    "dfLigero[\"price\"].info()"
   ]
  },
  {
   "cell_type": "markdown",
   "metadata": {},
   "source": [
    "### Manejo de datos categóricos"
   ]
  },
  {
   "cell_type": "markdown",
   "metadata": {},
   "source": [
    "Busquemos en ambos dataframes las columnas que son categóricas."
   ]
  },
  {
   "cell_type": "code",
   "execution_count": 15,
   "metadata": {},
   "outputs": [
    {
     "data": {
      "text/plain": [
       "Index(['source', 'destination', 'cab_type', 'short_summary', 'long_summary',\n",
       "       'icon'],\n",
       "      dtype='object')"
      ]
     },
     "execution_count": 15,
     "metadata": {},
     "output_type": "execute_result"
    }
   ],
   "source": [
    "dfLigero.select_dtypes(include=[\"string\"]).columns"
   ]
  },
  {
   "cell_type": "code",
   "execution_count": 16,
   "metadata": {},
   "outputs": [
    {
     "data": {
      "text/plain": [
       "Index(['source', 'destination', 'cab_type', 'product_id', 'name',\n",
       "       'short_summary', 'long_summary', 'icon'],\n",
       "      dtype='object')"
      ]
     },
     "execution_count": 16,
     "metadata": {},
     "output_type": "execute_result"
    }
   ],
   "source": [
    "dfRobusto.select_dtypes(include=[\"string\"]).columns"
   ]
  },
  {
   "cell_type": "markdown",
   "metadata": {},
   "source": [
    "Para evitar el tema de asignar un orden a nuestros datos al mapear las variables categóricas. Vamos a usar el LabelEnconder únicamente para la columna \"cab_type\". De hecho, esta columna es nuestra clase"
   ]
  },
  {
   "cell_type": "code",
   "execution_count": 17,
   "metadata": {},
   "outputs": [],
   "source": [
    "le = LabelEncoder()\n",
    "dfLigero[\"cab_type\"] = le.fit_transform(dfLigero[\"cab_type\"])\n",
    "dfRobusto[\"cab_type\"] = le.fit_transform(dfRobusto[\"cab_type\"])"
   ]
  },
  {
   "cell_type": "code",
   "execution_count": null,
   "metadata": {},
   "outputs": [
    {
     "data": {
      "text/plain": [
       "0    0\n",
       "1    0\n",
       "2    0\n",
       "3    0\n",
       "4    0\n",
       "Name: cab_type, dtype: int32"
      ]
     },
     "metadata": {},
     "output_type": "display_data"
    }
   ],
   "source": [
    "dfRobusto[\"cab_type\"].head()"
   ]
  },
  {
   "cell_type": "code",
   "execution_count": null,
   "metadata": {},
   "outputs": [
    {
     "data": {
      "text/plain": [
       "cab_type\n",
       "1    385663\n",
       "0    307408\n",
       "Name: count, dtype: int64"
      ]
     },
     "metadata": {},
     "output_type": "display_data"
    }
   ],
   "source": [
    "dfLigero[\"cab_type\"].value_counts()"
   ]
  },
  {
   "cell_type": "markdown",
   "metadata": {},
   "source": [
    "Por lo tanto, 1 es la etiqueta de Uber y 0 Lyft"
   ]
  },
  {
   "cell_type": "markdown",
   "metadata": {},
   "source": [
    "Pasemos con las columnas a las que vamos a aplicar el OneHotEncoder"
   ]
  },
  {
   "cell_type": "code",
   "execution_count": 19,
   "metadata": {},
   "outputs": [],
   "source": [
    "columnasLigeras = ['source', 'destination', 'short_summary', 'long_summary', 'icon']\n",
    "columnasRobustas = ['source', 'destination', 'product_id', 'name', 'short_summary', 'long_summary', 'icon']"
   ]
  },
  {
   "cell_type": "code",
   "execution_count": 20,
   "metadata": {},
   "outputs": [],
   "source": [
    "ohe = OneHotEncoder() # Iniciamos el transformador\n",
    "\n",
    "# Lo aplicamos y nos regresa una matriz dispersa\n",
    "matrizDispersaLigera = ohe.fit_transform(dfLigero[columnasLigeras])\n",
    "matrizDispersaRobusta = ohe.fit_transform(dfRobusto[columnasRobustas])\n",
    "\n",
    "# Volvemos a crear el dataframe ya codificado\n",
    "dfLigeroCodificado = pd.DataFrame.sparse.from_spmatrix(matrizDispersaLigera)\n",
    "dfRobustoCodificado = pd.DataFrame.sparse.from_spmatrix(matrizDispersaRobusta)\n",
    "\n",
    "# Creamos el dataframe final con el original y la codificación del onehotenconder\n",
    "dfLigeroFinal = pd.concat([dfLigero, dfLigeroCodificado], axis=1)\n",
    "dfLigeroFinal = dfLigeroFinal.drop(columnasLigeras, axis=1)\n",
    "dfRobustoFinal = pd.concat([dfRobusto, dfRobustoCodificado], axis=1)\n",
    "dfRobustoFinal = dfRobustoFinal.drop(columnasRobustas, axis=1)\n",
    "\n",
    "# Como no asigmanos nombres a las columnas creadas con el onehotenconder, sklearn les asigna un numero. Sin embargo para evitar errores transformamos todo a strings\n",
    "dfLigeroFinal.columns = dfLigeroFinal.columns.astype(\"string\")\n",
    "dfRobustoFinal.columns = dfRobustoFinal.columns.astype(\"string\")"
   ]
  },
  {
   "cell_type": "code",
   "execution_count": 28,
   "metadata": {},
   "outputs": [
    {
     "data": {
      "text/html": [
       "<div>\n",
       "<style scoped>\n",
       "    .dataframe tbody tr th:only-of-type {\n",
       "        vertical-align: middle;\n",
       "    }\n",
       "\n",
       "    .dataframe tbody tr th {\n",
       "        vertical-align: top;\n",
       "    }\n",
       "\n",
       "    .dataframe thead th {\n",
       "        text-align: right;\n",
       "    }\n",
       "</style>\n",
       "<table border=\"1\" class=\"dataframe\">\n",
       "  <thead>\n",
       "    <tr style=\"text-align: right;\">\n",
       "      <th></th>\n",
       "      <th>hour</th>\n",
       "      <th>day</th>\n",
       "      <th>month</th>\n",
       "      <th>cab_type</th>\n",
       "      <th>price</th>\n",
       "      <th>distance</th>\n",
       "      <th>surge_multiplier</th>\n",
       "      <th>latitude</th>\n",
       "      <th>longitude</th>\n",
       "      <th>temperature</th>\n",
       "      <th>...</th>\n",
       "      <th>41</th>\n",
       "      <th>42</th>\n",
       "      <th>43</th>\n",
       "      <th>44</th>\n",
       "      <th>45</th>\n",
       "      <th>46</th>\n",
       "      <th>47</th>\n",
       "      <th>48</th>\n",
       "      <th>49</th>\n",
       "      <th>50</th>\n",
       "    </tr>\n",
       "  </thead>\n",
       "  <tbody>\n",
       "    <tr>\n",
       "      <th>0</th>\n",
       "      <td>9</td>\n",
       "      <td>16</td>\n",
       "      <td>12</td>\n",
       "      <td>0</td>\n",
       "      <td>5.0</td>\n",
       "      <td>0.44</td>\n",
       "      <td>1.0</td>\n",
       "      <td>42.2148</td>\n",
       "      <td>-71.033</td>\n",
       "      <td>42.34</td>\n",
       "      <td>...</td>\n",
       "      <td>0</td>\n",
       "      <td>1.0</td>\n",
       "      <td>0</td>\n",
       "      <td>0</td>\n",
       "      <td>0</td>\n",
       "      <td>0</td>\n",
       "      <td>0</td>\n",
       "      <td>0</td>\n",
       "      <td>1.0</td>\n",
       "      <td>0</td>\n",
       "    </tr>\n",
       "    <tr>\n",
       "      <th>1</th>\n",
       "      <td>2</td>\n",
       "      <td>27</td>\n",
       "      <td>11</td>\n",
       "      <td>0</td>\n",
       "      <td>11.0</td>\n",
       "      <td>0.44</td>\n",
       "      <td>1.0</td>\n",
       "      <td>42.2148</td>\n",
       "      <td>-71.033</td>\n",
       "      <td>43.58</td>\n",
       "      <td>...</td>\n",
       "      <td>0</td>\n",
       "      <td>0</td>\n",
       "      <td>1.0</td>\n",
       "      <td>0</td>\n",
       "      <td>0</td>\n",
       "      <td>0</td>\n",
       "      <td>0</td>\n",
       "      <td>0</td>\n",
       "      <td>0</td>\n",
       "      <td>1.0</td>\n",
       "    </tr>\n",
       "    <tr>\n",
       "      <th>2</th>\n",
       "      <td>1</td>\n",
       "      <td>28</td>\n",
       "      <td>11</td>\n",
       "      <td>0</td>\n",
       "      <td>7.0</td>\n",
       "      <td>0.44</td>\n",
       "      <td>1.0</td>\n",
       "      <td>42.2148</td>\n",
       "      <td>-71.033</td>\n",
       "      <td>38.33</td>\n",
       "      <td>...</td>\n",
       "      <td>0</td>\n",
       "      <td>0</td>\n",
       "      <td>0</td>\n",
       "      <td>0</td>\n",
       "      <td>1.0</td>\n",
       "      <td>0</td>\n",
       "      <td>0</td>\n",
       "      <td>0</td>\n",
       "      <td>0</td>\n",
       "      <td>0</td>\n",
       "    </tr>\n",
       "    <tr>\n",
       "      <th>3</th>\n",
       "      <td>4</td>\n",
       "      <td>30</td>\n",
       "      <td>11</td>\n",
       "      <td>0</td>\n",
       "      <td>26.0</td>\n",
       "      <td>0.44</td>\n",
       "      <td>1.0</td>\n",
       "      <td>42.2148</td>\n",
       "      <td>-71.033</td>\n",
       "      <td>34.38</td>\n",
       "      <td>...</td>\n",
       "      <td>0</td>\n",
       "      <td>0</td>\n",
       "      <td>0</td>\n",
       "      <td>0</td>\n",
       "      <td>1.0</td>\n",
       "      <td>0</td>\n",
       "      <td>0</td>\n",
       "      <td>0</td>\n",
       "      <td>0</td>\n",
       "      <td>0</td>\n",
       "    </tr>\n",
       "    <tr>\n",
       "      <th>4</th>\n",
       "      <td>3</td>\n",
       "      <td>29</td>\n",
       "      <td>11</td>\n",
       "      <td>0</td>\n",
       "      <td>9.0</td>\n",
       "      <td>0.44</td>\n",
       "      <td>1.0</td>\n",
       "      <td>42.2148</td>\n",
       "      <td>-71.033</td>\n",
       "      <td>37.44</td>\n",
       "      <td>...</td>\n",
       "      <td>0</td>\n",
       "      <td>0</td>\n",
       "      <td>0</td>\n",
       "      <td>0</td>\n",
       "      <td>0</td>\n",
       "      <td>0</td>\n",
       "      <td>0</td>\n",
       "      <td>0</td>\n",
       "      <td>1.0</td>\n",
       "      <td>0</td>\n",
       "    </tr>\n",
       "  </tbody>\n",
       "</table>\n",
       "<p>5 rows × 87 columns</p>\n",
       "</div>"
      ],
      "text/plain": [
       "   hour  day  month  cab_type  price  distance  surge_multiplier  latitude  \\\n",
       "0     9   16     12         0    5.0      0.44               1.0   42.2148   \n",
       "1     2   27     11         0   11.0      0.44               1.0   42.2148   \n",
       "2     1   28     11         0    7.0      0.44               1.0   42.2148   \n",
       "3     4   30     11         0   26.0      0.44               1.0   42.2148   \n",
       "4     3   29     11         0    9.0      0.44               1.0   42.2148   \n",
       "\n",
       "   longitude  temperature  ...  41   42   43  44   45  46  47  48   49   50  \n",
       "0    -71.033        42.34  ...   0  1.0    0   0    0   0   0   0  1.0    0  \n",
       "1    -71.033        43.58  ...   0    0  1.0   0    0   0   0   0    0  1.0  \n",
       "2    -71.033        38.33  ...   0    0    0   0  1.0   0   0   0    0    0  \n",
       "3    -71.033        34.38  ...   0    0    0   0  1.0   0   0   0    0    0  \n",
       "4    -71.033        37.44  ...   0    0    0   0    0   0   0   0  1.0    0  \n",
       "\n",
       "[5 rows x 87 columns]"
      ]
     },
     "execution_count": 28,
     "metadata": {},
     "output_type": "execute_result"
    }
   ],
   "source": [
    "dfLigeroFinal.head()"
   ]
  },
  {
   "cell_type": "markdown",
   "metadata": {},
   "source": [
    "## Dividir los datos en la matriz X y el vector de etiquetas Y"
   ]
  },
  {
   "cell_type": "code",
   "execution_count": 21,
   "metadata": {},
   "outputs": [],
   "source": [
    "YRobusto = dfRobustoFinal[\"cab_type\"]\n",
    "XRobusto = dfRobustoFinal.drop(\"cab_type\", axis=1)\n",
    "\n",
    "YLigero = dfLigeroFinal[\"cab_type\"]\n",
    "XLigero = dfLigeroFinal.drop(\"cab_type\", axis=1)"
   ]
  },
  {
   "cell_type": "markdown",
   "metadata": {},
   "source": [
    "Vamos a optar por la regla de 80% de los datos para el entrenamiento y 20% para la prueba."
   ]
  },
  {
   "cell_type": "code",
   "execution_count": 22,
   "metadata": {},
   "outputs": [],
   "source": [
    "XtrainRobusto, XtestRobusto, YtrainRobusto, YtestRobusto = train_test_split(XRobusto, YRobusto, test_size=0.2)\n",
    "XtrainLigero, XtestLigero, YtrainLigero, YtestLigero = train_test_split(XLigero, YLigero, test_size=0.2)"
   ]
  },
  {
   "cell_type": "markdown",
   "metadata": {},
   "source": [
    "### Estandarización y normalización"
   ]
  },
  {
   "cell_type": "markdown",
   "metadata": {},
   "source": [
    "Vamos primero con la estandarización"
   ]
  },
  {
   "cell_type": "code",
   "execution_count": 23,
   "metadata": {},
   "outputs": [],
   "source": [
    "sc = StandardScaler()\n",
    "\n",
    "dataXtraRo, dataXteRo, dataXtraLi, dataXteLi = sc.fit_transform(XtrainRobusto.values), sc.fit_transform(XtestRobusto.values), sc.fit_transform(XtrainLigero.values), sc.fit_transform(XtestLigero.values)\n",
    "\n",
    "XtrainRobustoEs, XtestRobustoEs, XtrainLigeroEs, XtestLigeroEs = pd.DataFrame(data=dataXtraRo, columns=XtrainRobusto.columns), pd.DataFrame(data=dataXteRo, columns=XtestRobusto.columns), pd.DataFrame(data=dataXtraLi, columns=XtrainLigero.columns), pd.DataFrame(data=dataXteLi, columns=XtestLigero.columns)"
   ]
  },
  {
   "cell_type": "markdown",
   "metadata": {},
   "source": [
    "Vamos ahora con la normalización"
   ]
  },
  {
   "cell_type": "code",
   "execution_count": 24,
   "metadata": {},
   "outputs": [],
   "source": [
    "scaler = MinMaxScaler()\n",
    "\n",
    "dataXtraRo, dataXteRo, dataXtraLi, dataXteLi = scaler.fit_transform(XtrainRobusto.values), scaler.fit_transform(XtestRobusto.values), scaler.fit_transform(XtrainLigero.values), scaler.fit_transform(XtestLigero.values)\n",
    "\n",
    "XtrainRobustoNo, XtestRobustoNo, XtrainLigeroNo, XtestLigeroNo = pd.DataFrame(data=dataXtraRo, columns=XtrainRobusto.columns), pd.DataFrame(data=dataXteRo, columns=XtestRobusto.columns), pd.DataFrame(data=dataXtraLi, columns=XtrainLigero.columns), pd.DataFrame(data=dataXteLi, columns=XtestLigero.columns)"
   ]
  },
  {
   "cell_type": "markdown",
   "metadata": {},
   "source": [
    "## Creación del modelo"
   ]
  },
  {
   "cell_type": "markdown",
   "metadata": {},
   "source": [
    "Ya con nuestros datos listos podemos trabajar en la creación de los modelos.\n",
    "\n",
    "Vamos a tener 4 modelos de regresión logística:\n",
    "1. Uno para el conjunto de datos robusto estandarizado\n",
    "2. Uno para el conjunto de datos robusto normalizado\n",
    "3. Uno para el conjunto de datos ligero estandarizado\n",
    "4. Uno para el conjunto de datos ligero normalizado"
   ]
  },
  {
   "cell_type": "code",
   "execution_count": 25,
   "metadata": {},
   "outputs": [],
   "source": [
    "def regresionLogistica(Xtrain, Xtest, Ytrain):\n",
    "    model = LogisticRegression()\n",
    "    model.fit(Xtrain, Ytrain)\n",
    "    return model.predict(Xtest)"
   ]
  },
  {
   "cell_type": "markdown",
   "metadata": {},
   "source": [
    "# 3. Ejemplo de ejecución con la solución"
   ]
  },
  {
   "cell_type": "markdown",
   "metadata": {},
   "source": [
    "Con nuestra función ya hecha podemos ejecutarla para cada uno de nuestros conjuntos y guardar las predicciones para el análisis."
   ]
  },
  {
   "cell_type": "markdown",
   "metadata": {},
   "source": [
    "## Realizar predicciones"
   ]
  },
  {
   "cell_type": "code",
   "execution_count": 60,
   "metadata": {},
   "outputs": [
    {
     "name": "stderr",
     "output_type": "stream",
     "text": [
      "c:\\Users\\arnol\\AppData\\Local\\Programs\\Python\\Python312\\Lib\\site-packages\\sklearn\\linear_model\\_logistic.py:469: ConvergenceWarning: lbfgs failed to converge (status=1):\n",
      "STOP: TOTAL NO. of ITERATIONS REACHED LIMIT.\n",
      "\n",
      "Increase the number of iterations (max_iter) or scale the data as shown in:\n",
      "    https://scikit-learn.org/stable/modules/preprocessing.html\n",
      "Please also refer to the documentation for alternative solver options:\n",
      "    https://scikit-learn.org/stable/modules/linear_model.html#logistic-regression\n",
      "  n_iter_i = _check_optimize_result(\n"
     ]
    }
   ],
   "source": [
    "YpredRobustoEs = regresionLogistica(XtrainRobustoEs, XtestRobustoEs, YtrainRobusto)\n",
    "YpredRobustoNo = regresionLogistica(XtrainRobustoNo, XtestRobustoNo, YtrainRobusto)\n",
    "YpredLigeroEs = regresionLogistica(XtrainLigeroEs, XtestLigeroEs, YtrainLigero)\n",
    "YpredLigeroNo = regresionLogistica(XtrainLigeroNo, XtestLigeroNo, YtrainLigero)"
   ]
  },
  {
   "cell_type": "markdown",
   "metadata": {},
   "source": [
    "Aquí nos aparecieron mensajes de advertencia de que se alcanzó el limite de la iteración en nuestro modelo. Esta iteración tiene que ver con el ajuste de la función logística (o sigmoide). Las razón principal por la que pasa esto es porque no se alcanza la convergencia con los datos del modelo. Analizemos estas predicciones y si fuera el caso podemos voler a ejecutar nuestros modelos con diferente límite de iteración. (Sobre todo, si alcanzamos el máximo número de iteración y obtenemos métricas muy bajas, quiere decir que a nuestro modelo le faltó entrenamiento, o técnicamente hablando tenemos subajuste)."
   ]
  },
  {
   "cell_type": "markdown",
   "metadata": {},
   "source": [
    "## Analizar los resultados con diferentes métricas"
   ]
  },
  {
   "cell_type": "code",
   "execution_count": 26,
   "metadata": {},
   "outputs": [],
   "source": [
    "def evaluacionModelo(Ytest, Ypred):\n",
    "    cm = confusion_matrix(Ytest, Ypred)\n",
    "    disp = ConfusionMatrixDisplay(confusion_matrix=cm)\n",
    "    disp.plot()\n",
    "    plt.show()\n",
    "\n",
    "    acc = accuracy_score(Ytest, Ypred)\n",
    "    precision = precision_score(Ytest, Ypred)\n",
    "    sensibilidad = recall_score(Ytest, Ypred)\n",
    "    f1 = f1_score(Ytest, Ypred)\n",
    "\n",
    "    print(f'Accuracy = {acc * 100:.2f}%')\n",
    "    print(f\"Precision = {precision * 100:.2f}%\")\n",
    "    print(f\"Sensibilidad = {sensibilidad * 100:.2f}%\")\n",
    "    print(f'F1 Score = = {f1 * 100:.2f}%')"
   ]
  },
  {
   "cell_type": "markdown",
   "metadata": {},
   "source": [
    "Para el conjunto Robusto Estandarizado"
   ]
  },
  {
   "cell_type": "code",
   "execution_count": 62,
   "metadata": {},
   "outputs": [
    {
     "data": {
      "image/png": "[encoded data removed]",
      "text/plain": [
       "<Figure size 640x480 with 2 Axes>"
      ]
     },
     "metadata": {},
     "output_type": "display_data"
    },
    {
     "name": "stdout",
     "output_type": "stream",
     "text": [
      "Accuracy = 100.00%\n",
      "Precision = 100.00%\n",
      "Sensibilidad = 100.00%\n",
      "F1 Score = = 100.00%\n"
     ]
    }
   ],
   "source": [
    "evaluacionModelo(YtestRobusto, YpredRobustoEs)"
   ]
  },
  {
   "cell_type": "markdown",
   "metadata": {},
   "source": [
    "Para el conjunto Robusto Normalizado"
   ]
  },
  {
   "cell_type": "code",
   "execution_count": 63,
   "metadata": {},
   "outputs": [
    {
     "data": {
      "image/png": "[encoded data removed]",
      "text/plain": [
       "<Figure size 640x480 with 2 Axes>"
      ]
     },
     "metadata": {},
     "output_type": "display_data"
    },
    {
     "name": "stdout",
     "output_type": "stream",
     "text": [
      "Accuracy = 100.00%\n",
      "Precision = 100.00%\n",
      "Sensibilidad = 100.00%\n",
      "F1 Score = = 100.00%\n"
     ]
    }
   ],
   "source": [
    "evaluacionModelo(YtestRobusto, YpredRobustoNo)"
   ]
  },
  {
   "cell_type": "markdown",
   "metadata": {},
   "source": [
    "Para el conjunto Ligero Estandarizado"
   ]
  },
  {
   "cell_type": "code",
   "execution_count": 64,
   "metadata": {},
   "outputs": [
    {
     "data": {
      "image/png": "[encoded data removed]",
      "text/plain": [
       "<Figure size 640x480 with 2 Axes>"
      ]
     },
     "metadata": {},
     "output_type": "display_data"
    },
    {
     "name": "stdout",
     "output_type": "stream",
     "text": [
      "Accuracy = 58.88%\n",
      "Precision = 57.80%\n",
      "Sensibilidad = 96.69%\n",
      "F1 Score = = 72.35%\n"
     ]
    }
   ],
   "source": [
    "evaluacionModelo(YtestLigero, YpredLigeroEs)"
   ]
  },
  {
   "cell_type": "markdown",
   "metadata": {},
   "source": [
    "Para el conjunto ligero Normalizado"
   ]
  },
  {
   "cell_type": "code",
   "execution_count": 65,
   "metadata": {},
   "outputs": [
    {
     "data": {
      "image/png": "[encoded data removed]",
      "text/plain": [
       "<Figure size 640x480 with 2 Axes>"
      ]
     },
     "metadata": {},
     "output_type": "display_data"
    },
    {
     "name": "stdout",
     "output_type": "stream",
     "text": [
      "Accuracy = 58.87%\n",
      "Precision = 58.10%\n",
      "Sensibilidad = 93.56%\n",
      "F1 Score = = 71.68%\n"
     ]
    }
   ],
   "source": [
    "evaluacionModelo(YtestLigero, YpredLigeroNo)"
   ]
  },
  {
   "cell_type": "markdown",
   "metadata": {},
   "source": [
    "Comenzemos con el análisis porque tenemos resultados muy interesantes.\n",
    "\n",
    "En primer lugar hay que mencionar el resultado más sorprendete: con los dataframes más robustos se alcanzó una clasificación perfecta: todas las métricas al 100%. Tanto con los datos estandarizados, como con los datos normalizados. \n",
    "\n",
    "En primer lugar, habría que conseguir más datos y verificar estas nuevas predicciones. Esto con el objetivo de ver si tenemos sobreajuste y por eso conseguimos las métricas perfectas.\n",
    "\n",
    "Ahora bien, dado que no tenemos más datos para probar el modelo yo propongo lo siguiente: recordemos que este conjunto robusto no sólo tiene información adicional sobre las horas de ciertos parámetros meteorológicos. Este conjunto tienen 2 columnas: \"name\" y \"product_id\" que hacen referencia directa a la clase que vamos a predecir. Por lo tanto, sugiero hacer un conjunto nuevo sin estas etiquetas para verificar su comportamiento con el modelo. Si aun sin estas etiquetas el modelo sigue con métricas tan espectaculares, habremos encontrado un modelo ganador.\n",
    "\n",
    "Por otro lado tenemos los resultados de los dataframes ligeros. Para empezar hay que decir que la diferencia entre los datos estandarizados y los normalizados no es tan significativa. Sin embargo, por muy poco se consiguieron mejores resultados con los estandarizados. Ahora, respecto al modelo su exactitud es muy mala: tan solo un 58.88%. \n",
    "\n",
    "Para analizar las otras métricas hay que hacer la aclaración que se consideraron la clase 0 (Lyft) como la clase falsa y la clase 1 (Uber) como la clase verdadera. Con esto podemos ver que lo que afectó al modelo es que detectó demasiados falsos positivos (asignó muchos Lift como si fuera Uber). Estos errores de tipo 1 hicieron que la precisión bajara muchísimo y por consiguiente la exactitud. Ahora bien, por estas características del modelo casi no tuvo falsos negativos (no hubo muchos Ubers que clasificara como Lyft). Por eso la sensibilidad subió tanto.\n",
    "\n",
    "Si este modelo con los datos ligeros fuera hecho para medicina sería fenomenal porque no tendría casi falsos negativos. Sin embargo, al ser sobre empresas, Lyft no estaría feliz con que la f1 bajara hasta el 72% porque no detectas sus servicios correctamente (catalogándolos como los de la competencia). Por lo tanto, para este conjunto ligero estandarizado (porque dio mejores resultados que el normalizado) vamos a extender el número de iteraciones en el entrenamiento para ver si converge el modelo y obtenemos resultados más equilibrados."
   ]
  },
  {
   "cell_type": "markdown",
   "metadata": {},
   "source": [
    "De esta forma haremos dos modelos más:\n",
    "1. Uno con un conjunto equilibrado estandarizado (el robusto sin las variables que hacen referencia a las clases).\n",
    "2. Uno con el conjunto ligero estandarizado con más iteraciones que las que vienen por defecto en la regresión logística de scikit-learn"
   ]
  },
  {
   "cell_type": "markdown",
   "metadata": {},
   "source": [
    "**Conjunto equilibrado estandarizado**"
   ]
  },
  {
   "cell_type": "markdown",
   "metadata": {},
   "source": [
    "Repetimos el proceso que hicimos para este dataframe sin las columnas product_id y name"
   ]
  },
  {
   "cell_type": "code",
   "execution_count": 27,
   "metadata": {},
   "outputs": [],
   "source": [
    "dfEquilibrado = dfRobusto.iloc[:,:]\n",
    "dfEquilibrado.drop([\"product_id\", \"name\"], axis=1, inplace=True)\n",
    "\n",
    "columnasEquilibradas = ['source', 'destination', 'short_summary', 'long_summary', 'icon']\n",
    "matrizDispersaEquilibrado = ohe.fit_transform(dfEquilibrado[columnasEquilibradas])\n",
    "dfEquilibradoCodificado = pd.DataFrame.sparse.from_spmatrix(matrizDispersaEquilibrado)\n",
    "dfEquilibradoFinal = pd.concat([dfEquilibrado, dfEquilibradoCodificado], axis=1)\n",
    "dfEquilibradoFinal = dfEquilibradoFinal.drop(columnasEquilibradas, axis=1)\n",
    "dfEquilibradoFinal.columns = dfEquilibradoFinal.columns.astype(\"string\")\n",
    "\n",
    "YEquilibrado = dfRobustoFinal[\"cab_type\"]\n",
    "XEquilibrado = dfRobustoFinal.drop(\"cab_type\", axis=1)\n",
    "\n",
    "XtrainEquilibrado, XtestEquilibrado, YtrainEquilibrado, YtestEquilibrado = train_test_split(XEquilibrado, YEquilibrado, test_size=0.2)\n",
    "\n",
    "dataXtraE, dataXteE = sc.fit_transform(XtrainEquilibrado.values), sc.fit_transform(XtestEquilibrado.values)\n",
    "XtrainEquilibradoEs, XtestEquilibradoEs = pd.DataFrame(data=dataXtraE, columns=XtrainEquilibrado.columns), pd.DataFrame(data=dataXteE, columns=XtestEquilibrado.columns)\n",
    "\n",
    "YpredEquilibradoEs = regresionLogistica(XtrainEquilibradoEs, XtestEquilibradoEs, YtrainEquilibrado)"
   ]
  },
  {
   "cell_type": "markdown",
   "metadata": {},
   "source": [
    "Evaluamos este nuevo modelo"
   ]
  },
  {
   "cell_type": "code",
   "execution_count": 28,
   "metadata": {},
   "outputs": [
    {
     "data": {
      "image/png": "[encoded data removed]",
      "text/plain": [
       "<Figure size 640x480 with 2 Axes>"
      ]
     },
     "metadata": {},
     "output_type": "display_data"
    },
    {
     "name": "stdout",
     "output_type": "stream",
     "text": [
      "Accuracy = 100.00%\n",
      "Precision = 100.00%\n",
      "Sensibilidad = 100.00%\n",
      "F1 Score = = 100.00%\n"
     ]
    }
   ],
   "source": [
    "evaluacionModelo(YtestEquilibrado, YpredEquilibradoEs)"
   ]
  },
  {
   "cell_type": "markdown",
   "metadata": {},
   "source": [
    "¡Volvemos a obtener la clasificación perfecta! Aun sin las variables que hacían referencia directa a la clase."
   ]
  },
  {
   "cell_type": "markdown",
   "metadata": {},
   "source": [
    "**Conjunto ligero estandarizado con más iteraciones**"
   ]
  },
  {
   "cell_type": "markdown",
   "metadata": {},
   "source": [
    "Dado que ya tenemos el conjunto ligero estandarizado preparado, lo único que tenemos que hacer es modificar ligeramente nuestra función para hacer la regresión logística. Esto con el objetivo de asignar nosotros el número máximo de iteraciones."
   ]
  },
  {
   "cell_type": "code",
   "execution_count": 29,
   "metadata": {},
   "outputs": [],
   "source": [
    "def regresionLogisticaIteraciones(Xtrain, Xtest, Ytrain, iteraciones):\n",
    "    model = LogisticRegression(max_iter=iteraciones)\n",
    "    model.fit(Xtrain, Ytrain)\n",
    "    return model.predict(Xtest)"
   ]
  },
  {
   "cell_type": "markdown",
   "metadata": {},
   "source": [
    "Intentemos con 400 iteraciones en lugar de las 100 que vienen por defecto. Sé que esto puede sobreajustar el modelo, pero quiero garantizar que sí se alcance la convergencia."
   ]
  },
  {
   "cell_type": "code",
   "execution_count": 32,
   "metadata": {},
   "outputs": [],
   "source": [
    "YpredLigeroEs = regresionLogisticaIteraciones(XtrainLigeroEs, XtestLigeroEs, YtrainLigero, 400)"
   ]
  },
  {
   "cell_type": "markdown",
   "metadata": {},
   "source": [
    "Veamos los resultados. Todo parece que con las 400 iteraciones se alcanzó la convergencia porque no nos sacó ningún mensaje de advertencia."
   ]
  },
  {
   "cell_type": "code",
   "execution_count": 33,
   "metadata": {},
   "outputs": [
    {
     "data": {
      "image/png": "[encoded data removed]",
      "text/plain": [
       "<Figure size 640x480 with 2 Axes>"
      ]
     },
     "metadata": {},
     "output_type": "display_data"
    },
    {
     "name": "stdout",
     "output_type": "stream",
     "text": [
      "Accuracy = 59.06%\n",
      "Precision = 57.96%\n",
      "Sensibilidad = 96.44%\n",
      "F1 Score = = 72.41%\n"
     ]
    }
   ],
   "source": [
    "evaluacionModelo(YtestLigero, YpredLigeroEs)"
   ]
  },
  {
   "cell_type": "markdown",
   "metadata": {},
   "source": [
    "Aun con todas estas iteraciones no subimos las métricas ni un 1%."
   ]
  },
  {
   "cell_type": "markdown",
   "metadata": {},
   "source": [
    "# 4. Conclusiones"
   ]
  },
  {
   "cell_type": "markdown",
   "metadata": {},
   "source": [
    "Con estos dos últimos modelos podemos llegar a las siguientes conclusiones de nuestros modelos con este conjunto de datos:\n",
    "- En primer lugar, los datos del tiempo marcado en el clima aportan información increiblemente valiosa para nuestro modelo. Sobre todo en cuanto a clasificar correctamente la clase Lyft se refiere. Por lo tanto, eliminarlos fue una muy mala decisión porque eso hizo que las métricas se desplomaran irremediablemente.\n",
    "- En esta ocasión no hubo gran diferencia entre normalizar y estandarizar los datos. Pienso que esto fue así porque la mayoría de las variables cuantitativas ya estaban con valores entre 0 y 1 (por ser probabilísticas).\n",
    "- Quitar o no las variables que hacen referencia a nuestra clase directamente, no afectó el desempeño del algoritmo.\n",
    "- Si bien es muy gratificante tener un modelo de clasificación perfecta, personalmente no cantaría victoria sin antes poder verificar con nuevos datos si se sobreajustó el modelo. Si aun con esos nuevos datos el modelo sostiene sus métricas tan altas, estamos ante un modelo que perfectamente se puede poner en producción.\n",
    "\n",
    "Ahora bien, sobre el trabajo en general podemos hacer varios comentarios finales. El primero es que aunque hacer uso del OneHotEncoder pueda ser tardado, trae muy buenos beneficios al no establecer orden en una variable. Particularmente no le veo problema alguno salvo para los algoritmos que sufren con el aumento de la dimensionalidad en el dataframe.\n",
    "\n",
    "También pudimos ver que probar el mismo algoritmo con diferentes variables del mismo dataframe nos permite comparar su desempeño. Esto es fundamental cuando queremos valorar cuál variable tiene más peso en la toma de decisiones que otras. Dado paso al área de machine learning de reducción de la dimensionalidad.\n",
    "\n",
    "Entiendo que todo dependerá de los datos que estemos trabajando. Sin embargo, después del presente trabajo la regresión logística será de los primeros algoritmos candidatos a revisar cuando abordemos problemas de clasificación binaria.\n",
    "\n",
    "Para futuros trabajos habría que conseguir más datos de este estilo para verificar si nuestro modelo perfecto tiene o no sobreajuste. Si se observa que no tiene sobreajuste el paso siguiente es ponerlo en producción. Por otra parte sería muy bueno revisar cómo funciona la regresión logística cuando se trata de clasificación multiclase."
   ]
  },
  {
   "cell_type": "markdown",
   "metadata": {},
   "source": [
    "# 5. Referencias"
   ]
  },
  {
   "cell_type": "markdown",
   "metadata": {},
   "source": [
    "Adicionalmente al material brindado para la sesión de esta actividad se consultó la documentación de Scikit-Learn sobre el funcionamiento del OneHotEncoder y sobre la misma regresión logística.\n",
    "\n",
    "- https://scikit-learn.org/stable/modules/generated/sklearn.preprocessing.OneHotEncoder.html#sklearn.preprocessing.OneHotEncoder\n",
    "- https://scikit-learn.org/stable/modules/generated/sklearn.linear_model.LogisticRegression.html#sklearn.linear_model.LogisticRegression"
   ]
  }
 ],
 "metadata": {
  "kernelspec": {
   "display_name": "Python 3",
   "language": "python",
   "name": "python3"
  },
  "language_info": {
   "codemirror_mode": {
    "name": "ipython",
    "version": 3
   },
   "file_extension": ".py",
   "mimetype": "text/x-python",
   "name": "python",
   "nbconvert_exporter": "python",
   "pygments_lexer": "ipython3",
   "version": "3.12.1"
  }
 },
 "nbformat": 4,
 "nbformat_minor": 2
}
